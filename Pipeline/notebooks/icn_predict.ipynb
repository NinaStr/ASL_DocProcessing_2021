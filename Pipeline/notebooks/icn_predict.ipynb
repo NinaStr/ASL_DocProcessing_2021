{
 "cells": [
  {
   "cell_type": "markdown",
   "id": "4ed33e30",
   "metadata": {},
   "source": [
    "# Image Classification predict pipeline"
   ]
  },
  {
   "cell_type": "markdown",
   "id": "00f3df1d",
   "metadata": {},
   "source": [
    "input:\n",
    " - bucket of pngs (previous step=pre_predict.ipynb)\n",
    " - BQ dataset name (previous step=pre_predict.ipynb)\n",
    "\n",
    "output:\n",
    " - table in BQ (inside BQ dataset) of (pdf_name, icn_class, icn_confidence)"
   ]
  },
  {
   "cell_type": "code",
   "execution_count": null,
   "id": "5e9cb1f9",
   "metadata": {},
   "outputs": [],
   "source": []
  }
 ],
 "metadata": {
  "environment": {
   "name": "tf2-gpu.2-5.m76",
   "type": "gcloud",
   "uri": "gcr.io/deeplearning-platform-release/tf2-gpu.2-5:m76"
  },
  "kernelspec": {
   "display_name": "Python 3",
   "language": "python",
   "name": "python3"
  },
  "language_info": {
   "codemirror_mode": {
    "name": "ipython",
    "version": 3
   },
   "file_extension": ".py",
   "mimetype": "text/x-python",
   "name": "python",
   "nbconvert_exporter": "python",
   "pygments_lexer": "ipython3",
   "version": "3.7.10"
  }
 },
 "nbformat": 4,
 "nbformat_minor": 5
}
