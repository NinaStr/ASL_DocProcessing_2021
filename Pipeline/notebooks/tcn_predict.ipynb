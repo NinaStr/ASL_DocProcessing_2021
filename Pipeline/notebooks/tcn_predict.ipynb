{
 "cells": [
  {
   "cell_type": "markdown",
   "id": "367060ac",
   "metadata": {},
   "source": [
    "# Text Classification\n",
    "input: prepared pdfs\n",
    "output: created BQ tables"
   ]
  },
  {
   "cell_type": "code",
   "execution_count": 10,
   "id": "50178e44",
   "metadata": {},
   "outputs": [],
   "source": [
    "import utils"
   ]
  },
  {
   "cell_type": "code",
   "execution_count": 9,
   "id": "55f2a0f7",
   "metadata": {},
   "outputs": [
    {
     "data": {
      "text/plain": [
       "<module 'utils' from '/home/jupyter/ASL_DocProcessing_2021/Pipeline/notebooks/utils.py'>"
      ]
     },
     "execution_count": 9,
     "metadata": {},
     "output_type": "execute_result"
    }
   ],
   "source": [
    "utils"
   ]
  },
  {
   "cell_type": "code",
   "execution_count": null,
   "id": "98d7e19c",
   "metadata": {},
   "outputs": [],
   "source": [
    "utils"
   ]
  }
 ],
 "metadata": {
  "environment": {
   "name": "tf2-gpu.2-5.m75",
   "type": "gcloud",
   "uri": "gcr.io/deeplearning-platform-release/tf2-gpu.2-5:m75"
  },
  "kernelspec": {
   "display_name": "Python 3",
   "language": "python",
   "name": "python3"
  },
  "language_info": {
   "codemirror_mode": {
    "name": "ipython",
    "version": 3
   },
   "file_extension": ".py",
   "mimetype": "text/x-python",
   "name": "python",
   "nbconvert_exporter": "python",
   "pygments_lexer": "ipython3",
   "version": "3.7.10"
  }
 },
 "nbformat": 4,
 "nbformat_minor": 5
}
