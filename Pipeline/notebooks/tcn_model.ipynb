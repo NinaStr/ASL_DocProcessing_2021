{
 "cells": [
  {
   "cell_type": "markdown",
   "id": "1cb1df7b",
   "metadata": {},
   "source": [
    "# Prepare data for Text Classification AutoML Model"
   ]
  },
  {
   "cell_type": "code",
   "execution_count": 1,
   "id": "b5dcecb7",
   "metadata": {},
   "outputs": [],
   "source": [
    "PROJECT = !gcloud config get-value project # returns SList\n",
    "PROJECT = PROJECT[0] # gets first element in list -> str\n",
    "REGION = \"us-central1\"  \n",
    "import os\n",
    "os.environ[\"PROJECT\"] = PROJECT\n",
    "os.environ[\"REGION\"] = REGION"
   ]
  },
  {
   "cell_type": "code",
   "execution_count": 2,
   "id": "0aed80db",
   "metadata": {},
   "outputs": [],
   "source": [
    "from google.cloud import bigquery\n",
    "bq = bigquery.Client(project=PROJECT)"
   ]
  },
  {
   "cell_type": "code",
   "execution_count": 3,
   "id": "371cc09a",
   "metadata": {},
   "outputs": [],
   "source": [
    "# create csv dataset containing gcs_path (to .txt file), invention_type (label)\n",
    "# see also: https://github.com/munnm/professional-services/blob/master/examples/cloudml-document-ai-patents/training_utils.py"
   ]
  },
  {
   "cell_type": "code",
   "execution_count": 4,
   "id": "0045abac",
   "metadata": {},
   "outputs": [],
   "source": [
    "# 1. grab bigquery table with invention_types"
   ]
  },
  {
   "cell_type": "code",
   "execution_count": 5,
   "id": "a2d20928",
   "metadata": {},
   "outputs": [],
   "source": [
    "query_string = \"\"\"\n",
    "#standardSQL\n",
    "SELECT\n",
    "    *\n",
    "FROM\n",
    "    `qwiklabs-gcp-00-373ac55d0e0a.labeled_patents.invention_types`\n",
    "\"\"\"\n",
    "\n",
    "invention_types = bq.query(query_string).to_dataframe()"
   ]
  },
  {
   "cell_type": "code",
   "execution_count": 6,
   "id": "2e3044af",
   "metadata": {},
   "outputs": [
    {
     "data": {
      "text/html": [
       "<div>\n",
       "<style scoped>\n",
       "    .dataframe tbody tr th:only-of-type {\n",
       "        vertical-align: middle;\n",
       "    }\n",
       "\n",
       "    .dataframe tbody tr th {\n",
       "        vertical-align: top;\n",
       "    }\n",
       "\n",
       "    .dataframe thead th {\n",
       "        text-align: right;\n",
       "    }\n",
       "</style>\n",
       "<table border=\"1\" class=\"dataframe\">\n",
       "  <thead>\n",
       "    <tr style=\"text-align: right;\">\n",
       "      <th></th>\n",
       "      <th>gcs_path</th>\n",
       "      <th>invention_type</th>\n",
       "    </tr>\n",
       "  </thead>\n",
       "  <tbody>\n",
       "    <tr>\n",
       "      <th>0</th>\n",
       "      <td>gs://gcs-public-data--labeled-patents/us_076.pdf</td>\n",
       "      <td>other</td>\n",
       "    </tr>\n",
       "    <tr>\n",
       "      <th>1</th>\n",
       "      <td>gs://gcs-public-data--labeled-patents/us_081.pdf</td>\n",
       "      <td>other</td>\n",
       "    </tr>\n",
       "    <tr>\n",
       "      <th>2</th>\n",
       "      <td>gs://gcs-public-data--labeled-patents/us_014.pdf</td>\n",
       "      <td>other</td>\n",
       "    </tr>\n",
       "    <tr>\n",
       "      <th>3</th>\n",
       "      <td>gs://gcs-public-data--labeled-patents/us_046.pdf</td>\n",
       "      <td>other</td>\n",
       "    </tr>\n",
       "    <tr>\n",
       "      <th>4</th>\n",
       "      <td>gs://gcs-public-data--labeled-patents/us_036.pdf</td>\n",
       "      <td>other</td>\n",
       "    </tr>\n",
       "  </tbody>\n",
       "</table>\n",
       "</div>"
      ],
      "text/plain": [
       "                                           gcs_path invention_type\n",
       "0  gs://gcs-public-data--labeled-patents/us_076.pdf          other\n",
       "1  gs://gcs-public-data--labeled-patents/us_081.pdf          other\n",
       "2  gs://gcs-public-data--labeled-patents/us_014.pdf          other\n",
       "3  gs://gcs-public-data--labeled-patents/us_046.pdf          other\n",
       "4  gs://gcs-public-data--labeled-patents/us_036.pdf          other"
      ]
     },
     "execution_count": 6,
     "metadata": {},
     "output_type": "execute_result"
    }
   ],
   "source": [
    "invention_types.head()"
   ]
  },
  {
   "cell_type": "code",
   "execution_count": 16,
   "id": "a01f7e65",
   "metadata": {},
   "outputs": [
    {
     "name": "stdout",
     "output_type": "stream",
     "text": [
      "gs://gcs-public-data--labeled-patents/us_024.pdf\n",
      "other\n",
      "\n",
      "gs://gcs-public-data--labeled-patents/us_019.pdf\n",
      "other\n",
      "\n",
      "gs://gcs-public-data--labeled-patents/us_066.pdf\n",
      "other\n",
      "\n",
      "gs://gcs-public-data--labeled-patents/us_092.pdf\n",
      "other\n",
      "\n",
      "gs://gcs-public-data--labeled-patents/us_083.pdf\n",
      "other\n",
      "\n",
      "gs://gcs-public-data--labeled-patents/us_075.pdf\n",
      "other\n",
      "\n",
      "gs://gcs-public-data--labeled-patents/us_061.pdf\n",
      "other\n",
      "\n",
      "gs://gcs-public-data--labeled-patents/us_016.pdf\n",
      "other\n",
      "\n",
      "gs://gcs-public-data--labeled-patents/med_tech_8.pdf\n",
      "med_tech\n",
      "\n",
      "gs://gcs-public-data--labeled-patents/us_099.pdf\n",
      "other\n",
      "\n",
      "gs://gcs-public-data--labeled-patents/us_055.pdf\n",
      "other\n",
      "\n",
      "gs://gcs-public-data--labeled-patents/us_027.pdf\n",
      "other\n",
      "\n",
      "gs://gcs-public-data--labeled-patents/us_087.pdf\n",
      "other\n",
      "\n",
      "gs://gcs-public-data--labeled-patents/us_015.pdf\n",
      "other\n",
      "\n",
      "gs://gcs-public-data--labeled-patents/computer_vision_1.pdf\n",
      "computer_vision\n",
      "\n",
      "gs://gcs-public-data--labeled-patents/us_019.pdf\n",
      "other\n",
      "\n",
      "gs://gcs-public-data--labeled-patents/us_006.pdf\n",
      "other\n",
      "\n",
      "gs://gcs-public-data--labeled-patents/med_tech_16.pdf\n",
      "med_tech\n",
      "\n",
      "gs://gcs-public-data--labeled-patents/us_013.pdf\n",
      "other\n",
      "\n",
      "gs://gcs-public-data--labeled-patents/med_tech_19.pdf\n",
      "med_tech\n",
      "\n",
      "gs://gcs-public-data--labeled-patents/us_004.pdf\n",
      "other\n",
      "\n",
      "gs://gcs-public-data--labeled-patents/us_081.pdf\n",
      "other\n",
      "\n",
      "gs://gcs-public-data--labeled-patents/us_007.pdf\n",
      "other\n",
      "\n",
      "gs://gcs-public-data--labeled-patents/med_tech_8.pdf\n",
      "med_tech\n",
      "\n",
      "gs://gcs-public-data--labeled-patents/crypto_6.pdf\n",
      "crypto\n",
      "\n",
      "gs://gcs-public-data--labeled-patents/us_004.pdf\n",
      "other\n",
      "\n",
      "gs://gcs-public-data--labeled-patents/us_033.pdf\n",
      "other\n",
      "\n",
      "gs://gcs-public-data--labeled-patents/us_087.pdf\n",
      "other\n",
      "\n",
      "gs://gcs-public-data--labeled-patents/crypto_19.pdf\n",
      "crypto\n",
      "\n",
      "gs://gcs-public-data--labeled-patents/us_061.pdf\n",
      "other\n",
      "\n",
      "gs://gcs-public-data--labeled-patents/us_027.pdf\n",
      "other\n",
      "\n",
      "gs://gcs-public-data--labeled-patents/med_tech_20.pdf\n",
      "med_tech\n",
      "\n",
      "gs://gcs-public-data--labeled-patents/us_001.pdf\n",
      "other\n",
      "\n",
      "gs://gcs-public-data--labeled-patents/crypto_4.pdf\n",
      "crypto\n",
      "\n",
      "gs://gcs-public-data--labeled-patents/crypto_14.pdf\n",
      "crypto\n",
      "\n",
      "gs://gcs-public-data--labeled-patents/us_095.pdf\n",
      "other\n",
      "\n",
      "gs://gcs-public-data--labeled-patents/us_074.pdf\n",
      "other\n",
      "\n",
      "gs://gcs-public-data--labeled-patents/computer_vision_3.pdf\n",
      "computer_vision\n",
      "\n",
      "gs://gcs-public-data--labeled-patents/us_037.pdf\n",
      "other\n",
      "\n",
      "gs://gcs-public-data--labeled-patents/med_tech_18.pdf\n",
      "med_tech\n",
      "\n",
      "gs://gcs-public-data--labeled-patents/us_071.pdf\n",
      "other\n",
      "\n",
      "gs://gcs-public-data--labeled-patents/us_064.pdf\n",
      "other\n",
      "\n",
      "gs://gcs-public-data--labeled-patents/crypto_20.pdf\n",
      "crypto\n",
      "\n",
      "gs://gcs-public-data--labeled-patents/us_053.pdf\n",
      "other\n",
      "\n",
      "gs://gcs-public-data--labeled-patents/us_082.pdf\n",
      "other\n",
      "\n",
      "gs://gcs-public-data--labeled-patents/us_074.pdf\n",
      "other\n",
      "\n",
      "gs://gcs-public-data--labeled-patents/us_068.pdf\n",
      "other\n",
      "\n",
      "gs://gcs-public-data--labeled-patents/us_010.pdf\n",
      "other\n",
      "\n",
      "gs://gcs-public-data--labeled-patents/us_071.pdf\n",
      "other\n",
      "\n",
      "gs://gcs-public-data--labeled-patents/us_015.pdf\n",
      "other\n",
      "\n"
     ]
    }
   ],
   "source": [
    "import random\n",
    "random.seed(42)\n",
    "for i in range(50):\n",
    "    idx = random.randint(0,invention_types.shape[0])\n",
    "    print(invention_types.loc[idx, \"gcs_path\"])\n",
    "    print(invention_types.loc[idx, \"invention_type\"])\n",
    "    print()"
   ]
  },
  {
   "cell_type": "code",
   "execution_count": 9,
   "id": "953e2f74",
   "metadata": {},
   "outputs": [],
   "source": [
    "dataset_tcn = invention_types.copy(deep=True)"
   ]
  },
  {
   "cell_type": "code",
   "execution_count": null,
   "id": "621ace16",
   "metadata": {},
   "outputs": [],
   "source": [
    "# change gcs_path to point to .txt files\n",
    "# example gcs_path: gs://gcs-public-data--labeled-patents/us_076.pdf\t"
   ]
  },
  {
   "cell_type": "code",
   "execution_count": 18,
   "id": "352d74e2",
   "metadata": {},
   "outputs": [],
   "source": [
    "def change_gcs_path_to_txt_path(original):\n",
    "    split_path = os.path.split(original)\n",
    "    new_path = os.path.join(\"gs://qwiklabs-gcp-00-373ac55d0e0a/labeled_patents/text\" ,split_path[1])\n",
    "    return new_path\n",
    "\n",
    "def change_extension(original):\n",
    "    return original[:-3] + \"txt\"\n",
    "    "
   ]
  },
  {
   "cell_type": "code",
   "execution_count": 19,
   "id": "7c381b81",
   "metadata": {},
   "outputs": [],
   "source": [
    "dataset_tcn[\"gcs_path\"] = dataset_tcn[\"gcs_path\"].apply(change_gcs_path_to_txt_path)"
   ]
  },
  {
   "cell_type": "code",
   "execution_count": 20,
   "id": "d435b48b",
   "metadata": {},
   "outputs": [],
   "source": [
    "dataset_tcn[\"gcs_path\"] = dataset_tcn[\"gcs_path\"].apply(change_extension)"
   ]
  },
  {
   "cell_type": "code",
   "execution_count": 26,
   "id": "c8becd62",
   "metadata": {},
   "outputs": [
    {
     "data": {
      "text/html": [
       "<div>\n",
       "<style scoped>\n",
       "    .dataframe tbody tr th:only-of-type {\n",
       "        vertical-align: middle;\n",
       "    }\n",
       "\n",
       "    .dataframe tbody tr th {\n",
       "        vertical-align: top;\n",
       "    }\n",
       "\n",
       "    .dataframe thead th {\n",
       "        text-align: right;\n",
       "    }\n",
       "</style>\n",
       "<table border=\"1\" class=\"dataframe\">\n",
       "  <thead>\n",
       "    <tr style=\"text-align: right;\">\n",
       "      <th></th>\n",
       "      <th>gcs_path</th>\n",
       "      <th>invention_type</th>\n",
       "    </tr>\n",
       "  </thead>\n",
       "  <tbody>\n",
       "    <tr>\n",
       "      <th>0</th>\n",
       "      <td>gs://qwiklabs-gcp-00-373ac55d0e0a/labeled_pate...</td>\n",
       "      <td>other</td>\n",
       "    </tr>\n",
       "    <tr>\n",
       "      <th>1</th>\n",
       "      <td>gs://qwiklabs-gcp-00-373ac55d0e0a/labeled_pate...</td>\n",
       "      <td>other</td>\n",
       "    </tr>\n",
       "    <tr>\n",
       "      <th>2</th>\n",
       "      <td>gs://qwiklabs-gcp-00-373ac55d0e0a/labeled_pate...</td>\n",
       "      <td>other</td>\n",
       "    </tr>\n",
       "    <tr>\n",
       "      <th>3</th>\n",
       "      <td>gs://qwiklabs-gcp-00-373ac55d0e0a/labeled_pate...</td>\n",
       "      <td>other</td>\n",
       "    </tr>\n",
       "    <tr>\n",
       "      <th>4</th>\n",
       "      <td>gs://qwiklabs-gcp-00-373ac55d0e0a/labeled_pate...</td>\n",
       "      <td>other</td>\n",
       "    </tr>\n",
       "  </tbody>\n",
       "</table>\n",
       "</div>"
      ],
      "text/plain": [
       "                                            gcs_path invention_type\n",
       "0  gs://qwiklabs-gcp-00-373ac55d0e0a/labeled_pate...          other\n",
       "1  gs://qwiklabs-gcp-00-373ac55d0e0a/labeled_pate...          other\n",
       "2  gs://qwiklabs-gcp-00-373ac55d0e0a/labeled_pate...          other\n",
       "3  gs://qwiklabs-gcp-00-373ac55d0e0a/labeled_pate...          other\n",
       "4  gs://qwiklabs-gcp-00-373ac55d0e0a/labeled_pate...          other"
      ]
     },
     "execution_count": 26,
     "metadata": {},
     "output_type": "execute_result"
    }
   ],
   "source": [
    "dataset_tcn.head()"
   ]
  },
  {
   "cell_type": "code",
   "execution_count": 23,
   "id": "90e62ffd",
   "metadata": {},
   "outputs": [
    {
     "data": {
      "text/plain": [
       "'gs://qwiklabs-gcp-00-373ac55d0e0a/labeled_patents/text/us_076.txt'"
      ]
     },
     "execution_count": 23,
     "metadata": {},
     "output_type": "execute_result"
    }
   ],
   "source": [
    "dataset_tcn.loc[0, \"gcs_path\"]"
   ]
  },
  {
   "cell_type": "code",
   "execution_count": 24,
   "id": "773c9023",
   "metadata": {},
   "outputs": [],
   "source": [
    "# save to csv\n",
    "dataset_tcn.to_csv(\"tcn_dataset.csv\", index=False, header=False)"
   ]
  },
  {
   "cell_type": "code",
   "execution_count": 25,
   "id": "07bd44c8",
   "metadata": {},
   "outputs": [
    {
     "name": "stdout",
     "output_type": "stream",
     "text": [
      "Copying file://./tcn_dataset.csv [Content-Type=text/csv]...\n",
      "/ [1/1 files][ 10.2 KiB/ 10.2 KiB] 100% Done                                    \n",
      "Operation completed over 1 objects/10.2 KiB.                                     \n"
     ]
    }
   ],
   "source": [
    "!gsutil -m cp ./tcn_dataset.csv gs://qwiklabs-gcp-00-373ac55d0e0a/labeled_patents"
   ]
  },
  {
   "cell_type": "code",
   "execution_count": null,
   "id": "b7247b49",
   "metadata": {},
   "outputs": [],
   "source": []
  }
 ],
 "metadata": {
  "environment": {
   "name": "tf2-gpu.2-5.m75",
   "type": "gcloud",
   "uri": "gcr.io/deeplearning-platform-release/tf2-gpu.2-5:m75"
  },
  "kernelspec": {
   "display_name": "Python 3",
   "language": "python",
   "name": "python3"
  },
  "language_info": {
   "codemirror_mode": {
    "name": "ipython",
    "version": 3
   },
   "file_extension": ".py",
   "mimetype": "text/x-python",
   "name": "python",
   "nbconvert_exporter": "python",
   "pygments_lexer": "ipython3",
   "version": "3.7.10"
  }
 },
 "nbformat": 4,
 "nbformat_minor": 5
}
