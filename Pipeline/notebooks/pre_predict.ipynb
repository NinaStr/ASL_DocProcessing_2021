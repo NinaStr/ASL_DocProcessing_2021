{
 "cells": [
  {
   "cell_type": "markdown",
   "id": "e719ddd5",
   "metadata": {},
   "source": [
    "# Prepare pdfs for later in pipeline (Obj Det, Img, text, NER)\n",
    "\n",
    "- user provides\n",
    "    - Google Cloud project (input)\n",
    "    - bucket in GCS of pdfs (input)\n",
    "    - BQ dataset to write prediction results (output)\n",
    "        - BQ table: aggregated results (pdf_name, icn_pred, objdet_pred(coords), text_cn, ner1, ner2, ...., ner)\n",
    "            created with JOIN on pdf_name\n",
    "        - BQ table: icn_preds (pdf_name, icn_pred)    --> this table is made in icn_predict.ipynb\n",
    "        - BQ table: objdet_pred (pdf_name, objdet_pred(coords)) --> this table is made in objdet_predict.ipynb\n",
    "        - BQ table: text_cn (pdf_name, text_cn)    --> this table is made in text_cn_predict.ipynb\n",
    "        - BQ table: ner (pdf_name, ner1, ner2, ...., ner)\n",
    "        \n",
    "- see utils.py for utils functions\n",
    "        "
   ]
  },
  {
   "cell_type": "markdown",
   "id": "c023e75c",
   "metadata": {},
   "source": [
    "Steps: \n",
    " 1. convert pdf to png and write to bucket (for ICN, ObjDet)\n",
    " 2. do ocr on pdf and write to bucket \n",
    " 3. create dataset \n",
    "    "
   ]
  },
  {
   "cell_type": "code",
   "execution_count": null,
   "id": "a152fb8b",
   "metadata": {},
   "outputs": [],
   "source": [
    "PROJECT = !gcloud config get-value project # returns SList\n",
    "PROJECT = PROJECT[0] # gets first element in list -> str\n",
    "REGION = \"us-central1\"  \n",
    "MODEL_RESOURCE_NAME = \"2393478483993952256\"\n",
    "\n",
    "os.environ[\"PROJECT\"] = PROJECT\n",
    "os.environ[\"REGION\"] = REGION"
   ]
  },
  {
   "cell_type": "code",
   "execution_count": null,
   "id": "fac629b0",
   "metadata": {},
   "outputs": [],
   "source": [
    "import os\n",
    "from google.cloud import bigquery\n",
    "bq = bigquery.Client(project=PROJECT)"
   ]
  },
  {
   "cell_type": "code",
   "execution_count": null,
   "id": "6e934620",
   "metadata": {},
   "outputs": [],
   "source": [
    "import logging\n",
    "logging.basicConfig(level=logging.INFO)\n",
    "logger = logging.getLogger(__name__)"
   ]
  },
  {
   "cell_type": "code",
   "execution_count": null,
   "id": "28ece2bf",
   "metadata": {},
   "outputs": [],
   "source": [
    "from google.cloud import storage\n",
    "import tempfile\n",
    "\n"
   ]
  },
  {
   "cell_type": "code",
   "execution_count": null,
   "id": "1485a29b",
   "metadata": {},
   "outputs": [],
   "source": [
    "class Utils():\n",
    "    def __init__(self):\n",
    "        self.storage_client = storage.Client()\n",
    "    \n",
    "    def convert_pdf_to_png(self, src_bucket_name, dst_bucket_name):\n",
    "        \"\"\"Takes pdfs from src_bucket_name and transforms them into png. Then it saves the result in dst_bucket_name\"\"\"\n",
    "        try:\n",
    "            src_bucket = self.storage_client.bucket(src_bucket_name)\n",
    "            dst_bucket = self.storage_client.bucket(dst_bucket_name)\n",
    "\n",
    "            blob_list = [blob for blob in list(bucket.list_blobs()) if \\\n",
    "                         os.path.basename(src_bucket_name) in blob.name and \\\n",
    "                         blob.name.endswith(\".pdf\")]\n",
    "\n",
    "            encoded_img_lst = []\n",
    "\n",
    "            # step 1: create images\n",
    "            for blob in blob_list:\n",
    "                _, tmp_pdf = tempfile.mkstemp()\n",
    "                blob.download_to_filename(tmp_pdf)\n",
    "\n",
    "                image = convert_from_path(tmp_pdf)\n",
    "                image = image[0]                # Only the firs page is going to be analyzed.\n",
    "                img_byte_arr = io.BytesIO()\n",
    "                image.save(img_byte_arr, format='PNG')\n",
    "                img_byte_arr = img_byte_arr.getvalue()\n",
    "                encoded_img_lst.append((blob.name, base64.b64encode(img_byte_arr).decode(\"utf-8\")))\n",
    "\n",
    "\n",
    "            \"gs://bucket/folder/example.pdf\"\n",
    "            \"gs://bucket/example.pdf\"\n",
    "\n",
    "            # step 2: save images in dst_bucket_name\n",
    "            for name, encoded_img in encoded_img_list:\n",
    "                blob = dst_bucket.blob(name+\".png\")\n",
    "                # TODO: Test please\n",
    "                blob.upload_from_string(encoded_img.tobytes())\n",
    "                \n",
    "            return True\n",
    "        \n",
    "        except Exception as e:\n",
    "            logging.error(f\"some error occured: {e}\")\n",
    "            return False\n",
    "    \n",
    "    def ocr(self, src_bucket_name, dst_bucket_name):\n",
    "        pass\n",
    "    \n",
    "    def convert_results_to_df(self, results):\n",
    "        pass\n",
    "    \n",
    "    def upload_csv_to_storage(self, csv_path, gcs_path):\n",
    "        pass\n",
    "    \n",
    "    def upload_csv_to_bigquery(self, csv_path, dataset_id, table_id, schema):\n",
    "        pass"
   ]
  },
  {
   "cell_type": "code",
   "execution_count": null,
   "id": "5dcc7fc4",
   "metadata": {},
   "outputs": [],
   "source": []
  },
  {
   "cell_type": "code",
   "execution_count": null,
   "id": "5e0c9998",
   "metadata": {},
   "outputs": [],
   "source": []
  },
  {
   "cell_type": "code",
   "execution_count": null,
   "id": "b0b39669",
   "metadata": {},
   "outputs": [],
   "source": []
  },
  {
   "cell_type": "code",
   "execution_count": null,
   "id": "61c9e279",
   "metadata": {},
   "outputs": [],
   "source": []
  },
  {
   "cell_type": "code",
   "execution_count": null,
   "id": "1657132f",
   "metadata": {},
   "outputs": [],
   "source": []
  },
  {
   "cell_type": "code",
   "execution_count": null,
   "id": "36b9776f",
   "metadata": {},
   "outputs": [],
   "source": []
  }
 ],
 "metadata": {
  "environment": {
   "name": "tf2-gpu.2-5.m75",
   "type": "gcloud",
   "uri": "gcr.io/deeplearning-platform-release/tf2-gpu.2-5:m75"
  },
  "kernelspec": {
   "display_name": "Python 3",
   "language": "python",
   "name": "python3"
  },
  "language_info": {
   "codemirror_mode": {
    "name": "ipython",
    "version": 3
   },
   "file_extension": ".py",
   "mimetype": "text/x-python",
   "name": "python",
   "nbconvert_exporter": "python",
   "pygments_lexer": "ipython3",
   "version": "3.7.10"
  }
 },
 "nbformat": 4,
 "nbformat_minor": 5
}
