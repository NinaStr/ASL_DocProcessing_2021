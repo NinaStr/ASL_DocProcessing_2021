{
 "cells": [
  {
   "cell_type": "markdown",
   "id": "37c900f1",
   "metadata": {},
   "source": [
    "# Labeled Patents - Vertex AI Pipeline"
   ]
  },
  {
   "cell_type": "markdown",
   "id": "b0b118a4",
   "metadata": {},
   "source": [
    "## Importing Auxiliary Libraries"
   ]
  },
  {
   "cell_type": "code",
   "execution_count": 1,
   "id": "cd0d9ea8",
   "metadata": {},
   "outputs": [
    {
     "name": "stdout",
     "output_type": "stream",
     "text": [
      "Kubeflow pipelines version: 1.7.1\n"
     ]
    }
   ],
   "source": [
    "import os\n",
    "\n",
    "#!pip install --upgrade kfp\n",
    "import kfp\n",
    "from google.cloud import aiplatform\n",
    "from kfp.v2 import compiler\n",
    "from kfp.v2.dsl import component\n",
    "from kfp.v2.google import experimental\n",
    "from kfp.v2.google.client import AIPlatformClient\n",
    "\n",
    "print('Kubeflow pipelines version: {}'.format(kfp.__version__))"
   ]
  },
  {
   "cell_type": "markdown",
   "id": "2d367211",
   "metadata": {},
   "source": [
    "## Setting Notebook Inputs"
   ]
  },
  {
   "cell_type": "code",
   "execution_count": 2,
   "id": "4e1521c5",
   "metadata": {},
   "outputs": [],
   "source": [
    "PROJECT='qwiklabs-gcp-00-373ac55d0e0a'\n",
    "REGION = 'us-central1'\n",
    "BUCKET='qwiklabs-gcp-00-373ac55d0e0a'\n",
    "\n",
    "PIPELINE_NAME = 'process-pdf-patents'\n",
    "PIPELINE_ROOT = f\"gs://{BUCKET}/labeled_patents/pipeline_root\"\n",
    "LOCAL_PIPELINE_PATH = './vertex_pipelines'\n",
    "LOCAL_PIPELINE_JSON = os.path.join(LOCAL_PIPELINE_PATH, 'labeled_patents_pipeline2.json')\n",
    "\n",
    "RESULTS_BQ_DATASET='demo_dataset'\n",
    "RESULTS_OBJDET_TABLE='objdet'\n",
    "\n",
    "\n",
    "\n",
    "MODEL_DISPLAY_NAME=f\"labpat_model\"\n",
    "MACHINE_TYPE=\"n1-standard-16\"\n",
    "REPLICA_COUNT=1\n",
    "DOCKER_IMAGE_URI_CREATE_BQDATASET=\"us-docker.pkg.dev/vertex-ai/training/tf-cpu.2-3:latest\""
   ]
  },
  {
   "cell_type": "markdown",
   "id": "ba3f25b6",
   "metadata": {},
   "source": [
    "## Defining Vertex AI Components"
   ]
  },
  {
   "cell_type": "markdown",
   "id": "7eae812d",
   "metadata": {},
   "source": [
    "### Component 1: Performing OCR on PDFs"
   ]
  },
  {
   "cell_type": "code",
   "execution_count": 3,
   "id": "14586566",
   "metadata": {},
   "outputs": [],
   "source": [
    "@component()\n",
    "def perform_ocr_on_pdfs():\n",
    "    pass"
   ]
  },
  {
   "cell_type": "markdown",
   "id": "cca8bc5e",
   "metadata": {},
   "source": [
    "### Component 2: PDF to PNG conversion"
   ]
  },
  {
   "cell_type": "code",
   "execution_count": 4,
   "id": "7d8ff5c0",
   "metadata": {},
   "outputs": [],
   "source": [
    "@component()\n",
    "def transform_pdfs_into_png():\n",
    "    pass"
   ]
  },
  {
   "cell_type": "markdown",
   "id": "6c5444ed",
   "metadata": {},
   "source": [
    "### Component 3: Creating a BigQuery dataset to save results"
   ]
  },
  {
   "cell_type": "code",
   "execution_count": 5,
   "id": "6688cb6e",
   "metadata": {},
   "outputs": [],
   "source": [
    "@component()\n",
    "def create_bq_results_dataset():\n",
    "    pass"
   ]
  },
  {
   "cell_type": "markdown",
   "id": "333597ef",
   "metadata": {},
   "source": [
    "### Component 4.1: Creating image classification results table"
   ]
  },
  {
   "cell_type": "code",
   "execution_count": 6,
   "id": "ebe2493d",
   "metadata": {},
   "outputs": [],
   "source": [
    "@component()\n",
    "def create_text_class_results_table():\n",
    "    pass"
   ]
  },
  {
   "cell_type": "markdown",
   "id": "41897b7a",
   "metadata": {},
   "source": [
    "### Component 4.2: Performing text classification"
   ]
  },
  {
   "cell_type": "code",
   "execution_count": 7,
   "id": "4c7c6de5",
   "metadata": {},
   "outputs": [],
   "source": [
    "@component()\n",
    "def text_class_predict():\n",
    "    pass"
   ]
  },
  {
   "cell_type": "markdown",
   "id": "68640636",
   "metadata": {},
   "source": [
    "### Component 4.3: Storing text classification results"
   ]
  },
  {
   "cell_type": "code",
   "execution_count": 8,
   "id": "d3abc72a",
   "metadata": {},
   "outputs": [],
   "source": [
    "@component()\n",
    "def store_text_class_results():\n",
    "    pass"
   ]
  },
  {
   "cell_type": "markdown",
   "id": "95e0dacb",
   "metadata": {},
   "source": [
    "### Component 5.1: Creating image classification results table"
   ]
  },
  {
   "cell_type": "code",
   "execution_count": 9,
   "id": "f7b7efba",
   "metadata": {},
   "outputs": [],
   "source": [
    "@component()\n",
    "def create_img_class_results_table():\n",
    "    pass"
   ]
  },
  {
   "cell_type": "markdown",
   "id": "de04b363",
   "metadata": {},
   "source": [
    "### Component 5.2: Performing image classification"
   ]
  },
  {
   "cell_type": "code",
   "execution_count": 10,
   "id": "8d1ed3ac",
   "metadata": {},
   "outputs": [],
   "source": [
    "@component()\n",
    "def img_class_predict():\n",
    "    pass"
   ]
  },
  {
   "cell_type": "markdown",
   "id": "f7abcd27",
   "metadata": {},
   "source": [
    "### Component 5.3: Storing image classification results"
   ]
  },
  {
   "cell_type": "code",
   "execution_count": 11,
   "id": "86267ae1",
   "metadata": {},
   "outputs": [],
   "source": [
    "@component()\n",
    "def store_img_class_results():\n",
    "    pass"
   ]
  },
  {
   "cell_type": "markdown",
   "id": "d82a8378",
   "metadata": {},
   "source": [
    "### Component 6.1: Creating object detection results table"
   ]
  },
  {
   "cell_type": "code",
   "execution_count": 12,
   "id": "45c64a3e",
   "metadata": {},
   "outputs": [],
   "source": [
    "@component()\n",
    "def create_obj_detection_results_table():\n",
    "    pass"
   ]
  },
  {
   "cell_type": "markdown",
   "id": "a1f9a160",
   "metadata": {},
   "source": [
    "### Component 6.2: Performing object detection"
   ]
  },
  {
   "cell_type": "code",
   "execution_count": 13,
   "id": "e38eb65f",
   "metadata": {},
   "outputs": [],
   "source": [
    "@component()\n",
    "def obj_detection_predict():\n",
    "    pass"
   ]
  },
  {
   "cell_type": "markdown",
   "id": "8c84b0ea",
   "metadata": {},
   "source": [
    "### Component 6.3: Storing object detection results"
   ]
  },
  {
   "cell_type": "code",
   "execution_count": 14,
   "id": "aa156f59",
   "metadata": {},
   "outputs": [],
   "source": [
    "@component()\n",
    "def store_obj_detection_results():\n",
    "    pass"
   ]
  },
  {
   "cell_type": "markdown",
   "id": "31eb3448",
   "metadata": {},
   "source": [
    "## Creating and Compiling the Vertex AI Pipeline"
   ]
  },
  {
   "cell_type": "code",
   "execution_count": 18,
   "id": "46420fe1",
   "metadata": {},
   "outputs": [],
   "source": [
    "@kfp.dsl.pipeline(name=PIPELINE_NAME, \n",
    "                  description='Pipeline that process patents pdf files.',\n",
    "                  pipeline_root=PIPELINE_ROOT)\n",
    "\n",
    "def pipeline():\n",
    "    # Preprocessing pipeline:\n",
    "    perform_ocr_on_pdfs_task = perform_ocr_on_pdfs()\n",
    "    \n",
    "    transform_pdfs_into_png_task = transform_pdfs_into_png()\n",
    "    transform_pdfs_into_png_task.after(perform_ocr_on_pdfs_task)\n",
    "\n",
    "    create_bq_results_dataset_task = create_bq_results_dataset()\n",
    "    create_bq_results_dataset_task.after(transform_pdfs_into_png_task)\n",
    "    \n",
    "    # Text classification pipeline:\n",
    "    create_text_class_results_table_task = create_text_class_results_table()\n",
    "    create_text_class_results_table_task.after(create_bq_results_dataset_task)\n",
    "    \n",
    "    text_class_predict_task = text_class_predict()\n",
    "    text_class_predict_task.after(create_text_class_results_table_task)\n",
    "    \n",
    "    store_text_class_results_task = store_text_class_results()\n",
    "    store_text_class_results_task.after(text_class_predict_task)\n",
    "    \n",
    "    # Image classification pipeline:\n",
    "    create_img_class_results_table_task = create_img_class_results_table()\n",
    "    create_img_class_results_table_task.after(create_bq_results_dataset_task)\n",
    "    \n",
    "    img_class_predict_task = img_class_predict()\n",
    "    img_class_predict_task.after(create_img_class_results_table_task)\n",
    "    \n",
    "    store_img_class_results_task = store_img_class_results()\n",
    "    store_img_class_results_task.after(img_class_predict_task)\n",
    "        \n",
    "    # Object detection pipeline:\n",
    "    create_obj_detection_results_table_task = create_obj_detection_results_table()\n",
    "    create_obj_detection_results_table_task.after(create_bq_results_dataset_task)\n",
    "    \n",
    "    obj_detection_predict_task = obj_detection_predict()\n",
    "    obj_detection_predict_task.after(create_obj_detection_results_table_task)\n",
    "    \n",
    "    store_obj_detection_results_task = store_obj_detection_results()\n",
    "    store_obj_detection_results_task.after(obj_detection_predict_task)\n",
    "    \n",
    "    "
   ]
  },
  {
   "cell_type": "code",
   "execution_count": 19,
   "id": "94d5e8e9",
   "metadata": {},
   "outputs": [],
   "source": [
    "if not os.path.isdir(LOCAL_PIPELINE_PATH):\n",
    "    os.mkdir(LOCAL_PIPELINE_PATH)\n",
    "\n",
    "compiler.Compiler().compile(\n",
    "    pipeline_func=pipeline,\n",
    "    package_path=LOCAL_PIPELINE_JSON\n",
    ")"
   ]
  },
  {
   "cell_type": "markdown",
   "id": "b906ba38",
   "metadata": {},
   "source": [
    "## Launching the Vertex AI Pipeline"
   ]
  },
  {
   "cell_type": "code",
   "execution_count": 20,
   "id": "e5007703",
   "metadata": {},
   "outputs": [],
   "source": [
    "# Instantiating an API client object:\n",
    "# TODO: use the new Vertex AI.\n",
    "api_client = AIPlatformClient(\n",
    "    project_id=PROJECT,\n",
    "    region=REGION,\n",
    ")"
   ]
  },
  {
   "cell_type": "code",
   "execution_count": 21,
   "id": "8f8bd2f4",
   "metadata": {},
   "outputs": [
    {
     "data": {
      "text/html": [
       "See the Pipeline job <a href=\"https://console.cloud.google.com/vertex-ai/locations/us-central1/pipelines/runs/process-pdf-patents-20210819065457?project=qwiklabs-gcp-00-373ac55d0e0a\" target=\"_blank\" >here</a>."
      ],
      "text/plain": [
       "<IPython.core.display.HTML object>"
      ]
     },
     "metadata": {},
     "output_type": "display_data"
    }
   ],
   "source": [
    "response = api_client.create_run_from_job_spec(\n",
    "    LOCAL_PIPELINE_JSON,\n",
    "    pipeline_root=f\"{PIPELINE_ROOT}\",\n",
    ")"
   ]
  },
  {
   "cell_type": "code",
   "execution_count": null,
   "id": "49fb5646",
   "metadata": {},
   "outputs": [],
   "source": []
  }
 ],
 "metadata": {
  "environment": {
   "name": "tf2-gpu.2-5.m76",
   "type": "gcloud",
   "uri": "gcr.io/deeplearning-platform-release/tf2-gpu.2-5:m76"
  },
  "kernelspec": {
   "display_name": "Python 3",
   "language": "python",
   "name": "python3"
  },
  "language_info": {
   "codemirror_mode": {
    "name": "ipython",
    "version": 3
   },
   "file_extension": ".py",
   "mimetype": "text/x-python",
   "name": "python",
   "nbconvert_exporter": "python",
   "pygments_lexer": "ipython3",
   "version": "3.7.10"
  }
 },
 "nbformat": 4,
 "nbformat_minor": 5
}
