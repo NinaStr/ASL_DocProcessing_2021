{
 "cells": [
  {
   "cell_type": "code",
   "execution_count": 3,
   "id": "a68aa78d",
   "metadata": {},
   "outputs": [],
   "source": [
    "# !pip install tika"
   ]
  },
  {
   "cell_type": "code",
   "execution_count": 6,
   "id": "0232e231",
   "metadata": {},
   "outputs": [],
   "source": [
    "# install tika jar from  https://repo1.maven.org/maven2/org/apache/tika/tika-server/1.27/ \n",
    "# !wget -O ./tika/tika-server-1.27.jar https://repo1.maven.org/maven2/org/apache/tika/tika-server/1.27/tika-server-1.27.jar   "
   ]
  },
  {
   "cell_type": "code",
   "execution_count": 9,
   "id": "2719cc1a",
   "metadata": {},
   "outputs": [],
   "source": [
    "# import parser object from tika\n",
    "from tika import parser\n",
    "import json\n",
    "import re\n",
    "import subprocess\n",
    "import os\n",
    "import time"
   ]
  },
  {
   "cell_type": "code",
   "execution_count": 10,
   "id": "a1be00cc",
   "metadata": {},
   "outputs": [],
   "source": [
    "os.environ['TIKA_SERVER_JAR'] = './tika/tika-server-1.27.jar'\n",
    "os.environ['TIKA_PATH'] = './tika/'\n",
    "os.environ['TIKA_LOG_PATH'] = './tika/'\n",
    "os.environ['TIKA_JAVA'] = 'java'"
   ]
  },
  {
   "cell_type": "code",
   "execution_count": 14,
   "id": "76a1248f",
   "metadata": {},
   "outputs": [
    {
     "name": "stderr",
     "output_type": "stream",
     "text": [
      "/bin/sh: 1: java: not found\n"
     ]
    },
    {
     "data": {
      "text/plain": [
       "<subprocess.Popen at 0x7f1611015390>"
      ]
     },
     "execution_count": 14,
     "metadata": {},
     "output_type": "execute_result"
    }
   ],
   "source": [
    "# start tika\n",
    "subprocess.Popen(f'java -jar ./tika/tika-server-1.27.jar --port 9998 &', shell=True)"
   ]
  },
  {
   "cell_type": "code",
   "execution_count": 15,
   "id": "9de9115f",
   "metadata": {},
   "outputs": [],
   "source": [
    "# https://phoenixnap.com/kb/how-to-install-java-ubuntu"
   ]
  },
  {
   "cell_type": "code",
   "execution_count": null,
   "id": "30703dc0",
   "metadata": {},
   "outputs": [],
   "source": []
  },
  {
   "cell_type": "code",
   "execution_count": 16,
   "id": "5750f486",
   "metadata": {},
   "outputs": [],
   "source": [
    "# parsed = parser.from_file('./dataset/pdf/computer_vision_1.pdf')\n",
    "# print(parsed[\"metadata\"])\n",
    "# print(parsed[\"content\"])"
   ]
  },
  {
   "cell_type": "code",
   "execution_count": null,
   "id": "ad0d7492",
   "metadata": {},
   "outputs": [],
   "source": [
    "!gcloud config list"
   ]
  },
  {
   "cell_type": "code",
   "execution_count": null,
   "id": "611d7038",
   "metadata": {},
   "outputs": [],
   "source": []
  },
  {
   "cell_type": "code",
   "execution_count": null,
   "id": "b2149e8d",
   "metadata": {},
   "outputs": [],
   "source": []
  },
  {
   "cell_type": "code",
   "execution_count": null,
   "id": "c5822970",
   "metadata": {},
   "outputs": [],
   "source": []
  }
 ],
 "metadata": {
  "environment": {
   "name": "tf2-gpu.2-5.m75",
   "type": "gcloud",
   "uri": "gcr.io/deeplearning-platform-release/tf2-gpu.2-5:m75"
  },
  "kernelspec": {
   "display_name": "Python 3",
   "language": "python",
   "name": "python3"
  },
  "language_info": {
   "codemirror_mode": {
    "name": "ipython",
    "version": 3
   },
   "file_extension": ".py",
   "mimetype": "text/x-python",
   "name": "python",
   "nbconvert_exporter": "python",
   "pygments_lexer": "ipython3",
   "version": "3.7.10"
  }
 },
 "nbformat": 4,
 "nbformat_minor": 5
}
