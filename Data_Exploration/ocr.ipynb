{
 "cells": [
  {
   "cell_type": "code",
   "execution_count": 14,
   "id": "2ef64174",
   "metadata": {},
   "outputs": [],
   "source": [
    "import json\n",
    "import re\n",
    "from google.cloud import vision\n",
    "from google.cloud import storage"
   ]
  },
  {
   "cell_type": "code",
   "execution_count": 2,
   "id": "6c98383a",
   "metadata": {},
   "outputs": [],
   "source": [
    "PROJECT_ID = !gcloud config get-value project # returns SList\n",
    "PROJECT_ID = PROJECT_ID[0] # gets first element in list -> str\n",
    "SERVICE_ACCOUNT = \"sa-objectdetection\" # Replace with a name of your choice\n",
    "ZONE = \"us-central1\"# Make sure the zone is set to \"us-central1\""
   ]
  },
  {
   "cell_type": "code",
   "execution_count": 3,
   "id": "f96f8be3",
   "metadata": {},
   "outputs": [],
   "source": [
    "from google.cloud import bigquery\n",
    "bq = bigquery.Client(project=PROJECT_ID)"
   ]
  },
  {
   "cell_type": "code",
   "execution_count": 47,
   "id": "0e7e0644",
   "metadata": {},
   "outputs": [],
   "source": [
    "storage_client = storage.Client()"
   ]
  },
  {
   "cell_type": "code",
   "execution_count": 4,
   "id": "5beb4e75",
   "metadata": {},
   "outputs": [],
   "source": [
    "PDF_DIR = \"./dataset/pdf\""
   ]
  },
  {
   "cell_type": "code",
   "execution_count": 9,
   "id": "b5add432",
   "metadata": {},
   "outputs": [
    {
     "data": {
      "text/plain": [
       "404"
      ]
     },
     "execution_count": 9,
     "metadata": {},
     "output_type": "execute_result"
    }
   ],
   "source": [
    "len(os.listdir(PDF_DIR))"
   ]
  },
  {
   "cell_type": "markdown",
   "id": "b87abfc4",
   "metadata": {},
   "source": [
    "# Import pdf files from storage"
   ]
  },
  {
   "cell_type": "code",
   "execution_count": 10,
   "id": "f5ee2710",
   "metadata": {},
   "outputs": [],
   "source": [
    "# Copying pdfs into the project bucket:\n",
    "# !gsutil -m cp gs://qwiklabs-gcp-00-373ac55d0e0a/labeled_patents/pdf/*.pdf  ./dataset/pdf"
   ]
  },
  {
   "cell_type": "markdown",
   "id": "5fded554",
   "metadata": {},
   "source": [
    "# Optical Character Recognition"
   ]
  },
  {
   "cell_type": "markdown",
   "id": "c9fdcf88",
   "metadata": {},
   "source": [
    "## Vision API"
   ]
  },
  {
   "cell_type": "code",
   "execution_count": null,
   "id": "ca087a24",
   "metadata": {},
   "outputs": [],
   "source": []
  },
  {
   "cell_type": "code",
   "execution_count": 1,
   "id": "8d3259c4",
   "metadata": {},
   "outputs": [],
   "source": [
    "def async_detect_document(gcs_source_uri, gcs_destination_uri):\n",
    "    \"\"\"OCR with PDF/TIFF as source files on GCS\n",
    "    Link to documentation (types): https://googleapis.dev/python/vision/latest/vision_v1/types.html#google.cloud.vision_v1.types.OutputConfig\n",
    "    \"\"\"\n",
    "\n",
    "    # Supported mime_types are: 'application/pdf' and 'image/tiff'\n",
    "    mime_type = 'application/pdf'\n",
    "\n",
    "    # How many pages should be grouped into each json output file.\n",
    "    batch_size = 1\n",
    "\n",
    "    client = vision.ImageAnnotatorClient()\n",
    "\n",
    "    feature = vision.Feature(\n",
    "        type_=vision.Feature.Type.DOCUMENT_TEXT_DETECTION)\n",
    "\n",
    "    # source\n",
    "    gcs_source = vision.GcsSource(uri=gcs_source_uri)\n",
    "    input_config = vision.InputConfig(\n",
    "        gcs_source=gcs_source, mime_type=mime_type)\n",
    "    \n",
    "    # destination\n",
    "    gcs_destination = vision.GcsDestination(uri=gcs_destination_uri)\n",
    "    output_config = vision.OutputConfig(\n",
    "        gcs_destination=gcs_destination, \n",
    "        batch_size=batch_size)\n",
    "    \n",
    "\n",
    "    async_request = vision.AsyncAnnotateFileRequest(\n",
    "        features=[feature], \n",
    "        input_config=input_config,\n",
    "        output_config=output_config\n",
    "    )\n",
    "\n",
    "    operation = client.async_batch_annotate_files(\n",
    "        requests=[async_request])\n",
    "\n",
    "\n",
    "def rename():\n",
    "#     match = re.match(r'gs://([^/]+)/(.+)', gcs_bucket_path)\n",
    "    bucket_name = PROJECT_ID\n",
    "    bucket = storage_client.get_bucket(bucket_name)\n",
    "    blob_list = list(bucket.list_blobs())\n",
    "    for blob in blob_list:\n",
    "        if blob.name.endswith(\"output-1-to-1.json\"):\n",
    "            name = blob.name\n",
    "            name = re.sub(r\"output-1-to-1.json\", \"\", name)\n",
    "            bucket.rename_blob(blob, name)\n",
    "            \n",
    "# create json file with async_detect_document\n",
    "def create_json():\n",
    "    bucket_name = PROJECT_ID\n",
    "    bucket = storage_client.get_bucket(bucket_name)\n",
    "    blob_names = [blob.name for blob in list(bucket.list_blobs()) if blob.name.startswith(\"labeled_patents/pdf/\") and blob.name.endswith(\".pdf\")]\n",
    "    for idx, blob_name in enumerate(blob_names):\n",
    "        full_src_path = f\"gs://{PROJECT_ID}/{blob_name}\"\n",
    "        new_filename = os.path.basename(blob_name)[:-3]+\"json\"\n",
    "        full_dst_path =  f\"gs://{PROJECT_ID}/labeled_patents/text/{new_filename}\"\n",
    "        async_detect_document(full_src_path,full_dst_path)\n",
    "        print(idx)\n",
    "\n",
    "# extract text (string) from json file\n",
    "def create_text_file_from_json():\n",
    "    bucket = storage_client.get_bucket(PROJECT_ID)\n",
    "    blob_list  = [blob for blob in list(bucket.list_blobs()) if blob.name.startswith(\"labeled_patents/text/\") and blob.name.endswith(\".json\")]\n",
    "    for output in blob_list:\n",
    "        json_string = output.download_as_string()\n",
    "        response = json.loads(json_string)\n",
    "        text = response['responses'][0]['fullTextAnnotation']['text']\n",
    "        new_blob_name = output.name[:-4]+\"txt\"\n",
    "        new_blob = bucket.blob(new_blob_name)\n",
    "        new_blob.upload_from_string(text)\n",
    "\n",
    "# get text from existing .txt file        \n",
    "def get_text(gcs_path):\n",
    "    basename = os.path.basename(gcs_path)[:-3]+\"txt\"\n",
    "    new_path = \"labeled_patents/text/\"\n",
    "    full_path = os.path.join(new_path, basename)\n",
    "    blob = bucket.get_blob(full_path)\n",
    "    text = blob.download_as_string().decode(\"utf-8\")\n",
    "    return text"
   ]
  },
  {
   "cell_type": "markdown",
   "id": "de520d3a",
   "metadata": {},
   "source": [
    "## Tikaparser"
   ]
  },
  {
   "cell_type": "code",
   "execution_count": null,
   "id": "ff8ee489",
   "metadata": {},
   "outputs": [],
   "source": []
  },
  {
   "cell_type": "markdown",
   "id": "15c8e557",
   "metadata": {},
   "source": [
    "## Manual check - which is better"
   ]
  },
  {
   "cell_type": "code",
   "execution_count": null,
   "id": "48f50cc5",
   "metadata": {},
   "outputs": [],
   "source": []
  },
  {
   "cell_type": "markdown",
   "id": "39b87cc5",
   "metadata": {},
   "source": [
    "# Save text in txt files and upload to storage"
   ]
  },
  {
   "cell_type": "code",
   "execution_count": null,
   "id": "fc4fb719",
   "metadata": {},
   "outputs": [],
   "source": [
    "gcs_source_uri = f\"gs://{PROJECT_ID}/labeled_patents/pdf/\"\n",
    "gcs_destination_uri = f\"gs://{PROJECT_ID}/labeled_patents/text/\"\n"
   ]
  },
  {
   "cell_type": "code",
   "execution_count": null,
   "id": "745c684b",
   "metadata": {},
   "outputs": [],
   "source": [
    "# create_json()\n",
    "# rename()\n",
    "# create_text_file_from_json()"
   ]
  },
  {
   "cell_type": "markdown",
   "id": "ee60fc5f",
   "metadata": {},
   "source": [
    "# Create csv"
   ]
  },
  {
   "cell_type": "code",
   "execution_count": null,
   "id": "76541d96",
   "metadata": {},
   "outputs": [],
   "source": [
    "import pandas as pd\n",
    "bucket = storage_client.get_bucket(PROJECT_ID)\n",
    "blob_names = [os.path.basename(blob.name) for blob in list(bucket.list_blobs()) if blob.name.startswith(\"labeled_patents/pdf/\") and blob.name.endswith(\".pdf\")]\n",
    "\n",
    "pdfs = [os.path.join(f\"gs://{PROJECT_ID}/labeled_patents/pdf/{name}\") for name in blob_names]\n",
    "df_ocr = pd.DataFrame(pdfs, columns=['gcs_path'])\n",
    "df_ocr[\"text\"] = df_ocr.apply(lambda row: get_text(row.gcs_path), axis=1)\n",
    "# create csv\n",
    "df_ocr.to_csv(\"./dataset/ocr.csv\", header=False, index=False)\n",
    "# save to storage\n",
    "!gsutil -m cp ./dataset/ocr.csv  gs://qwiklabs-gcp-00-373ac55d0e0a/labeled_patents/ocr.csv"
   ]
  },
  {
   "cell_type": "markdown",
   "id": "344454dd",
   "metadata": {},
   "source": [
    "# Create new table"
   ]
  },
  {
   "cell_type": "markdown",
   "id": "d4d71299",
   "metadata": {},
   "source": [
    "schema:\n",
    "\n",
    "`\n",
    "gcs_path: path to pdf files\n",
    "text: text content\n",
    "`"
   ]
  },
  {
   "cell_type": "code",
   "execution_count": null,
   "id": "1a9a3643",
   "metadata": {},
   "outputs": [],
   "source": [
    "# create bigquery table and upload csv\n",
    "table_id = \"qwiklabs-gcp-00-373ac55d0e0a.labeled_patents_preprocessed.ocr\"\n",
    "\n",
    "job_config = bigquery.LoadJobConfig(\n",
    "    schema=[\n",
    "        bigquery.SchemaField(\"gcs_path\", \"STRING\"),\n",
    "        bigquery.SchemaField(\"text\", \"STRING\")\n",
    "    ],\n",
    "    skip_leading_rows=0,\n",
    "    # The source format defaults to CSV, so the line below is optional.\n",
    "    source_format=bigquery.SourceFormat.CSV,\n",
    "    allow_quoted_newlines=True,\n",
    "    \n",
    ")\n",
    "uri = \"gs://qwiklabs-gcp-00-373ac55d0e0a/labeled_patents/ocr.csv\"\n",
    "\n",
    "load_job = bq.load_table_from_uri(\n",
    "    uri, table_id, job_config=job_config\n",
    ")  # Make an API request.\n",
    "\n",
    "load_job.result()  # Waits for the job to complete.\n",
    "\n",
    "destination_table = bq.get_table(table_id)  # Make an API request.\n",
    "print(\"Loaded {} rows.\".format(destination_table.num_rows))"
   ]
  },
  {
   "cell_type": "code",
   "execution_count": null,
   "id": "034e6d5e",
   "metadata": {},
   "outputs": [],
   "source": []
  },
  {
   "cell_type": "code",
   "execution_count": null,
   "id": "c327c2f6",
   "metadata": {},
   "outputs": [],
   "source": []
  }
 ],
 "metadata": {
  "environment": {
   "name": "tf2-gpu.2-5.m75",
   "type": "gcloud",
   "uri": "gcr.io/deeplearning-platform-release/tf2-gpu.2-5:m75"
  },
  "kernelspec": {
   "display_name": "Python 3",
   "language": "python",
   "name": "python3"
  },
  "language_info": {
   "codemirror_mode": {
    "name": "ipython",
    "version": 3
   },
   "file_extension": ".py",
   "mimetype": "text/x-python",
   "name": "python",
   "nbconvert_exporter": "python",
   "pygments_lexer": "ipython3",
   "version": "3.7.10"
  }
 },
 "nbformat": 4,
 "nbformat_minor": 5
}
