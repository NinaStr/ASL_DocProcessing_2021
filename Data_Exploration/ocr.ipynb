{
 "cells": [
  {
   "cell_type": "code",
   "execution_count": 14,
   "id": "582d28bf",
   "metadata": {},
   "outputs": [],
   "source": [
    "import json\n",
    "import re\n",
    "from google.cloud import vision\n",
    "from google.cloud import storage"
   ]
  },
  {
   "cell_type": "code",
   "execution_count": 2,
   "id": "cb910113",
   "metadata": {},
   "outputs": [],
   "source": [
    "PROJECT_ID = !gcloud config get-value project # returns SList\n",
    "PROJECT_ID = PROJECT_ID[0] # gets first element in list -> str\n",
    "SERVICE_ACCOUNT = \"sa-objectdetection\" # Replace with a name of your choice\n",
    "ZONE = \"us-central1\"# Make sure the zone is set to \"us-central1\""
   ]
  },
  {
   "cell_type": "code",
   "execution_count": 3,
   "id": "a870c55a",
   "metadata": {},
   "outputs": [],
   "source": [
    "from google.cloud import bigquery\n",
    "bq = bigquery.Client(project=PROJECT_ID)"
   ]
  },
  {
   "cell_type": "code",
   "execution_count": 47,
   "id": "73a83ef8",
   "metadata": {},
   "outputs": [],
   "source": [
    "storage_client = storage.Client()"
   ]
  },
  {
   "cell_type": "code",
   "execution_count": 4,
   "id": "9090c001",
   "metadata": {},
   "outputs": [],
   "source": [
    "PDF_DIR = \"./dataset/pdf\""
   ]
  },
  {
   "cell_type": "code",
   "execution_count": 9,
   "id": "c511e3b9",
   "metadata": {},
   "outputs": [
    {
     "data": {
      "text/plain": [
       "404"
      ]
     },
     "execution_count": 9,
     "metadata": {},
     "output_type": "execute_result"
    }
   ],
   "source": [
    "len(os.listdir(PDF_DIR))"
   ]
  },
  {
   "cell_type": "markdown",
   "id": "2f1c181d",
   "metadata": {},
   "source": [
    "# Import pdf files from storage"
   ]
  },
  {
   "cell_type": "code",
   "execution_count": 10,
   "id": "3d23604a",
   "metadata": {},
   "outputs": [],
   "source": [
    "# Copying pdfs into the project bucket:\n",
    "# !gsutil -m cp gs://qwiklabs-gcp-00-373ac55d0e0a/labeled_patents/pdf/*.pdf  ./dataset/pdf"
   ]
  },
  {
   "cell_type": "markdown",
   "id": "ed036929",
   "metadata": {},
   "source": [
    "# Optical Character Recognition"
   ]
  },
  {
   "cell_type": "markdown",
   "id": "536f1de8",
   "metadata": {},
   "source": [
    "## Vision API"
   ]
  },
  {
   "cell_type": "code",
   "execution_count": null,
   "id": "46025bf9",
   "metadata": {},
   "outputs": [],
   "source": [
    "'''def rename(file_blob):\n",
    "    new_name = ' '.join(indentify_spacing.findall(file_blob.name)[0])\n",
    "    print(new_name)\n",
    "\n",
    "    bucket.rename_blob(file_blob, new_name)\n",
    "\n",
    "    print(f'File {file_blob.name} \\t changed to \\t {new_name}')'''"
   ]
  },
  {
   "cell_type": "code",
   "execution_count": 71,
   "id": "b67b8ac4",
   "metadata": {},
   "outputs": [],
   "source": [
    "def async_detect_document(gcs_source_uri, gcs_destination_uri):\n",
    "    \"\"\"OCR with PDF/TIFF as source files on GCS\n",
    "    Link to documentation (types): https://googleapis.dev/python/vision/latest/vision_v1/types.html#google.cloud.vision_v1.types.OutputConfig\n",
    "    \"\"\"\n",
    "\n",
    "    # Supported mime_types are: 'application/pdf' and 'image/tiff'\n",
    "    mime_type = 'application/pdf'\n",
    "\n",
    "    # How many pages should be grouped into each json output file.\n",
    "    batch_size = 1\n",
    "\n",
    "    client = vision.ImageAnnotatorClient()\n",
    "\n",
    "    feature = vision.Feature(\n",
    "        type_=vision.Feature.Type.DOCUMENT_TEXT_DETECTION)\n",
    "\n",
    "    # source\n",
    "    gcs_source = vision.GcsSource(uri=gcs_source_uri)\n",
    "    input_config = vision.InputConfig(\n",
    "        gcs_source=gcs_source, mime_type=mime_type)\n",
    "    \n",
    "    # destination\n",
    "    gcs_destination = vision.GcsDestination(uri=gcs_destination_uri)\n",
    "    output_config = vision.OutputConfig(\n",
    "        gcs_destination=gcs_destination, \n",
    "        batch_size=batch_size)\n",
    "    \n",
    "\n",
    "    async_request = vision.AsyncAnnotateFileRequest(\n",
    "        features=[feature], \n",
    "        input_config=input_config,\n",
    "        output_config=output_config\n",
    "    )\n",
    "\n",
    "    operation = client.async_batch_annotate_files(\n",
    "        requests=[async_request])\n",
    "\n",
    "\n",
    "def rename():\n",
    "#     match = re.match(r'gs://([^/]+)/(.+)', gcs_bucket_path)\n",
    "    bucket_name = PROJECT_ID\n",
    "    bucket = storage_client.get_bucket(bucket_name)\n",
    "    blob_list = list(bucket.list_blobs())\n",
    "    for blob in blob_list:\n",
    "        if blob.name.endswith(\"output-1-to-1.json\"):\n",
    "            name = blob.name\n",
    "            name = re.sub(r\"output-1-to-1.json\", \"\", name)\n",
    "            bucket.rename_blob(blob, name)"
   ]
  },
  {
   "cell_type": "code",
   "execution_count": 72,
   "id": "342f62b7",
   "metadata": {},
   "outputs": [],
   "source": [
    "gcs_source_uri = f\"gs://{PROJECT_ID}/labeled_patents/pdf/\"\n",
    "gcs_destination_uri = f\"gs://{PROJECT_ID}/labeled_patents/text/\""
   ]
  },
  {
   "cell_type": "code",
   "execution_count": 75,
   "id": "74c5fb17",
   "metadata": {},
   "outputs": [],
   "source": [
    "def create_text():\n",
    "    bucket_name = PROJECT_ID\n",
    "    bucket = storage_client.get_bucket(bucket_name)\n",
    "    blob_names = [blob.name for blob in list(bucket.list_blobs()) if blob.name.startswith(\"labeled_patents/pdf/\") and blob.name.endswith(\".pdf\")]\n",
    "    for idx, blob_name in enumerate(blob_names):\n",
    "        full_src_path = f\"gs://{PROJECT_ID}/{blob_name}\"\n",
    "        new_filename = os.path.basename(blob_name)[:-3]+\"json\"\n",
    "        full_dst_path =  f\"gs://{PROJECT_ID}/labeled_patents/text/{new_filename}\"\n",
    "        async_detect_document(full_src_path,full_dst_path)\n",
    "        print(idx)"
   ]
  },
  {
   "cell_type": "code",
   "execution_count": 82,
   "id": "ea61fef1",
   "metadata": {},
   "outputs": [],
   "source": [
    "# create text files and rename them\n",
    "# create_text()\n",
    "# rename()"
   ]
  },
  {
   "cell_type": "code",
   "execution_count": 79,
   "id": "69bb3576",
   "metadata": {},
   "outputs": [],
   "source": [
    "# create text files\n",
    "def create_text_file_from_json():\n",
    "    bucket = storage_client.get_bucket(PROJECT_ID)\n",
    "    blob_list = blob_names = [blob for blob in list(bucket.list_blobs()) if blob.name.startswith(\"labeled_patents/text/\") and blob.name.endswith(\".json\")]\n",
    "    for output in blob_list:\n",
    "        json_string = output.download_as_string()\n",
    "        response = json.loads(json_string)\n",
    "        text = response['responses'][0]['fullTextAnnotation']['text']\n",
    "        new_blob_name = output.name[:-4]+\"txt\"\n",
    "        new_blob = bucket.blob(new_blob_name)\n",
    "        new_blob.upload_from_string(text)\n",
    "create_text_file_from_json()"
   ]
  },
  {
   "cell_type": "code",
   "execution_count": 89,
   "id": "1eb2ffd5",
   "metadata": {},
   "outputs": [],
   "source": [
    "def get_text(gcs_path):\n",
    "    basename = os.path.basename(gcs_path)[:-3]+\"txt\"\n",
    "    new_path = \"labeled_patents/text/\"\n",
    "    full_path = os.path.join(new_path, basename)\n",
    "    blob = bucket.get_blob(full_path)\n",
    "    text = blob.download_as_string().decode(\"utf-8\")\n",
    "    return text"
   ]
  },
  {
   "cell_type": "code",
   "execution_count": 105,
   "id": "20b69237",
   "metadata": {},
   "outputs": [],
   "source": [
    "# # use existing table as basis for new table\n",
    "# query_string = \"\"\"\n",
    "# #standardSQL\n",
    "# SELECT\n",
    "#     *\n",
    "# FROM\n",
    "#     `qwiklabs-gcp-00-373ac55d0e0a.labeled_patents_preprocessed.extracted_data`\n",
    "# \"\"\"\n",
    "\n",
    "# extracted_data = bq.query(query_string).to_dataframe()\n",
    "# df_ocr = extracted_data.copy(deep=True)\n",
    "# df_ocr = df_ocr[[\"gcs_path\"]]\n",
    "import pandas as pd\n",
    "bucket = storage_client.get_bucket(PROJECT_ID)\n",
    "blob_names = [os.path.basename(blob.name) for blob in list(bucket.list_blobs()) if blob.name.startswith(\"labeled_patents/pdf/\") and blob.name.endswith(\".pdf\")]\n",
    "\n",
    "pdfs = [os.path.join(f\"gs://{PROJECT_ID}/labeled_patents/pdf/{name}\") for name in blob_names]\n",
    "df_ocr = pd.DataFrame(pdfs, columns=['gcs_path'])\n",
    "df_ocr[\"text\"] = df_ocr.apply(lambda row: get_text(row.gcs_path), axis=1)"
   ]
  },
  {
   "cell_type": "code",
   "execution_count": 106,
   "id": "ec7f78d3",
   "metadata": {},
   "outputs": [
    {
     "data": {
      "text/plain": [
       "(403, 2)"
      ]
     },
     "execution_count": 106,
     "metadata": {},
     "output_type": "execute_result"
    }
   ],
   "source": [
    "# df_ocr.loc[0, \"gcs_path\"]\n",
    "df_ocr.shape"
   ]
  },
  {
   "cell_type": "code",
   "execution_count": 107,
   "id": "e039b6bf",
   "metadata": {},
   "outputs": [],
   "source": [
    "# create csv\n",
    "df_ocr.to_csv(\"./dataset/ocr.csv\", header=False, index=False)"
   ]
  },
  {
   "cell_type": "code",
   "execution_count": 108,
   "id": "f9924f9d",
   "metadata": {},
   "outputs": [
    {
     "name": "stdout",
     "output_type": "stream",
     "text": [
      "Copying file://./dataset/ocr.csv [Content-Type=text/csv]...\n",
      "/ [1/1 files][974.1 KiB/974.1 KiB] 100% Done                                    \n",
      "Operation completed over 1 objects/974.1 KiB.                                    \n"
     ]
    }
   ],
   "source": [
    "# save to storage\n",
    "!gsutil -m cp ./dataset/ocr.csv  gs://qwiklabs-gcp-00-373ac55d0e0a/labeled_patents/ocr.csv"
   ]
  },
  {
   "cell_type": "code",
   "execution_count": 109,
   "id": "0cebd8e8",
   "metadata": {},
   "outputs": [
    {
     "name": "stdout",
     "output_type": "stream",
     "text": [
      "Loaded 403 rows.\n"
     ]
    }
   ],
   "source": [
    "# create bigquery table and upload csv\n",
    "table_id = \"qwiklabs-gcp-00-373ac55d0e0a.labeled_patents_preprocessed.ocr\"\n",
    "\n",
    "job_config = bigquery.LoadJobConfig(\n",
    "    schema=[\n",
    "        bigquery.SchemaField(\"gcs_path\", \"STRING\"),\n",
    "        bigquery.SchemaField(\"text\", \"STRING\")\n",
    "    ],\n",
    "    skip_leading_rows=0,\n",
    "    # The source format defaults to CSV, so the line below is optional.\n",
    "    source_format=bigquery.SourceFormat.CSV,\n",
    "    allow_quoted_newlines=True,\n",
    "    \n",
    ")\n",
    "uri = \"gs://qwiklabs-gcp-00-373ac55d0e0a/labeled_patents/ocr.csv\"\n",
    "\n",
    "load_job = bq.load_table_from_uri(\n",
    "    uri, table_id, job_config=job_config\n",
    ")  # Make an API request.\n",
    "\n",
    "load_job.result()  # Waits for the job to complete.\n",
    "\n",
    "destination_table = bq.get_table(table_id)  # Make an API request.\n",
    "print(\"Loaded {} rows.\".format(destination_table.num_rows))"
   ]
  },
  {
   "cell_type": "code",
   "execution_count": null,
   "id": "28d025e5",
   "metadata": {},
   "outputs": [],
   "source": []
  },
  {
   "cell_type": "code",
   "execution_count": null,
   "id": "390bab08",
   "metadata": {},
   "outputs": [],
   "source": []
  },
  {
   "cell_type": "code",
   "execution_count": null,
   "id": "65101608",
   "metadata": {},
   "outputs": [],
   "source": []
  },
  {
   "cell_type": "markdown",
   "id": "5b0ab028",
   "metadata": {},
   "source": [
    "## Tikaparser"
   ]
  },
  {
   "cell_type": "code",
   "execution_count": null,
   "id": "b037fafb",
   "metadata": {},
   "outputs": [],
   "source": []
  },
  {
   "cell_type": "markdown",
   "id": "bb94467a",
   "metadata": {},
   "source": [
    "## Manual check - which is better"
   ]
  },
  {
   "cell_type": "code",
   "execution_count": null,
   "id": "90eb9667",
   "metadata": {},
   "outputs": [],
   "source": []
  },
  {
   "cell_type": "markdown",
   "id": "caa4113b",
   "metadata": {},
   "source": [
    "# Save text in txt files and upload to storage"
   ]
  },
  {
   "cell_type": "code",
   "execution_count": null,
   "id": "5e1f1eee",
   "metadata": {},
   "outputs": [],
   "source": []
  },
  {
   "cell_type": "markdown",
   "id": "8b79d490",
   "metadata": {},
   "source": [
    "# Create new table"
   ]
  },
  {
   "cell_type": "markdown",
   "id": "9bbe538c",
   "metadata": {},
   "source": [
    "schema:\n",
    "\n",
    "`\n",
    "gcs_path: path to pdf files\n",
    "text: text content\n",
    "`"
   ]
  },
  {
   "cell_type": "code",
   "execution_count": null,
   "id": "8559801d",
   "metadata": {},
   "outputs": [],
   "source": []
  },
  {
   "cell_type": "code",
   "execution_count": null,
   "id": "759cd77f",
   "metadata": {},
   "outputs": [],
   "source": []
  },
  {
   "cell_type": "code",
   "execution_count": null,
   "id": "16dfe73b",
   "metadata": {},
   "outputs": [],
   "source": []
  }
 ],
 "metadata": {
  "environment": {
   "name": "tf2-gpu.2-5.m75",
   "type": "gcloud",
   "uri": "gcr.io/deeplearning-platform-release/tf2-gpu.2-5:m75"
  },
  "kernelspec": {
   "display_name": "Python 3",
   "language": "python",
   "name": "python3"
  },
  "language_info": {
   "codemirror_mode": {
    "name": "ipython",
    "version": 3
   },
   "file_extension": ".py",
   "mimetype": "text/x-python",
   "name": "python",
   "nbconvert_exporter": "python",
   "pygments_lexer": "ipython3",
   "version": "3.7.10"
  }
 },
 "nbformat": 4,
 "nbformat_minor": 5
}
