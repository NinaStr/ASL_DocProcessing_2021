{
 "cells": [
  {
   "cell_type": "code",
   "execution_count": null,
   "id": "4f397320",
   "metadata": {},
   "outputs": [],
   "source": []
  },
  {
   "cell_type": "code",
   "execution_count": 1,
   "id": "fb67f433",
   "metadata": {},
   "outputs": [],
   "source": [
    "#TODO LIST\n",
    "#1- Change reading files to filter pdfs.\n",
    "#2- Access to the image classification end point\n",
    "#3- Create a JSON input for the endpoint (with the image)\n",
    "#4Call enpoint\n",
    "#DONE \n",
    "#5- Retrieve prediction\n",
    "#6- Store the prediction in a new BQ table\n"
   ]
  },
  {
   "cell_type": "code",
   "execution_count": null,
   "id": "99f6ba83",
   "metadata": {},
   "outputs": [],
   "source": []
  },
  {
   "cell_type": "markdown",
   "id": "3858e947",
   "metadata": {},
   "source": [
    "# Predictions Pipeline"
   ]
  },
  {
   "cell_type": "markdown",
   "id": "28840d5c",
   "metadata": {},
   "source": [
    "## 1. Notebook Configuration\n"
   ]
  },
  {
   "cell_type": "markdown",
   "id": "f40d7091",
   "metadata": {},
   "source": [
    "### 1.1. Loading Necessary Libraries"
   ]
  },
  {
   "cell_type": "code",
   "execution_count": 15,
   "id": "fe75e4a7",
   "metadata": {},
   "outputs": [
    {
     "name": "stdout",
     "output_type": "stream",
     "text": [
      "Reading package lists... Done\n",
      "Building dependency tree       \n",
      "Reading state information... Done\n",
      "poppler-data is already the newest version (0.4.9-2).\n",
      "0 upgraded, 0 newly installed, 0 to remove and 1 not upgraded.\n",
      "Reading package lists... Done\n",
      "Building dependency tree       \n",
      "Reading state information... Done\n",
      "poppler-utils is already the newest version (0.71.0-5).\n",
      "0 upgraded, 0 newly installed, 0 to remove and 1 not upgraded.\n",
      "Requirement already satisfied: pdf2image in /opt/conda/lib/python3.7/site-packages (1.16.0)\n",
      "Requirement already satisfied: pillow in /opt/conda/lib/python3.7/site-packages (from pdf2image) (8.3.1)\n"
     ]
    }
   ],
   "source": [
    "# General libraries:\n",
    "import os\n",
    "import io\n",
    "import json\n",
    "#import glob\n",
    "import numpy as np\n",
    "import pandas as pd\n",
    "\n",
    "# Dealing with images:\n",
    "#import cv2\n",
    "#import matplotlib.pyplot as plt\n",
    "\n",
    "# Google APIs:\n",
    "from google.cloud import storage\n",
    "from google.cloud import aiplatform\n",
    "from google.cloud.aiplatform.gapic.schema import predict\n",
    "\n",
    "# Libraries for string filtering:\n",
    "from fnmatch import fnmatch\n",
    "\n",
    "# Libraries for image encoding\n",
    "import io\n",
    "import base64\n",
    "\n",
    "# Specific PDF libraries:\n",
    "#!conda install -c conda-forge poppler\n",
    "!sudo apt-get install -y poppler-data\n",
    "!sudo apt-get install -y poppler-utils\n",
    "!pip install pdf2image\n",
    "from pdf2image import convert_from_path"
   ]
  },
  {
   "cell_type": "markdown",
   "id": "6682784b",
   "metadata": {},
   "source": [
    "### 1.2. Setting Notebook Inputs\n",
    "#### 1.2.1 Google Cloud Settings"
   ]
  },
  {
   "cell_type": "code",
   "execution_count": 3,
   "id": "bddfa4ce",
   "metadata": {},
   "outputs": [
    {
     "name": "stdout",
     "output_type": "stream",
     "text": [
      "[ai]\n",
      "region = us-central1\n",
      "[core]\n",
      "account = 136021895401-compute@developer.gserviceaccount.com\n",
      "disable_usage_reporting = True\n",
      "project = qwiklabs-gcp-00-373ac55d0e0a\n",
      "\n",
      "Your active configuration is: [default]\n"
     ]
    }
   ],
   "source": [
    "!gcloud config list"
   ]
  },
  {
   "cell_type": "code",
   "execution_count": 4,
   "id": "0465a311",
   "metadata": {},
   "outputs": [],
   "source": [
    "PROJECT = 'qwiklabs-gcp-00-373ac55d0e0a'\n",
    "REGION = 'us-central1'\n",
    "BUCKET = 'qwiklabs-gcp-00-373ac55d0e0a'\n",
    "\n",
    "TEMP_FOLDER = './temp'\n",
    "PREDICTION_MODE = 'BATCH' # 'ONLINE would be another possibility, but it is not implemented.'\n",
    "\n",
    "\n",
    "#PDF_FOLDER = os.path.join(TEMP_FOLDER, 'pdf')\n",
    "#PNG_FOLDER = os.path.join(TEMP_FOLDER, 'png')\n",
    "#CSV_FOLDER = os.path.join(TEMP_FOLDER, 'csv')\n",
    "\n",
    "os.environ['PROJECT'] = PROJECT\n",
    "os.environ['REGION'] = REGION\n",
    "os.environ['BUCKET'] = BUCKET"
   ]
  },
  {
   "cell_type": "markdown",
   "id": "5bfdb37e",
   "metadata": {},
   "source": [
    "#### 1.2.2. Image Classification Endpoint"
   ]
  },
  {
   "cell_type": "code",
   "execution_count": 5,
   "id": "e70cba26",
   "metadata": {},
   "outputs": [],
   "source": [
    "IC_ENDPOINT_ID=\"7257673944809865216\"\n",
    "IC_PROJECT_ID=\"136021895401\"\n",
    "IC_INPUT_DATA_FILE=\"INPUT-JSON\"\n",
    "\n",
    "# Example of instance:\n",
    "# {\n",
    "#  \"instances\": [{\n",
    "#    \"content\": \"YOUR_IMAGE_BYTES\"\n",
    "#  }],\n",
    "#   \"parameters\": {\n",
    "#     \"confidenceThreshold\": 0.5,\n",
    "#     \"maxPredictions\": 5\n",
    "#   }\n",
    "# }"
   ]
  },
  {
   "cell_type": "markdown",
   "id": "8252f251",
   "metadata": {},
   "source": [
    "#### 1.2.3. Object Detection Endpoint"
   ]
  },
  {
   "cell_type": "code",
   "execution_count": 6,
   "id": "30697170",
   "metadata": {},
   "outputs": [],
   "source": [
    "OD_ENDPOINT_ID=\"2074030773706424320\"\n",
    "OD_PROJECT_ID=\"136021895401\"\n",
    "OD_INPUT_DATA_FILE=\"INPUT-JSON\"\n",
    "\n",
    "# Example of instance:\n",
    "# {\n",
    "#  \"instances\": [{\n",
    "#    \"content\": \"YOUR_IMAGE_BYTES\"\n",
    "#  }],\n",
    "#   \"parameters\": {\n",
    "#     \"confidenceThreshold\": 0.5,\n",
    "#     \"maxPredictions\": 5\n",
    "#   }\n",
    "# }"
   ]
  },
  {
   "cell_type": "markdown",
   "id": "6cc4daf5",
   "metadata": {},
   "source": [
    "## 2 Auxiliary Functions"
   ]
  },
  {
   "cell_type": "code",
   "execution_count": 7,
   "id": "39ceb541",
   "metadata": {},
   "outputs": [],
   "source": [
    "def get_bucket_file_list(bucket_name, fname_template='*'):\n",
    "    '''!@brief Function that returns the list of files in a bucket.\n",
    "    @param bucket: (string) Bucket name.\n",
    "    @param fname_template: (string) Template for filtering blob names \n",
    "    that supports Unix shell-style wildcards. For more info: \n",
    "    https://docs.python.org/3/library/fnmatch.html\n",
    "            \n",
    "    @return (list of srtings) List of blob names in a bucket which \n",
    "    fullfills template structure.\n",
    "    '''\n",
    "    # Instantiating client:\n",
    "    storage_client = storage.Client()\n",
    "\n",
    "    # Note: Client.list_blobs requires at least package version 1.17.0.\n",
    "    blobs = storage_client.list_blobs(bucket_name)\n",
    "    \n",
    "    # Listing all the blobs in a bucket:\n",
    "    blob_lst = [blob.name for blob in blobs]\n",
    "\n",
    "    # Filtering blob names with the template format given:  \n",
    "    file_lst = [fname for fname in blob_lst if fnmatch(fname, fname_template)]\n",
    "    \n",
    "    return file_lst"
   ]
  },
  {
   "cell_type": "code",
   "execution_count": 8,
   "id": "de120308",
   "metadata": {},
   "outputs": [],
   "source": [
    "def clean_bucket(bucket_name, filter =['xxsdsdsds']):\n",
    "    # bucket_name = \"your-bucket-name\"\n",
    "    # blob_name = \"your-object-name\"\n",
    "\n",
    "    storage_client = storage.Client()\n",
    "    \n",
    "    bucket = storage_client.bucket(bucket_name)\n",
    "    for file in filter:\n",
    "        blob = bucket.blob(file)\n",
    "        blob.delete()\n",
    "        print(\"Blob {} deleted.\".format(file))\n",
    "        "
   ]
  },
  {
   "cell_type": "code",
   "execution_count": 9,
   "id": "1e8cc1cd",
   "metadata": {},
   "outputs": [],
   "source": [
    "def download_files_from_bucket(bucket_name, dest_folder, source_folder=\"labeled_patents/pdf/\", ext = \".pdf\" ):\n",
    "    '''@brief! Function that downloads a list of files from a bucket.\n",
    "\n",
    "    @param: bucket: (string) Bucket name.\n",
    "    @param: dest_folder: (string) Folder where files are downloaded.\n",
    "    '''\n",
    "    if not os.path.exists(dest_folder):\n",
    "        os.makedirs(dest_folder)\n",
    "        \n",
    "    new_file_lst = []\n",
    "    # Instantiating client:\n",
    "    storage_client = storage.Client()\n",
    "    bucket = storage_client.bucket(bucket_name)\n",
    "    \n",
    "    blob_list  = [blob for blob in list(bucket.list_blobs()) if blob.name.startswith(source_folder) and blob.name.endswith(ext)]\n",
    "\n",
    "    # Saving blob into the destination folder:\n",
    "    for blob in blob_list:\n",
    "        # Saving blob into a filename:\n",
    "        _, name = os.path.split(blob.name)\n",
    "        new_fname = os.path.join(dest_folder, name)\n",
    "        blob.download_to_filename(new_fname)\n",
    "        new_file_lst.append(new_fname)\n",
    "    \n",
    "    # TODO: A check of the downloaded files should be performed!! Maybe is just \n",
    "    # reading the files of the folder since if it is a temporal folder, every time\n",
    "    # the pipeline is executed, the folder is created empty:\n",
    "    #os.listdir(dest_folder) or similar\n",
    "    print('Number of files downloaded: {:d}'.format(len(new_file_lst)))\n",
    "    \n",
    "    return new_file_lst"
   ]
  },
  {
   "cell_type": "code",
   "execution_count": 10,
   "id": "300d71d3",
   "metadata": {},
   "outputs": [],
   "source": [
    "def encode_images_in_path(path):\n",
    "    '''@brief! Function to encode an image of each pdf to be used as instance \n",
    "    for a AutoML mode.\n",
    "        \n",
    "    @param: file_lst (list of strings) PDF file names to be transformed.\n",
    "    '''\n",
    "    file_lst = [os.path.join(path, file) for file in os.listdir(path) if os.path.isfile(os.path.join(path, file))]\n",
    "    \n",
    "    encoded_img_lst = []\n",
    "    for file in file_lst:\n",
    "        image = convert_from_path(file)\n",
    "        image = image[0]                # Only the firs page is going to be analyzed.\n",
    "        img_byte_arr = io.BytesIO()\n",
    "        image.save(img_byte_arr, format='PNG')\n",
    "        img_byte_arr = img_byte_arr.getvalue()\n",
    "        encoded_img_lst.append(base64.b64encode(img_byte_arr).decode(\"utf-8\"))\n",
    "\n",
    "    return encoded_img_lst"
   ]
  },
  {
   "cell_type": "code",
   "execution_count": null,
   "id": "8c6baeb8",
   "metadata": {},
   "outputs": [],
   "source": []
  },
  {
   "cell_type": "markdown",
   "id": "9a4a36a6",
   "metadata": {},
   "source": [
    "## 3. Pipeline Functional"
   ]
  },
  {
   "cell_type": "markdown",
   "id": "87d5e4d5",
   "metadata": {},
   "source": [
    "### 3.1. Donwload PDFs to a temporal folder"
   ]
  },
  {
   "cell_type": "code",
   "execution_count": 12,
   "id": "024f4f30",
   "metadata": {},
   "outputs": [
    {
     "name": "stdout",
     "output_type": "stream",
     "text": [
      "Number of files downloaded: 403\n"
     ]
    },
    {
     "data": {
      "text/plain": [
       "['./temp/computer_vision_1.pdf',\n",
       " './temp/computer_vision_10.pdf',\n",
       " './temp/computer_vision_11.pdf',\n",
       " './temp/computer_vision_12.pdf',\n",
       " './temp/computer_vision_13.pdf',\n",
       " './temp/computer_vision_14.pdf',\n",
       " './temp/computer_vision_15.pdf',\n",
       " './temp/computer_vision_16.pdf',\n",
       " './temp/computer_vision_17.pdf',\n",
       " './temp/computer_vision_18.pdf',\n",
       " './temp/computer_vision_19.pdf',\n",
       " './temp/computer_vision_2.pdf',\n",
       " './temp/computer_vision_20.pdf',\n",
       " './temp/computer_vision_3.pdf',\n",
       " './temp/computer_vision_4.pdf',\n",
       " './temp/computer_vision_5.pdf',\n",
       " './temp/computer_vision_6.pdf',\n",
       " './temp/computer_vision_7.pdf',\n",
       " './temp/computer_vision_8.pdf',\n",
       " './temp/computer_vision_9.pdf',\n",
       " './temp/crypto_1.pdf',\n",
       " './temp/crypto_10.pdf',\n",
       " './temp/crypto_11.pdf',\n",
       " './temp/crypto_12.pdf',\n",
       " './temp/crypto_13.pdf',\n",
       " './temp/crypto_14.pdf',\n",
       " './temp/crypto_15.pdf',\n",
       " './temp/crypto_16.pdf',\n",
       " './temp/crypto_17.pdf',\n",
       " './temp/crypto_18.pdf',\n",
       " './temp/crypto_19.pdf',\n",
       " './temp/crypto_2.pdf',\n",
       " './temp/crypto_20.pdf',\n",
       " './temp/crypto_3.pdf',\n",
       " './temp/crypto_4.pdf',\n",
       " './temp/crypto_5.pdf',\n",
       " './temp/crypto_6.pdf',\n",
       " './temp/crypto_7.pdf',\n",
       " './temp/crypto_8.pdf',\n",
       " './temp/crypto_9.pdf',\n",
       " './temp/espacenet_de1.pdf',\n",
       " './temp/espacenet_de10.pdf',\n",
       " './temp/espacenet_de11.pdf',\n",
       " './temp/espacenet_de12.pdf',\n",
       " './temp/espacenet_de13.pdf',\n",
       " './temp/espacenet_de14.pdf',\n",
       " './temp/espacenet_de15.pdf',\n",
       " './temp/espacenet_de16.pdf',\n",
       " './temp/espacenet_de2.pdf',\n",
       " './temp/espacenet_de3.pdf',\n",
       " './temp/espacenet_de4.pdf',\n",
       " './temp/espacenet_de41.pdf',\n",
       " './temp/espacenet_de43.pdf',\n",
       " './temp/espacenet_de49.pdf',\n",
       " './temp/espacenet_de5.pdf',\n",
       " './temp/espacenet_de50.pdf',\n",
       " './temp/espacenet_de53.pdf',\n",
       " './temp/espacenet_de54.pdf',\n",
       " './temp/espacenet_de55.pdf',\n",
       " './temp/espacenet_de56.pdf',\n",
       " './temp/espacenet_de59.pdf',\n",
       " './temp/espacenet_de6.pdf',\n",
       " './temp/espacenet_de60.pdf',\n",
       " './temp/espacenet_de61.pdf',\n",
       " './temp/espacenet_de62.pdf',\n",
       " './temp/espacenet_de63.pdf',\n",
       " './temp/espacenet_de64.pdf',\n",
       " './temp/espacenet_de65.pdf',\n",
       " './temp/espacenet_de66.pdf',\n",
       " './temp/espacenet_de67.pdf',\n",
       " './temp/espacenet_de68.pdf',\n",
       " './temp/espacenet_de69.pdf',\n",
       " './temp/espacenet_de7.pdf',\n",
       " './temp/espacenet_de70.pdf',\n",
       " './temp/espacenet_de71.pdf',\n",
       " './temp/espacenet_de72.pdf',\n",
       " './temp/espacenet_de73.pdf',\n",
       " './temp/espacenet_de74.pdf',\n",
       " './temp/espacenet_de75.pdf',\n",
       " './temp/espacenet_de76.pdf',\n",
       " './temp/espacenet_de77.pdf',\n",
       " './temp/espacenet_de78.pdf',\n",
       " './temp/espacenet_de79.pdf',\n",
       " './temp/espacenet_de8.pdf',\n",
       " './temp/espacenet_de82.pdf',\n",
       " './temp/espacenet_de83.pdf',\n",
       " './temp/espacenet_de84.pdf',\n",
       " './temp/espacenet_de85.pdf',\n",
       " './temp/espacenet_de86.pdf',\n",
       " './temp/espacenet_de87.pdf',\n",
       " './temp/espacenet_de88.pdf',\n",
       " './temp/espacenet_de89.pdf',\n",
       " './temp/espacenet_de9.pdf',\n",
       " './temp/espacenet_de90.pdf',\n",
       " './temp/espacenet_de91.pdf',\n",
       " './temp/espacenet_de92.pdf',\n",
       " './temp/espacenet_de93.pdf',\n",
       " './temp/espacenet_de94.pdf',\n",
       " './temp/espacenet_de95.pdf',\n",
       " './temp/espacenet_de96.pdf',\n",
       " './temp/espacenet_de97.pdf',\n",
       " './temp/espacenet_de98.pdf',\n",
       " './temp/espacenet_de99.pdf',\n",
       " './temp/espacenet_en1.pdf',\n",
       " './temp/espacenet_en10.pdf',\n",
       " './temp/espacenet_en100.pdf',\n",
       " './temp/espacenet_en11.pdf',\n",
       " './temp/espacenet_en12.pdf',\n",
       " './temp/espacenet_en13.pdf',\n",
       " './temp/espacenet_en14.pdf',\n",
       " './temp/espacenet_en15.pdf',\n",
       " './temp/espacenet_en16.pdf',\n",
       " './temp/espacenet_en17.pdf',\n",
       " './temp/espacenet_en18.pdf',\n",
       " './temp/espacenet_en19.pdf',\n",
       " './temp/espacenet_en2.pdf',\n",
       " './temp/espacenet_en20.pdf',\n",
       " './temp/espacenet_en21.pdf',\n",
       " './temp/espacenet_en22.pdf',\n",
       " './temp/espacenet_en23.pdf',\n",
       " './temp/espacenet_en24.pdf',\n",
       " './temp/espacenet_en25.pdf',\n",
       " './temp/espacenet_en26.pdf',\n",
       " './temp/espacenet_en27.pdf',\n",
       " './temp/espacenet_en28.pdf',\n",
       " './temp/espacenet_en29.pdf',\n",
       " './temp/espacenet_en3.pdf',\n",
       " './temp/espacenet_en30.pdf',\n",
       " './temp/espacenet_en31.pdf',\n",
       " './temp/espacenet_en32.pdf',\n",
       " './temp/espacenet_en33.pdf',\n",
       " './temp/espacenet_en34.pdf',\n",
       " './temp/espacenet_en35.pdf',\n",
       " './temp/espacenet_en36.pdf',\n",
       " './temp/espacenet_en37.pdf',\n",
       " './temp/espacenet_en38.pdf',\n",
       " './temp/espacenet_en39.pdf',\n",
       " './temp/espacenet_en4.pdf',\n",
       " './temp/espacenet_en40.pdf',\n",
       " './temp/espacenet_en41.pdf',\n",
       " './temp/espacenet_en42.pdf',\n",
       " './temp/espacenet_en43.pdf',\n",
       " './temp/espacenet_en44.pdf',\n",
       " './temp/espacenet_en45.pdf',\n",
       " './temp/espacenet_en46.pdf',\n",
       " './temp/espacenet_en47.pdf',\n",
       " './temp/espacenet_en48.pdf',\n",
       " './temp/espacenet_en49.pdf',\n",
       " './temp/espacenet_en5.pdf',\n",
       " './temp/espacenet_en50.pdf',\n",
       " './temp/espacenet_en51.pdf',\n",
       " './temp/espacenet_en52.pdf',\n",
       " './temp/espacenet_en53.pdf',\n",
       " './temp/espacenet_en54.pdf',\n",
       " './temp/espacenet_en55.pdf',\n",
       " './temp/espacenet_en56.pdf',\n",
       " './temp/espacenet_en57.pdf',\n",
       " './temp/espacenet_en58.pdf',\n",
       " './temp/espacenet_en59.pdf',\n",
       " './temp/espacenet_en6.pdf',\n",
       " './temp/espacenet_en60.pdf',\n",
       " './temp/espacenet_en61.pdf',\n",
       " './temp/espacenet_en62.pdf',\n",
       " './temp/espacenet_en63.pdf',\n",
       " './temp/espacenet_en64.pdf',\n",
       " './temp/espacenet_en65.pdf',\n",
       " './temp/espacenet_en66.pdf',\n",
       " './temp/espacenet_en67.pdf',\n",
       " './temp/espacenet_en68.pdf',\n",
       " './temp/espacenet_en69.pdf',\n",
       " './temp/espacenet_en7.pdf',\n",
       " './temp/espacenet_en70.pdf',\n",
       " './temp/espacenet_en71.pdf',\n",
       " './temp/espacenet_en72.pdf',\n",
       " './temp/espacenet_en73.pdf',\n",
       " './temp/espacenet_en74.pdf',\n",
       " './temp/espacenet_en75.pdf',\n",
       " './temp/espacenet_en76.pdf',\n",
       " './temp/espacenet_en77.pdf',\n",
       " './temp/espacenet_en78.pdf',\n",
       " './temp/espacenet_en79.pdf',\n",
       " './temp/espacenet_en8.pdf',\n",
       " './temp/espacenet_en80.pdf',\n",
       " './temp/espacenet_en81.pdf',\n",
       " './temp/espacenet_en82.pdf',\n",
       " './temp/espacenet_en83.pdf',\n",
       " './temp/espacenet_en84.pdf',\n",
       " './temp/espacenet_en85.pdf',\n",
       " './temp/espacenet_en86.pdf',\n",
       " './temp/espacenet_en87.pdf',\n",
       " './temp/espacenet_en88.pdf',\n",
       " './temp/espacenet_en89.pdf',\n",
       " './temp/espacenet_en9.pdf',\n",
       " './temp/espacenet_en90.pdf',\n",
       " './temp/espacenet_en91.pdf',\n",
       " './temp/espacenet_en92.pdf',\n",
       " './temp/espacenet_en93.pdf',\n",
       " './temp/espacenet_en94.pdf',\n",
       " './temp/espacenet_en95.pdf',\n",
       " './temp/espacenet_en96.pdf',\n",
       " './temp/espacenet_en97.pdf',\n",
       " './temp/espacenet_en98.pdf',\n",
       " './temp/espacenet_en99.pdf',\n",
       " './temp/espacenet_fr1.pdf',\n",
       " './temp/espacenet_fr10.pdf',\n",
       " './temp/espacenet_fr100.pdf',\n",
       " './temp/espacenet_fr11.pdf',\n",
       " './temp/espacenet_fr12.pdf',\n",
       " './temp/espacenet_fr13.pdf',\n",
       " './temp/espacenet_fr14.pdf',\n",
       " './temp/espacenet_fr15.pdf',\n",
       " './temp/espacenet_fr16.pdf',\n",
       " './temp/espacenet_fr17.pdf',\n",
       " './temp/espacenet_fr18.pdf',\n",
       " './temp/espacenet_fr19.pdf',\n",
       " './temp/espacenet_fr2.pdf',\n",
       " './temp/espacenet_fr20.pdf',\n",
       " './temp/espacenet_fr21.pdf',\n",
       " './temp/espacenet_fr22.pdf',\n",
       " './temp/espacenet_fr23.pdf',\n",
       " './temp/espacenet_fr24.pdf',\n",
       " './temp/espacenet_fr25.pdf',\n",
       " './temp/espacenet_fr27.pdf',\n",
       " './temp/espacenet_fr28.pdf',\n",
       " './temp/espacenet_fr29.pdf',\n",
       " './temp/espacenet_fr3.pdf',\n",
       " './temp/espacenet_fr31.pdf',\n",
       " './temp/espacenet_fr32.pdf',\n",
       " './temp/espacenet_fr34.pdf',\n",
       " './temp/espacenet_fr35.pdf',\n",
       " './temp/espacenet_fr36.pdf',\n",
       " './temp/espacenet_fr39.pdf',\n",
       " './temp/espacenet_fr4.pdf',\n",
       " './temp/espacenet_fr40.pdf',\n",
       " './temp/espacenet_fr41.pdf',\n",
       " './temp/espacenet_fr42.pdf',\n",
       " './temp/espacenet_fr43.pdf',\n",
       " './temp/espacenet_fr44.pdf',\n",
       " './temp/espacenet_fr45.pdf',\n",
       " './temp/espacenet_fr47.pdf',\n",
       " './temp/espacenet_fr49.pdf',\n",
       " './temp/espacenet_fr5.pdf',\n",
       " './temp/espacenet_fr50.pdf',\n",
       " './temp/espacenet_fr51.pdf',\n",
       " './temp/espacenet_fr52.pdf',\n",
       " './temp/espacenet_fr53.pdf',\n",
       " './temp/espacenet_fr56.pdf',\n",
       " './temp/espacenet_fr57.pdf',\n",
       " './temp/espacenet_fr59.pdf',\n",
       " './temp/espacenet_fr6.pdf',\n",
       " './temp/espacenet_fr60.pdf',\n",
       " './temp/espacenet_fr61.pdf',\n",
       " './temp/espacenet_fr62.pdf',\n",
       " './temp/espacenet_fr63.pdf',\n",
       " './temp/espacenet_fr64.pdf',\n",
       " './temp/espacenet_fr65.pdf',\n",
       " './temp/espacenet_fr66.pdf',\n",
       " './temp/espacenet_fr69.pdf',\n",
       " './temp/espacenet_fr7.pdf',\n",
       " './temp/espacenet_fr70.pdf',\n",
       " './temp/espacenet_fr71.pdf',\n",
       " './temp/espacenet_fr72.pdf',\n",
       " './temp/espacenet_fr73.pdf',\n",
       " './temp/espacenet_fr74.pdf',\n",
       " './temp/espacenet_fr76.pdf',\n",
       " './temp/espacenet_fr77.pdf',\n",
       " './temp/espacenet_fr78.pdf',\n",
       " './temp/espacenet_fr79.pdf',\n",
       " './temp/espacenet_fr8.pdf',\n",
       " './temp/espacenet_fr80.pdf',\n",
       " './temp/espacenet_fr81.pdf',\n",
       " './temp/espacenet_fr83.pdf',\n",
       " './temp/espacenet_fr85.pdf',\n",
       " './temp/espacenet_fr86.pdf',\n",
       " './temp/espacenet_fr87.pdf',\n",
       " './temp/espacenet_fr88.pdf',\n",
       " './temp/espacenet_fr89.pdf',\n",
       " './temp/espacenet_fr90.pdf',\n",
       " './temp/espacenet_fr91.pdf',\n",
       " './temp/espacenet_fr92.pdf',\n",
       " './temp/espacenet_fr93.pdf',\n",
       " './temp/espacenet_fr95.pdf',\n",
       " './temp/espacenet_fr96.pdf',\n",
       " './temp/espacenet_fr97.pdf',\n",
       " './temp/espacenet_fr98.pdf',\n",
       " './temp/espacenet_fr99.pdf',\n",
       " './temp/med_tech_1.pdf',\n",
       " './temp/med_tech_10.pdf',\n",
       " './temp/med_tech_11.pdf',\n",
       " './temp/med_tech_12.pdf',\n",
       " './temp/med_tech_13.pdf',\n",
       " './temp/med_tech_14.pdf',\n",
       " './temp/med_tech_15.pdf',\n",
       " './temp/med_tech_16.pdf',\n",
       " './temp/med_tech_17.pdf',\n",
       " './temp/med_tech_18.pdf',\n",
       " './temp/med_tech_19.pdf',\n",
       " './temp/med_tech_2.pdf',\n",
       " './temp/med_tech_20.pdf',\n",
       " './temp/med_tech_3.pdf',\n",
       " './temp/med_tech_4.pdf',\n",
       " './temp/med_tech_5.pdf',\n",
       " './temp/med_tech_6.pdf',\n",
       " './temp/med_tech_7.pdf',\n",
       " './temp/med_tech_8.pdf',\n",
       " './temp/med_tech_9.pdf',\n",
       " './temp/us_001.pdf',\n",
       " './temp/us_002.pdf',\n",
       " './temp/us_003.pdf',\n",
       " './temp/us_004.pdf',\n",
       " './temp/us_005.pdf',\n",
       " './temp/us_006.pdf',\n",
       " './temp/us_007.pdf',\n",
       " './temp/us_008.pdf',\n",
       " './temp/us_009.pdf',\n",
       " './temp/us_010.pdf',\n",
       " './temp/us_011.pdf',\n",
       " './temp/us_012.pdf',\n",
       " './temp/us_013.pdf',\n",
       " './temp/us_014.pdf',\n",
       " './temp/us_015.pdf',\n",
       " './temp/us_016.pdf',\n",
       " './temp/us_017.pdf',\n",
       " './temp/us_018.pdf',\n",
       " './temp/us_019.pdf',\n",
       " './temp/us_020.pdf',\n",
       " './temp/us_021.pdf',\n",
       " './temp/us_022.pdf',\n",
       " './temp/us_023.pdf',\n",
       " './temp/us_024.pdf',\n",
       " './temp/us_025.pdf',\n",
       " './temp/us_026.pdf',\n",
       " './temp/us_027.pdf',\n",
       " './temp/us_028.pdf',\n",
       " './temp/us_029.pdf',\n",
       " './temp/us_030.pdf',\n",
       " './temp/us_031.pdf',\n",
       " './temp/us_033.pdf',\n",
       " './temp/us_034.pdf',\n",
       " './temp/us_035.pdf',\n",
       " './temp/us_036.pdf',\n",
       " './temp/us_037.pdf',\n",
       " './temp/us_038.pdf',\n",
       " './temp/us_039.pdf',\n",
       " './temp/us_040.pdf',\n",
       " './temp/us_043.pdf',\n",
       " './temp/us_044.pdf',\n",
       " './temp/us_045.pdf',\n",
       " './temp/us_046.pdf',\n",
       " './temp/us_047.pdf',\n",
       " './temp/us_048.pdf',\n",
       " './temp/us_049.pdf',\n",
       " './temp/us_050.pdf',\n",
       " './temp/us_051.pdf',\n",
       " './temp/us_052.pdf',\n",
       " './temp/us_053.pdf',\n",
       " './temp/us_054.pdf',\n",
       " './temp/us_055.pdf',\n",
       " './temp/us_056.pdf',\n",
       " './temp/us_057.pdf',\n",
       " './temp/us_058.pdf',\n",
       " './temp/us_059.pdf',\n",
       " './temp/us_060.pdf',\n",
       " './temp/us_061.pdf',\n",
       " './temp/us_062.pdf',\n",
       " './temp/us_063.pdf',\n",
       " './temp/us_064.pdf',\n",
       " './temp/us_065.pdf',\n",
       " './temp/us_066.pdf',\n",
       " './temp/us_067.pdf',\n",
       " './temp/us_068.pdf',\n",
       " './temp/us_069.pdf',\n",
       " './temp/us_070.pdf',\n",
       " './temp/us_071.pdf',\n",
       " './temp/us_072.pdf',\n",
       " './temp/us_073.pdf',\n",
       " './temp/us_074.pdf',\n",
       " './temp/us_075.pdf',\n",
       " './temp/us_076.pdf',\n",
       " './temp/us_077.pdf',\n",
       " './temp/us_078.pdf',\n",
       " './temp/us_079.pdf',\n",
       " './temp/us_080.pdf',\n",
       " './temp/us_081.pdf',\n",
       " './temp/us_082.pdf',\n",
       " './temp/us_083.pdf',\n",
       " './temp/us_084.pdf',\n",
       " './temp/us_085.pdf',\n",
       " './temp/us_086.pdf',\n",
       " './temp/us_087.pdf',\n",
       " './temp/us_088.pdf',\n",
       " './temp/us_089.pdf',\n",
       " './temp/us_090.pdf',\n",
       " './temp/us_091.pdf',\n",
       " './temp/us_092.pdf',\n",
       " './temp/us_093.pdf',\n",
       " './temp/us_094.pdf',\n",
       " './temp/us_095.pdf',\n",
       " './temp/us_096.pdf',\n",
       " './temp/us_097.pdf',\n",
       " './temp/us_098.pdf',\n",
       " './temp/us_099.pdf',\n",
       " './temp/us_100.pdf']"
      ]
     },
     "execution_count": 12,
     "metadata": {},
     "output_type": "execute_result"
    }
   ],
   "source": [
    "# Creating the temporal folder if it does not exists:\n",
    "if not os.path.exists(TEMP_FOLDER):\n",
    "    # Create folder:\n",
    "    os.mkdir(TEMP_FOLDER)\n",
    "    \n",
    "# Downloading PDFs from the bucket to the temporal folder:\n",
    "download_files_from_bucket(BUCKET, TEMP_FOLDER)"
   ]
  },
  {
   "cell_type": "markdown",
   "id": "70f20cb8",
   "metadata": {},
   "source": [
    "### 3.2. Transforming PDFs into PNGs (Only for Online prediction)"
   ]
  },
  {
   "cell_type": "code",
   "execution_count": 13,
   "id": "869e3b76",
   "metadata": {},
   "outputs": [],
   "source": [
    "if 'ONLINE'==PREDICTION_MODE:\n",
    "    # Encoding images as base64:\n",
    "    imgs = encode_images_in_path(dest_folder)"
   ]
  },
  {
   "cell_type": "markdown",
   "id": "3db8ed2b",
   "metadata": {},
   "source": [
    "### 3.3. Cleaning old predictions"
   ]
  },
  {
   "cell_type": "code",
   "execution_count": 14,
   "id": "e065870f",
   "metadata": {},
   "outputs": [],
   "source": [
    "filelist = get_bucket_file_list(BUCKET, fname_template='*img_class_preds*.jsonl')\n",
    "clean_bucket(BUCKET, filelist)\n",
    "# TODO: save images to temp\n",
    "# TODO: upload to storage\n",
    "\n"
   ]
  },
  {
   "cell_type": "markdown",
   "id": "8edb3536",
   "metadata": {},
   "source": [
    "### 3.4. Performing predictions in the cloud"
   ]
  },
  {
   "cell_type": "code",
   "execution_count": 16,
   "id": "be2914b2",
   "metadata": {},
   "outputs": [],
   "source": [
    "# Creating the batch of instances to perform a prediction:\n",
    "\n",
    "gcs_img_path = f\"gs:/{PROJECT}/{BUCKET}/labeled_patents/images\"\n",
    "fp = \"images_icn.jsonl\"\n",
    "\n",
    "def save_jsonl(fp, json_file):\n",
    "    # needs .jl suffix\n",
    "    d = json.dumps(json_file)+\"\\n\"\n",
    "    d = d.encode('utf8')\n",
    "    try:\n",
    "        with open(fp, \"ab\") as f:\n",
    "            f.write(d)\n",
    "    except Exception as e:\n",
    "        print(f\"[ERROR]: {e}\\n{sys.exc_info()}\\n{traceback.format_exc()}\")\n",
    "\n",
    "def create_jsonl(gcs_img_path,fp):\n",
    "    storage_client = storage.Client()\n",
    "    bucket = storage_client.bucket(BUCKET)\n",
    "    # create jsonl\n",
    "    blob_list  = [blob.name for blob in list(bucket.list_blobs()) if blob.name.startswith(\"labeled_patents/images\") and blob.name.endswith(\".png\")]\n",
    "    \n",
    "    for filename in blob_list:\n",
    "        temp_json = {\"content\": f\"gs://{BUCKET}/{filename}\", \"mimeType\": \"image/png\"}\n",
    "        save_jsonl(fp, temp_json)\n",
    "    \n",
    "create_jsonl(gcs_img_path, fp)   "
   ]
  },
  {
   "cell_type": "code",
   "execution_count": 17,
   "id": "41639dbe",
   "metadata": {},
   "outputs": [
    {
     "name": "stdout",
     "output_type": "stream",
     "text": [
      "Copying file://./images_icn.jsonl [Content-Type=application/octet-stream]...\n",
      "/ [1/1 files][ 89.5 KiB/ 89.5 KiB] 100% Done                                    \n",
      "Operation completed over 1 objects/89.5 KiB.                                     \n"
     ]
    }
   ],
   "source": [
    "#copy jsonl to gc\n",
    "!gsutil -m cp ./images_icn.jsonl gs://qwiklabs-gcp-00-373ac55d0e0a/labeled_patents"
   ]
  },
  {
   "cell_type": "code",
   "execution_count": 18,
   "id": "048db202",
   "metadata": {},
   "outputs": [
    {
     "name": "stdout",
     "output_type": "stream",
     "text": [
      "INFO:google.cloud.aiplatform.jobs:Creating BatchPredictionJob\n",
      "INFO:google.cloud.aiplatform.jobs:BatchPredictionJob created. Resource name: projects/136021895401/locations/us-central1/batchPredictionJobs/6354293201196548096\n",
      "INFO:google.cloud.aiplatform.jobs:To use this BatchPredictionJob in another session:\n",
      "INFO:google.cloud.aiplatform.jobs:bpj = aiplatform.BatchPredictionJob('projects/136021895401/locations/us-central1/batchPredictionJobs/6354293201196548096')\n",
      "INFO:google.cloud.aiplatform.jobs:View Batch Prediction Job:\n",
      "https://console.cloud.google.com/ai/platform/locations/us-central1/batch-predictions/6354293201196548096?project=136021895401\n",
      "INFO:google.cloud.aiplatform.jobs:BatchPredictionJob projects/136021895401/locations/us-central1/batchPredictionJobs/6354293201196548096 current state:\n",
      "JobState.JOB_STATE_RUNNING\n",
      "INFO:google.cloud.aiplatform.jobs:BatchPredictionJob projects/136021895401/locations/us-central1/batchPredictionJobs/6354293201196548096 current state:\n",
      "JobState.JOB_STATE_RUNNING\n",
      "INFO:google.cloud.aiplatform.jobs:BatchPredictionJob projects/136021895401/locations/us-central1/batchPredictionJobs/6354293201196548096 current state:\n",
      "JobState.JOB_STATE_RUNNING\n",
      "INFO:google.cloud.aiplatform.jobs:BatchPredictionJob projects/136021895401/locations/us-central1/batchPredictionJobs/6354293201196548096 current state:\n",
      "JobState.JOB_STATE_RUNNING\n",
      "INFO:google.cloud.aiplatform.jobs:BatchPredictionJob projects/136021895401/locations/us-central1/batchPredictionJobs/6354293201196548096 current state:\n",
      "JobState.JOB_STATE_RUNNING\n",
      "INFO:google.cloud.aiplatform.jobs:BatchPredictionJob projects/136021895401/locations/us-central1/batchPredictionJobs/6354293201196548096 current state:\n",
      "JobState.JOB_STATE_RUNNING\n"
     ]
    },
    {
     "ename": "KeyboardInterrupt",
     "evalue": "",
     "output_type": "error",
     "traceback": [
      "\u001b[0;31m---------------------------------------------------------------------------\u001b[0m",
      "\u001b[0;31mKeyboardInterrupt\u001b[0m                         Traceback (most recent call last)",
      "\u001b[0;32m<ipython-input-18-5f45b8f028b7>\u001b[0m in \u001b[0;36m<module>\u001b[0;34m\u001b[0m\n\u001b[1;32m     39\u001b[0m     \u001b[0mjob_display_name\u001b[0m\u001b[0;34m=\u001b[0m\u001b[0;34m'batch_img_classification'\u001b[0m\u001b[0;34m,\u001b[0m\u001b[0;34m\u001b[0m\u001b[0;34m\u001b[0m\u001b[0m\n\u001b[1;32m     40\u001b[0m     \u001b[0mgcs_source\u001b[0m\u001b[0;34m=\u001b[0m\u001b[0;34m'gs://qwiklabs-gcp-00-373ac55d0e0a/labeled_patents/images_icn.jsonl'\u001b[0m\u001b[0;34m,\u001b[0m\u001b[0;34m\u001b[0m\u001b[0;34m\u001b[0m\u001b[0m\n\u001b[0;32m---> 41\u001b[0;31m     \u001b[0mgcs_destination\u001b[0m\u001b[0;34m=\u001b[0m\u001b[0;34m'gs://qwiklabs-gcp-00-373ac55d0e0a/labeled_patents/img_class_preds'\u001b[0m\u001b[0;34m,\u001b[0m\u001b[0;34m\u001b[0m\u001b[0;34m\u001b[0m\u001b[0m\n\u001b[0m\u001b[1;32m     42\u001b[0m )\n",
      "\u001b[0;32m<ipython-input-18-5f45b8f028b7>\u001b[0m in \u001b[0;36mcreate_batch_prediction_job_sample\u001b[0;34m(project, location, model_resource_name, job_display_name, gcs_source, gcs_destination)\u001b[0m\n\u001b[1;32m     23\u001b[0m         \u001b[0mgcs_source\u001b[0m\u001b[0;34m=\u001b[0m\u001b[0mgcs_source\u001b[0m\u001b[0;34m,\u001b[0m\u001b[0;34m\u001b[0m\u001b[0;34m\u001b[0m\u001b[0m\n\u001b[1;32m     24\u001b[0m         \u001b[0mgcs_destination_prefix\u001b[0m\u001b[0;34m=\u001b[0m\u001b[0mgcs_destination\u001b[0m\u001b[0;34m,\u001b[0m\u001b[0;34m\u001b[0m\u001b[0;34m\u001b[0m\u001b[0m\n\u001b[0;32m---> 25\u001b[0;31m         \u001b[0msync\u001b[0m\u001b[0;34m=\u001b[0m\u001b[0;32mTrue\u001b[0m\u001b[0;34m,\u001b[0m\u001b[0;34m\u001b[0m\u001b[0;34m\u001b[0m\u001b[0m\n\u001b[0m\u001b[1;32m     26\u001b[0m     )\n\u001b[1;32m     27\u001b[0m \u001b[0;34m\u001b[0m\u001b[0m\n",
      "\u001b[0;32m/opt/conda/lib/python3.7/site-packages/google/cloud/aiplatform/models.py\u001b[0m in \u001b[0;36mbatch_predict\u001b[0;34m(self, job_display_name, gcs_source, bigquery_source, instances_format, gcs_destination_prefix, bigquery_destination_prefix, predictions_format, model_parameters, machine_type, accelerator_type, accelerator_count, starting_replica_count, max_replica_count, generate_explanation, explanation_metadata, explanation_parameters, labels, credentials, encryption_spec_key_name, sync)\u001b[0m\n\u001b[1;32m   2127\u001b[0m             \u001b[0mcredentials\u001b[0m\u001b[0;34m=\u001b[0m\u001b[0mcredentials\u001b[0m \u001b[0;32mor\u001b[0m \u001b[0mself\u001b[0m\u001b[0;34m.\u001b[0m\u001b[0mcredentials\u001b[0m\u001b[0;34m,\u001b[0m\u001b[0;34m\u001b[0m\u001b[0;34m\u001b[0m\u001b[0m\n\u001b[1;32m   2128\u001b[0m             \u001b[0mencryption_spec_key_name\u001b[0m\u001b[0;34m=\u001b[0m\u001b[0mencryption_spec_key_name\u001b[0m\u001b[0;34m,\u001b[0m\u001b[0;34m\u001b[0m\u001b[0;34m\u001b[0m\u001b[0m\n\u001b[0;32m-> 2129\u001b[0;31m             \u001b[0msync\u001b[0m\u001b[0;34m=\u001b[0m\u001b[0msync\u001b[0m\u001b[0;34m,\u001b[0m\u001b[0;34m\u001b[0m\u001b[0;34m\u001b[0m\u001b[0m\n\u001b[0m\u001b[1;32m   2130\u001b[0m         )\n\u001b[1;32m   2131\u001b[0m \u001b[0;34m\u001b[0m\u001b[0m\n",
      "\u001b[0;32m/opt/conda/lib/python3.7/site-packages/google/cloud/aiplatform/jobs.py\u001b[0m in \u001b[0;36mcreate\u001b[0;34m(cls, job_display_name, model_name, instances_format, predictions_format, gcs_source, bigquery_source, gcs_destination_prefix, bigquery_destination_prefix, model_parameters, machine_type, accelerator_type, accelerator_count, starting_replica_count, max_replica_count, generate_explanation, explanation_metadata, explanation_parameters, labels, project, location, credentials, encryption_spec_key_name, sync)\u001b[0m\n\u001b[1;32m    666\u001b[0m             \u001b[0mlocation\u001b[0m\u001b[0;34m=\u001b[0m\u001b[0mlocation\u001b[0m \u001b[0;32mor\u001b[0m \u001b[0minitializer\u001b[0m\u001b[0;34m.\u001b[0m\u001b[0mglobal_config\u001b[0m\u001b[0;34m.\u001b[0m\u001b[0mlocation\u001b[0m\u001b[0;34m,\u001b[0m\u001b[0;34m\u001b[0m\u001b[0;34m\u001b[0m\u001b[0m\n\u001b[1;32m    667\u001b[0m             \u001b[0mcredentials\u001b[0m\u001b[0;34m=\u001b[0m\u001b[0mcredentials\u001b[0m \u001b[0;32mor\u001b[0m \u001b[0minitializer\u001b[0m\u001b[0;34m.\u001b[0m\u001b[0mglobal_config\u001b[0m\u001b[0;34m.\u001b[0m\u001b[0mcredentials\u001b[0m\u001b[0;34m,\u001b[0m\u001b[0;34m\u001b[0m\u001b[0;34m\u001b[0m\u001b[0m\n\u001b[0;32m--> 668\u001b[0;31m             \u001b[0msync\u001b[0m\u001b[0;34m=\u001b[0m\u001b[0msync\u001b[0m\u001b[0;34m,\u001b[0m\u001b[0;34m\u001b[0m\u001b[0;34m\u001b[0m\u001b[0m\n\u001b[0m\u001b[1;32m    669\u001b[0m         )\n\u001b[1;32m    670\u001b[0m \u001b[0;34m\u001b[0m\u001b[0m\n",
      "\u001b[0;32m/opt/conda/lib/python3.7/site-packages/google/cloud/aiplatform/base.py\u001b[0m in \u001b[0;36mwrapper\u001b[0;34m(*args, **kwargs)\u001b[0m\n\u001b[1;32m    643\u001b[0m                 \u001b[0;32mif\u001b[0m \u001b[0mself\u001b[0m\u001b[0;34m:\u001b[0m\u001b[0;34m\u001b[0m\u001b[0;34m\u001b[0m\u001b[0m\n\u001b[1;32m    644\u001b[0m                     \u001b[0mself\u001b[0m\u001b[0;34m.\u001b[0m\u001b[0mwait\u001b[0m\u001b[0;34m(\u001b[0m\u001b[0;34m)\u001b[0m\u001b[0;34m\u001b[0m\u001b[0;34m\u001b[0m\u001b[0m\n\u001b[0;32m--> 645\u001b[0;31m                 \u001b[0;32mreturn\u001b[0m \u001b[0mmethod\u001b[0m\u001b[0;34m(\u001b[0m\u001b[0;34m*\u001b[0m\u001b[0margs\u001b[0m\u001b[0;34m,\u001b[0m \u001b[0;34m**\u001b[0m\u001b[0mkwargs\u001b[0m\u001b[0;34m)\u001b[0m\u001b[0;34m\u001b[0m\u001b[0;34m\u001b[0m\u001b[0m\n\u001b[0m\u001b[1;32m    646\u001b[0m \u001b[0;34m\u001b[0m\u001b[0m\n\u001b[1;32m    647\u001b[0m             \u001b[0;31m# callbacks to call within the Future (in same Thread)\u001b[0m\u001b[0;34m\u001b[0m\u001b[0;34m\u001b[0m\u001b[0;34m\u001b[0m\u001b[0m\n",
      "\u001b[0;32m/opt/conda/lib/python3.7/site-packages/google/cloud/aiplatform/jobs.py\u001b[0m in \u001b[0;36m_create\u001b[0;34m(cls, api_client, parent, batch_prediction_job, generate_explanation, project, location, credentials, sync)\u001b[0m\n\u001b[1;32m    742\u001b[0m         )\n\u001b[1;32m    743\u001b[0m \u001b[0;34m\u001b[0m\u001b[0m\n\u001b[0;32m--> 744\u001b[0;31m         \u001b[0mbatch_prediction_job\u001b[0m\u001b[0;34m.\u001b[0m\u001b[0m_block_until_complete\u001b[0m\u001b[0;34m(\u001b[0m\u001b[0;34m)\u001b[0m\u001b[0;34m\u001b[0m\u001b[0;34m\u001b[0m\u001b[0m\n\u001b[0m\u001b[1;32m    745\u001b[0m \u001b[0;34m\u001b[0m\u001b[0m\n\u001b[1;32m    746\u001b[0m         \u001b[0;32mreturn\u001b[0m \u001b[0mbatch_prediction_job\u001b[0m\u001b[0;34m\u001b[0m\u001b[0;34m\u001b[0m\u001b[0m\n",
      "\u001b[0;32m/opt/conda/lib/python3.7/site-packages/google/cloud/aiplatform/jobs.py\u001b[0m in \u001b[0;36m_block_until_complete\u001b[0;34m(self)\u001b[0m\n\u001b[1;32m    207\u001b[0m                 \u001b[0mlog_wait\u001b[0m \u001b[0;34m=\u001b[0m \u001b[0mmin\u001b[0m\u001b[0;34m(\u001b[0m\u001b[0mlog_wait\u001b[0m \u001b[0;34m*\u001b[0m \u001b[0mmultiplier\u001b[0m\u001b[0;34m,\u001b[0m \u001b[0mmax_wait\u001b[0m\u001b[0;34m)\u001b[0m\u001b[0;34m\u001b[0m\u001b[0;34m\u001b[0m\u001b[0m\n\u001b[1;32m    208\u001b[0m                 \u001b[0mprevious_time\u001b[0m \u001b[0;34m=\u001b[0m \u001b[0mcurrent_time\u001b[0m\u001b[0;34m\u001b[0m\u001b[0;34m\u001b[0m\u001b[0m\n\u001b[0;32m--> 209\u001b[0;31m             \u001b[0mtime\u001b[0m\u001b[0;34m.\u001b[0m\u001b[0msleep\u001b[0m\u001b[0;34m(\u001b[0m\u001b[0mwait\u001b[0m\u001b[0;34m)\u001b[0m\u001b[0;34m\u001b[0m\u001b[0;34m\u001b[0m\u001b[0m\n\u001b[0m\u001b[1;32m    210\u001b[0m \u001b[0;34m\u001b[0m\u001b[0m\n\u001b[1;32m    211\u001b[0m         _LOGGER.info(\n",
      "\u001b[0;31mKeyboardInterrupt\u001b[0m: "
     ]
    }
   ],
   "source": [
    "# Launching predictions\n",
    "\n",
    "import base64\n",
    "\n",
    "from google.cloud import aiplatform\n",
    "from google.cloud.aiplatform.gapic.schema import predict\n",
    "\n",
    "\n",
    "def create_batch_prediction_job_sample(\n",
    "    project='qwiklabs-gcp-00-373ac55d0e0a',\n",
    "    location='us-central1',\n",
    "    model_resource_name='8925034949820547072',\n",
    "    job_display_name='batch_img_classification',\n",
    "    gcs_source='gs://qwiklabs-gcp-00-373ac55d0e0a/labeled_patents/images_icn.jsonl',\n",
    "    gcs_destination='gs://qwiklabs-gcp-00-373ac55d0e0a/labeled_patents/img_class_preds',\n",
    "):\n",
    "    aiplatform.init(project=project, location=location)\n",
    "\n",
    "    my_model = aiplatform.Model(model_resource_name)\n",
    "\n",
    "    batch_prediction_job = my_model.batch_predict(\n",
    "        job_display_name=job_display_name,\n",
    "        gcs_source=gcs_source,\n",
    "        gcs_destination_prefix=gcs_destination,\n",
    "        sync=True,\n",
    "    )\n",
    "\n",
    "    batch_prediction_job.wait()\n",
    "\n",
    "    print(batch_prediction_job.display_name)\n",
    "    print(batch_prediction_job.resource_name)\n",
    "    print(batch_prediction_job.state)\n",
    "    return batch_prediction_job\n",
    "\n",
    "create_batch_prediction_job_sample(\n",
    "    project='qwiklabs-gcp-00-373ac55d0e0a',\n",
    "    location='us-central1',\n",
    "    model_resource_name='8925034949820547072',\n",
    "    job_display_name='batch_img_classification',\n",
    "    gcs_source='gs://qwiklabs-gcp-00-373ac55d0e0a/labeled_patents/images_icn.jsonl',\n",
    "    gcs_destination='gs://qwiklabs-gcp-00-373ac55d0e0a/labeled_patents/img_class_preds',\n",
    ")\n"
   ]
  },
  {
   "cell_type": "markdown",
   "id": "54ed9981",
   "metadata": {},
   "source": [
    "### 3.5. Downloding the JSONL files with the predictions"
   ]
  },
  {
   "cell_type": "code",
   "execution_count": 19,
   "id": "7b50571e",
   "metadata": {},
   "outputs": [
    {
     "name": "stdout",
     "output_type": "stream",
     "text": [
      "Number of files downloaded: 0\n"
     ]
    }
   ],
   "source": [
    "\n",
    "gcs_destination='gs://qwiklabs-gcp-00-373ac55d0e0a/labeled_patents/img_class_preds'\n",
    "dest_folder ='./temp'\n",
    "source_folder = 'labeled_patents/img_class_preds' \n",
    "bucket_name = BUCKET\n",
    "ext = \".jsonl\"\n",
    "filelist = download_files_from_bucket(bucket_name, dest_folder,source_folder, ext )\n"
   ]
  },
  {
   "cell_type": "markdown",
   "id": "3e8255dc",
   "metadata": {},
   "source": [
    "### 3.6. Parsing the predictions from the JSONL"
   ]
  },
  {
   "cell_type": "code",
   "execution_count": 49,
   "id": "0579c0f0",
   "metadata": {},
   "outputs": [],
   "source": [
    "def  parsing_predictions(line):\n",
    "    image_name = (line['instance']['content'])\n",
    "    postition = np.argmax(line['prediction']['confidences'], axis=0)\n",
    "    label = line['prediction']['displayNames'][postition]\n",
    "    confidence=  line['prediction']['confidences'][postition]\n",
    "    return (image_name,label,confidence)"
   ]
  },
  {
   "cell_type": "code",
   "execution_count": 50,
   "id": "9f990f88",
   "metadata": {},
   "outputs": [
    {
     "data": {
      "text/plain": [
       "('gs://qwiklabs-gcp-00-373ac55d0e0a/labeled_patents/images/crypto_15.png',\n",
       " 'US',\n",
       " 0.99960166)"
      ]
     },
     "execution_count": 50,
     "metadata": {},
     "output_type": "execute_result"
    }
   ],
   "source": [
    "parsing_predictions(line)"
   ]
  },
  {
   "cell_type": "code",
   "execution_count": 30,
   "id": "ce5b7684",
   "metadata": {},
   "outputs": [
    {
     "name": "stdout",
     "output_type": "stream",
     "text": [
      "Requirement already satisfied: jsonlines in /opt/conda/lib/python3.7/site-packages (2.0.0)\n"
     ]
    },
    {
     "ename": "TypeError",
     "evalue": "list indices must be integers or slices, not str",
     "output_type": "error",
     "traceback": [
      "\u001b[0;31m---------------------------------------------------------------------------\u001b[0m",
      "\u001b[0;31mTypeError\u001b[0m                                 Traceback (most recent call last)",
      "\u001b[0;32m<ipython-input-30-f35adbb73e0f>\u001b[0m in \u001b[0;36m<module>\u001b[0;34m\u001b[0m\n\u001b[1;32m      3\u001b[0m \u001b[0;32mimport\u001b[0m \u001b[0mpandas\u001b[0m \u001b[0;32mas\u001b[0m \u001b[0mpd\u001b[0m\u001b[0;34m\u001b[0m\u001b[0;34m\u001b[0m\u001b[0m\n\u001b[1;32m      4\u001b[0m \u001b[0;34m\u001b[0m\u001b[0m\n\u001b[0;32m----> 5\u001b[0;31m \u001b[0mResultArray\u001b[0m\u001b[0;34m=\u001b[0m \u001b[0mpd\u001b[0m\u001b[0;34m.\u001b[0m\u001b[0mDataFrame\u001b[0m\u001b[0;34m(\u001b[0m\u001b[0;34m[\u001b[0m\u001b[0;34m'instance'\u001b[0m\u001b[0;34m]\u001b[0m\u001b[0;34m[\u001b[0m\u001b[0;34m'content'\u001b[0m\u001b[0;34m]\u001b[0m\u001b[0;34m)\u001b[0m\u001b[0;34m\u001b[0m\u001b[0;34m\u001b[0m\u001b[0m\n\u001b[0m\u001b[1;32m      6\u001b[0m \u001b[0;34m\u001b[0m\u001b[0m\n\u001b[1;32m      7\u001b[0m \u001b[0;32mwith\u001b[0m \u001b[0mjsonlines\u001b[0m\u001b[0;34m.\u001b[0m\u001b[0mopen\u001b[0m\u001b[0;34m(\u001b[0m\u001b[0;34m'./temp/predictions_00001.jsonl'\u001b[0m\u001b[0;34m)\u001b[0m \u001b[0;32mas\u001b[0m \u001b[0mf\u001b[0m\u001b[0;34m:\u001b[0m\u001b[0;34m\u001b[0m\u001b[0;34m\u001b[0m\u001b[0m\n",
      "\u001b[0;31mTypeError\u001b[0m: list indices must be integers or slices, not str"
     ]
    }
   ],
   "source": [
    "!pip install jsonlines\n",
    "import jsonlines\n",
    "import pandas as pd\n",
    "\n",
    "ResultArray= pd.DataFrame(columns = ['image_name', 'label', 'confidence'])\n",
    "#image_name content:\"gs://qwiklabs-gcp-00-373ac55d0e0a/labeled_patents/images/espacenet_fr66.png\"\n",
    "#label      displayNames\":[\"EU\",\"US\"],\n",
    "#confidence max(0.9994568,5.432071E-4)\n",
    "\n",
    "with jsonlines.open('./temp/predictions_00001.jsonl') as f:\n",
    "    for line in f.iter():\n",
    "        #print (line)\n",
    "        image_name,label,confidence = parsing_predictions(line)\n",
    "        print (line['instance']['content'])\n",
    "        ResultArray.insert(1, \"newcol\", [99, 99])    \n",
    "\n",
    "#fl = open('data.json',)\n",
    "  \n",
    "    \n",
    "#with fl.open('your-filename.jsonl') as f:\n",
    "\n",
    "#    for line in f.iter():\n",
    "\n",
    "#        print line['doi'] # or whatever else you'd like to do\n",
    "\n",
    "# Opening JSON file\n",
    "#\n",
    "#        \n",
    "#        for i in data['instance']['content']:\n",
    "#        print(i:['instance']['content'])\n",
    "#        fi = open('data.json',)\n",
    "#\n",
    "#        # returns JSON object as \n",
    "# a dictionary\n",
    "data = json.load(fl)\n",
    "  \n",
    "# Iterating through the json\n",
    "# list\n",
    "\n",
    "\n",
    "        \n",
    "  \n",
    "\n",
    "# Closing file\n",
    "#f.close()"
   ]
  },
  {
   "cell_type": "code",
   "execution_count": null,
   "id": "6e0a552a",
   "metadata": {},
   "outputs": [],
   "source": [
    "# Creating a dataframe:\n",
    "\n",
    "# Creating a csv:"
   ]
  },
  {
   "cell_type": "code",
   "execution_count": 27,
   "id": "e1ca514a",
   "metadata": {},
   "outputs": [
    {
     "data": {
      "text/plain": [
       "dict"
      ]
     },
     "execution_count": 27,
     "metadata": {},
     "output_type": "execute_result"
    }
   ],
   "source": [
    "type(line)"
   ]
  },
  {
   "cell_type": "code",
   "execution_count": null,
   "id": "bb5dc9cd",
   "metadata": {},
   "outputs": [],
   "source": [
    "with jsonlines.open('your-filename.jsonl') as f:\n",
    "\n",
    "    for line in f.iter():\n",
    "\n",
    "        print line['doi'] # or whatever else you'd like to do\n"
   ]
  },
  {
   "cell_type": "code",
   "execution_count": null,
   "id": "f3f9fe96",
   "metadata": {},
   "outputs": [],
   "source": []
  },
  {
   "cell_type": "code",
   "execution_count": null,
   "id": "b535b4b8",
   "metadata": {},
   "outputs": [],
   "source": []
  },
  {
   "cell_type": "code",
   "execution_count": 18,
   "id": "94300275",
   "metadata": {},
   "outputs": [],
   "source": [
    "\n",
    "\n"
   ]
  },
  {
   "cell_type": "code",
   "execution_count": 19,
   "id": "3cc0fc8a",
   "metadata": {},
   "outputs": [
    {
     "name": "stdout",
     "output_type": "stream",
     "text": [
      "Copying file://./images_icn.jsonl [Content-Type=application/octet-stream]...\n",
      "/ [1/1 files][ 44.8 KiB/ 44.8 KiB] 100% Done                                    \n",
      "Operation completed over 1 objects/44.8 KiB.                                     \n"
     ]
    }
   ],
   "source": [
    "!gsutil -m cp ./images_icn.jsonl gs://qwiklabs-gcp-00-373ac55d0e0a/labeled_patents"
   ]
  },
  {
   "cell_type": "code",
   "execution_count": 20,
   "id": "71642893",
   "metadata": {},
   "outputs": [
    {
     "name": "stdout",
     "output_type": "stream",
     "text": [
      "INFO:google.cloud.aiplatform.jobs:Creating BatchPredictionJob\n",
      "INFO:google.cloud.aiplatform.jobs:BatchPredictionJob created. Resource name: projects/136021895401/locations/us-central1/batchPredictionJobs/7939560270030962688\n",
      "INFO:google.cloud.aiplatform.jobs:To use this BatchPredictionJob in another session:\n",
      "INFO:google.cloud.aiplatform.jobs:bpj = aiplatform.BatchPredictionJob('projects/136021895401/locations/us-central1/batchPredictionJobs/7939560270030962688')\n",
      "INFO:google.cloud.aiplatform.jobs:View Batch Prediction Job:\n",
      "https://console.cloud.google.com/ai/platform/locations/us-central1/batch-predictions/7939560270030962688?project=136021895401\n",
      "INFO:google.cloud.aiplatform.jobs:BatchPredictionJob projects/136021895401/locations/us-central1/batchPredictionJobs/7939560270030962688 current state:\n",
      "JobState.JOB_STATE_RUNNING\n",
      "INFO:google.cloud.aiplatform.jobs:BatchPredictionJob projects/136021895401/locations/us-central1/batchPredictionJobs/7939560270030962688 current state:\n",
      "JobState.JOB_STATE_RUNNING\n",
      "INFO:google.cloud.aiplatform.jobs:BatchPredictionJob projects/136021895401/locations/us-central1/batchPredictionJobs/7939560270030962688 current state:\n",
      "JobState.JOB_STATE_RUNNING\n",
      "INFO:google.cloud.aiplatform.jobs:BatchPredictionJob projects/136021895401/locations/us-central1/batchPredictionJobs/7939560270030962688 current state:\n",
      "JobState.JOB_STATE_RUNNING\n",
      "INFO:google.cloud.aiplatform.jobs:BatchPredictionJob projects/136021895401/locations/us-central1/batchPredictionJobs/7939560270030962688 current state:\n",
      "JobState.JOB_STATE_RUNNING\n",
      "INFO:google.cloud.aiplatform.jobs:BatchPredictionJob projects/136021895401/locations/us-central1/batchPredictionJobs/7939560270030962688 current state:\n",
      "JobState.JOB_STATE_RUNNING\n"
     ]
    },
    {
     "ename": "KeyboardInterrupt",
     "evalue": "",
     "output_type": "error",
     "traceback": [
      "\u001b[0;31m---------------------------------------------------------------------------\u001b[0m",
      "\u001b[0;31mKeyboardInterrupt\u001b[0m                         Traceback (most recent call last)",
      "\u001b[0;32m<ipython-input-20-38dc0467f0f3>\u001b[0m in \u001b[0;36m<module>\u001b[0;34m\u001b[0m\n\u001b[1;32m     37\u001b[0m     \u001b[0mjob_display_name\u001b[0m\u001b[0;34m=\u001b[0m\u001b[0;34m'batch_img_classification'\u001b[0m\u001b[0;34m,\u001b[0m\u001b[0;34m\u001b[0m\u001b[0;34m\u001b[0m\u001b[0m\n\u001b[1;32m     38\u001b[0m     \u001b[0mgcs_source\u001b[0m\u001b[0;34m=\u001b[0m\u001b[0;34m'gs://qwiklabs-gcp-00-373ac55d0e0a/labeled_patents/images_icn.jsonl'\u001b[0m\u001b[0;34m,\u001b[0m\u001b[0;34m\u001b[0m\u001b[0;34m\u001b[0m\u001b[0m\n\u001b[0;32m---> 39\u001b[0;31m     \u001b[0mgcs_destination\u001b[0m\u001b[0;34m=\u001b[0m\u001b[0;34m'gs://qwiklabs-gcp-00-373ac55d0e0a/labeled_patents/img_class_preds'\u001b[0m\u001b[0;34m,\u001b[0m\u001b[0;34m\u001b[0m\u001b[0;34m\u001b[0m\u001b[0m\n\u001b[0m\u001b[1;32m     40\u001b[0m )\n",
      "\u001b[0;32m<ipython-input-20-38dc0467f0f3>\u001b[0m in \u001b[0;36mcreate_batch_prediction_job_sample\u001b[0;34m(project, location, model_resource_name, job_display_name, gcs_source, gcs_destination)\u001b[0m\n\u001b[1;32m     21\u001b[0m         \u001b[0mgcs_source\u001b[0m\u001b[0;34m=\u001b[0m\u001b[0mgcs_source\u001b[0m\u001b[0;34m,\u001b[0m\u001b[0;34m\u001b[0m\u001b[0;34m\u001b[0m\u001b[0m\n\u001b[1;32m     22\u001b[0m         \u001b[0mgcs_destination_prefix\u001b[0m\u001b[0;34m=\u001b[0m\u001b[0mgcs_destination\u001b[0m\u001b[0;34m,\u001b[0m\u001b[0;34m\u001b[0m\u001b[0;34m\u001b[0m\u001b[0m\n\u001b[0;32m---> 23\u001b[0;31m         \u001b[0msync\u001b[0m\u001b[0;34m=\u001b[0m\u001b[0;32mTrue\u001b[0m\u001b[0;34m,\u001b[0m\u001b[0;34m\u001b[0m\u001b[0;34m\u001b[0m\u001b[0m\n\u001b[0m\u001b[1;32m     24\u001b[0m     )\n\u001b[1;32m     25\u001b[0m \u001b[0;34m\u001b[0m\u001b[0m\n",
      "\u001b[0;32m/opt/conda/lib/python3.7/site-packages/google/cloud/aiplatform/models.py\u001b[0m in \u001b[0;36mbatch_predict\u001b[0;34m(self, job_display_name, gcs_source, bigquery_source, instances_format, gcs_destination_prefix, bigquery_destination_prefix, predictions_format, model_parameters, machine_type, accelerator_type, accelerator_count, starting_replica_count, max_replica_count, generate_explanation, explanation_metadata, explanation_parameters, labels, credentials, encryption_spec_key_name, sync)\u001b[0m\n\u001b[1;32m   2127\u001b[0m             \u001b[0mcredentials\u001b[0m\u001b[0;34m=\u001b[0m\u001b[0mcredentials\u001b[0m \u001b[0;32mor\u001b[0m \u001b[0mself\u001b[0m\u001b[0;34m.\u001b[0m\u001b[0mcredentials\u001b[0m\u001b[0;34m,\u001b[0m\u001b[0;34m\u001b[0m\u001b[0;34m\u001b[0m\u001b[0m\n\u001b[1;32m   2128\u001b[0m             \u001b[0mencryption_spec_key_name\u001b[0m\u001b[0;34m=\u001b[0m\u001b[0mencryption_spec_key_name\u001b[0m\u001b[0;34m,\u001b[0m\u001b[0;34m\u001b[0m\u001b[0;34m\u001b[0m\u001b[0m\n\u001b[0;32m-> 2129\u001b[0;31m             \u001b[0msync\u001b[0m\u001b[0;34m=\u001b[0m\u001b[0msync\u001b[0m\u001b[0;34m,\u001b[0m\u001b[0;34m\u001b[0m\u001b[0;34m\u001b[0m\u001b[0m\n\u001b[0m\u001b[1;32m   2130\u001b[0m         )\n\u001b[1;32m   2131\u001b[0m \u001b[0;34m\u001b[0m\u001b[0m\n",
      "\u001b[0;32m/opt/conda/lib/python3.7/site-packages/google/cloud/aiplatform/jobs.py\u001b[0m in \u001b[0;36mcreate\u001b[0;34m(cls, job_display_name, model_name, instances_format, predictions_format, gcs_source, bigquery_source, gcs_destination_prefix, bigquery_destination_prefix, model_parameters, machine_type, accelerator_type, accelerator_count, starting_replica_count, max_replica_count, generate_explanation, explanation_metadata, explanation_parameters, labels, project, location, credentials, encryption_spec_key_name, sync)\u001b[0m\n\u001b[1;32m    666\u001b[0m             \u001b[0mlocation\u001b[0m\u001b[0;34m=\u001b[0m\u001b[0mlocation\u001b[0m \u001b[0;32mor\u001b[0m \u001b[0minitializer\u001b[0m\u001b[0;34m.\u001b[0m\u001b[0mglobal_config\u001b[0m\u001b[0;34m.\u001b[0m\u001b[0mlocation\u001b[0m\u001b[0;34m,\u001b[0m\u001b[0;34m\u001b[0m\u001b[0;34m\u001b[0m\u001b[0m\n\u001b[1;32m    667\u001b[0m             \u001b[0mcredentials\u001b[0m\u001b[0;34m=\u001b[0m\u001b[0mcredentials\u001b[0m \u001b[0;32mor\u001b[0m \u001b[0minitializer\u001b[0m\u001b[0;34m.\u001b[0m\u001b[0mglobal_config\u001b[0m\u001b[0;34m.\u001b[0m\u001b[0mcredentials\u001b[0m\u001b[0;34m,\u001b[0m\u001b[0;34m\u001b[0m\u001b[0;34m\u001b[0m\u001b[0m\n\u001b[0;32m--> 668\u001b[0;31m             \u001b[0msync\u001b[0m\u001b[0;34m=\u001b[0m\u001b[0msync\u001b[0m\u001b[0;34m,\u001b[0m\u001b[0;34m\u001b[0m\u001b[0;34m\u001b[0m\u001b[0m\n\u001b[0m\u001b[1;32m    669\u001b[0m         )\n\u001b[1;32m    670\u001b[0m \u001b[0;34m\u001b[0m\u001b[0m\n",
      "\u001b[0;32m/opt/conda/lib/python3.7/site-packages/google/cloud/aiplatform/base.py\u001b[0m in \u001b[0;36mwrapper\u001b[0;34m(*args, **kwargs)\u001b[0m\n\u001b[1;32m    643\u001b[0m                 \u001b[0;32mif\u001b[0m \u001b[0mself\u001b[0m\u001b[0;34m:\u001b[0m\u001b[0;34m\u001b[0m\u001b[0;34m\u001b[0m\u001b[0m\n\u001b[1;32m    644\u001b[0m                     \u001b[0mself\u001b[0m\u001b[0;34m.\u001b[0m\u001b[0mwait\u001b[0m\u001b[0;34m(\u001b[0m\u001b[0;34m)\u001b[0m\u001b[0;34m\u001b[0m\u001b[0;34m\u001b[0m\u001b[0m\n\u001b[0;32m--> 645\u001b[0;31m                 \u001b[0;32mreturn\u001b[0m \u001b[0mmethod\u001b[0m\u001b[0;34m(\u001b[0m\u001b[0;34m*\u001b[0m\u001b[0margs\u001b[0m\u001b[0;34m,\u001b[0m \u001b[0;34m**\u001b[0m\u001b[0mkwargs\u001b[0m\u001b[0;34m)\u001b[0m\u001b[0;34m\u001b[0m\u001b[0;34m\u001b[0m\u001b[0m\n\u001b[0m\u001b[1;32m    646\u001b[0m \u001b[0;34m\u001b[0m\u001b[0m\n\u001b[1;32m    647\u001b[0m             \u001b[0;31m# callbacks to call within the Future (in same Thread)\u001b[0m\u001b[0;34m\u001b[0m\u001b[0;34m\u001b[0m\u001b[0;34m\u001b[0m\u001b[0m\n",
      "\u001b[0;32m/opt/conda/lib/python3.7/site-packages/google/cloud/aiplatform/jobs.py\u001b[0m in \u001b[0;36m_create\u001b[0;34m(cls, api_client, parent, batch_prediction_job, generate_explanation, project, location, credentials, sync)\u001b[0m\n\u001b[1;32m    742\u001b[0m         )\n\u001b[1;32m    743\u001b[0m \u001b[0;34m\u001b[0m\u001b[0m\n\u001b[0;32m--> 744\u001b[0;31m         \u001b[0mbatch_prediction_job\u001b[0m\u001b[0;34m.\u001b[0m\u001b[0m_block_until_complete\u001b[0m\u001b[0;34m(\u001b[0m\u001b[0;34m)\u001b[0m\u001b[0;34m\u001b[0m\u001b[0;34m\u001b[0m\u001b[0m\n\u001b[0m\u001b[1;32m    745\u001b[0m \u001b[0;34m\u001b[0m\u001b[0m\n\u001b[1;32m    746\u001b[0m         \u001b[0;32mreturn\u001b[0m \u001b[0mbatch_prediction_job\u001b[0m\u001b[0;34m\u001b[0m\u001b[0;34m\u001b[0m\u001b[0m\n",
      "\u001b[0;32m/opt/conda/lib/python3.7/site-packages/google/cloud/aiplatform/jobs.py\u001b[0m in \u001b[0;36m_block_until_complete\u001b[0;34m(self)\u001b[0m\n\u001b[1;32m    207\u001b[0m                 \u001b[0mlog_wait\u001b[0m \u001b[0;34m=\u001b[0m \u001b[0mmin\u001b[0m\u001b[0;34m(\u001b[0m\u001b[0mlog_wait\u001b[0m \u001b[0;34m*\u001b[0m \u001b[0mmultiplier\u001b[0m\u001b[0;34m,\u001b[0m \u001b[0mmax_wait\u001b[0m\u001b[0;34m)\u001b[0m\u001b[0;34m\u001b[0m\u001b[0;34m\u001b[0m\u001b[0m\n\u001b[1;32m    208\u001b[0m                 \u001b[0mprevious_time\u001b[0m \u001b[0;34m=\u001b[0m \u001b[0mcurrent_time\u001b[0m\u001b[0;34m\u001b[0m\u001b[0;34m\u001b[0m\u001b[0m\n\u001b[0;32m--> 209\u001b[0;31m             \u001b[0mtime\u001b[0m\u001b[0;34m.\u001b[0m\u001b[0msleep\u001b[0m\u001b[0;34m(\u001b[0m\u001b[0mwait\u001b[0m\u001b[0;34m)\u001b[0m\u001b[0;34m\u001b[0m\u001b[0;34m\u001b[0m\u001b[0m\n\u001b[0m\u001b[1;32m    210\u001b[0m \u001b[0;34m\u001b[0m\u001b[0m\n\u001b[1;32m    211\u001b[0m         _LOGGER.info(\n",
      "\u001b[0;31mKeyboardInterrupt\u001b[0m: "
     ]
    }
   ],
   "source": [
    "\n",
    "\n"
   ]
  },
  {
   "cell_type": "code",
   "execution_count": 51,
   "id": "1b829e59",
   "metadata": {},
   "outputs": [
    {
     "name": "stdout",
     "output_type": "stream",
     "text": [
      "Number of files downloaded: 0\n"
     ]
    },
    {
     "data": {
      "text/plain": [
       "True"
      ]
     },
     "execution_count": 51,
     "metadata": {},
     "output_type": "execute_result"
    }
   ],
   "source": [
    "gcs_destination='gs://qwiklabs-gcp-00-373ac55d0e0a/labeled_patents/img_class_preds'\n",
    "dest_folder ='./temp'\n",
    "source_folder = 'labeled_patents/img_class_preds' \n",
    "bucket_name = BUCKET\n",
    "ext = \".jsonl\"\n",
    "download_files_from_bucket(bucket_name, dest_folder,source_folder, ext )\n"
   ]
  },
  {
   "cell_type": "code",
   "execution_count": null,
   "id": "2acf4b42",
   "metadata": {},
   "outputs": [],
   "source": [
    "#TODO: read JSON file(s)\n",
    "#TODO: Cretae CSV File\n",
    "#TODO Upload to BQ"
   ]
  },
  {
   "cell_type": "code",
   "execution_count": null,
   "id": "63040ac5",
   "metadata": {},
   "outputs": [],
   "source": []
  },
  {
   "cell_type": "code",
   "execution_count": null,
   "id": "cb1a59c8",
   "metadata": {},
   "outputs": [],
   "source": [
    "#delete below"
   ]
  },
  {
   "cell_type": "code",
   "execution_count": null,
   "id": "da507b3d",
   "metadata": {},
   "outputs": [],
   "source": [
    "!gs://qwiklabs-gcp-00-373ac55d0e0a/labeled_patents/images/computer_vision_17.png"
   ]
  },
  {
   "cell_type": "code",
   "execution_count": 26,
   "id": "0c5a4a2f",
   "metadata": {},
   "outputs": [],
   "source": [
    "a= json.loads('{\"instance\":{\"content\":\"gs://qwiklabs-gcp-00-373ac55d0e0a/labeled_patents/images/espacenet_de14.png\",\"mimeType\":\"image/png\"},\"prediction\":{\"ids\":[\"7519108123081048064\",\"1754500600046813184\"],\"displayNames\":[\"EU\",\"US\"],\"confidences\":[0.9818163,0.018183656]}}')"
   ]
  },
  {
   "cell_type": "markdown",
   "id": "4d7fcad0",
   "metadata": {},
   "source": [
    "web result of object detection with confidence \n",
    "\n",
    "{\"instance\":{\"content\":\"gs://qwiklabs-gcp-00-373ac55d0e0a/labeled_patents/images/espacenet_de14.png\",\"mimeType\":\"image/png\"},\"prediction\":{\"ids\":[\"7519108123081048064\",\"1754500600046813184\"],\"displayNames\":[\"EU\",\"US\"],\"confidences\":[0.9818163,0.018183656]}}"
   ]
  },
  {
   "cell_type": "code",
   "execution_count": 21,
   "id": "86b2f2c9",
   "metadata": {},
   "outputs": [],
   "source": [
    "import json"
   ]
  },
  {
   "cell_type": "code",
   "execution_count": 27,
   "id": "010406cb",
   "metadata": {},
   "outputs": [
    {
     "data": {
      "text/plain": [
       "{'instance': {'content': 'gs://qwiklabs-gcp-00-373ac55d0e0a/labeled_patents/images/espacenet_de14.png',\n",
       "  'mimeType': 'image/png'},\n",
       " 'prediction': {'ids': ['7519108123081048064', '1754500600046813184'],\n",
       "  'displayNames': ['EU', 'US'],\n",
       "  'confidences': [0.9818163, 0.018183656]}}"
      ]
     },
     "execution_count": 27,
     "metadata": {},
     "output_type": "execute_result"
    }
   ],
   "source": [
    "a"
   ]
  },
  {
   "cell_type": "code",
   "execution_count": 29,
   "id": "1451673c",
   "metadata": {},
   "outputs": [
    {
     "data": {
      "text/plain": [
       "'gs://qwiklabs-gcp-00-373ac55d0e0a/labeled_patents/images/espacenet_de14.png'"
      ]
     },
     "execution_count": 29,
     "metadata": {},
     "output_type": "execute_result"
    }
   ],
   "source": [
    "a['instance']['content']"
   ]
  },
  {
   "cell_type": "code",
   "execution_count": 31,
   "id": "dcd68891",
   "metadata": {},
   "outputs": [
    {
     "data": {
      "text/plain": [
       "[0.9818163, 0.018183656]"
      ]
     },
     "execution_count": 31,
     "metadata": {},
     "output_type": "execute_result"
    }
   ],
   "source": [
    "a['prediction']['confidences']"
   ]
  },
  {
   "cell_type": "code",
   "execution_count": 49,
   "id": "c2210138",
   "metadata": {},
   "outputs": [
    {
     "name": "stdout",
     "output_type": "stream",
     "text": [
      "Number of files downloaded: 0\n"
     ]
    },
    {
     "data": {
      "text/plain": [
       "True"
      ]
     },
     "execution_count": 49,
     "metadata": {},
     "output_type": "execute_result"
    }
   ],
   "source": [
    "gcs_destination='gs://qwiklabs-gcp-00-373ac55d0e0a/labeled_patents/img_class_preds'\n",
    "dest_folder ='./temp'\n",
    "source_folder = 'labeled_patents/img_class_preds' \n",
    "bucket_name = BUCKET\n",
    "ext = \".jsonl\"\n",
    "download_files_from_bucket(bucket_name, dest_folder,source_folder, ext )\n",
    "\n"
   ]
  },
  {
   "cell_type": "code",
   "execution_count": null,
   "id": "a0eb943f",
   "metadata": {},
   "outputs": [],
   "source": []
  },
  {
   "cell_type": "code",
   "execution_count": null,
   "id": "8ba08f63",
   "metadata": {},
   "outputs": [],
   "source": []
  },
  {
   "cell_type": "code",
   "execution_count": 42,
   "id": "ff7dc259",
   "metadata": {},
   "outputs": [],
   "source": []
  },
  {
   "cell_type": "code",
   "execution_count": 48,
   "id": "08878cdd",
   "metadata": {},
   "outputs": [
    {
     "name": "stdout",
     "output_type": "stream",
     "text": [
      "Blob labeled_patents/img_class_preds/prediction-docprocessing_2021811144149-2021-08-13T14:16:52.815169Z/predictions_00001.jsonl deleted.\n",
      "Blob labeled_patents/img_class_preds/prediction-docprocessing_2021811144149-2021-08-13T15:21:55.046070Z/predictions_00001.jsonl deleted.\n",
      "Blob labeled_patents/img_class_preds/prediction-docprocessing_2021811144149-2021-08-13T15:21:55.046070Z/predictions_00002.jsonl deleted.\n",
      "Blob labeled_patents/img_class_preds/prediction-docprocessing_2021811144149-2021-08-13T15:21:55.046070Z/predictions_00003.jsonl deleted.\n",
      "Blob labeled_patents/img_class_preds/prediction-docprocessing_2021811144149-2021-08-13T15:21:55.046070Z/predictions_00004.jsonl deleted.\n",
      "Blob labeled_patents/img_class_preds/prediction-docprocessing_2021811144149-2021-08-13T15:21:55.046070Z/predictions_00005.jsonl deleted.\n",
      "Blob labeled_patents/img_class_preds/prediction-docprocessing_2021811144149-2021-08-16T12:49:54.509283Z/predictions_00001.jsonl deleted.\n",
      "Blob labeled_patents/img_class_preds/prediction-docprocessing_2021811144149-2021-08-16T12:49:54.509283Z/predictions_00002.jsonl deleted.\n",
      "Blob labeled_patents/img_class_preds/prediction-docprocessing_2021811144149-2021-08-16T12:49:54.509283Z/predictions_00003.jsonl deleted.\n",
      "Blob labeled_patents/img_class_preds/prediction-docprocessing_2021811144149-2021-08-16T12:49:54.509283Z/predictions_00004.jsonl deleted.\n",
      "Blob labeled_patents/img_class_preds/prediction-docprocessing_2021811144149-2021-08-16T12:49:54.509283Z/predictions_00005.jsonl deleted.\n"
     ]
    }
   ],
   "source": []
  },
  {
   "cell_type": "code",
   "execution_count": null,
   "id": "853078a1",
   "metadata": {},
   "outputs": [],
   "source": []
  }
 ],
 "metadata": {
  "environment": {
   "name": "tf2-gpu.2-5.m76",
   "type": "gcloud",
   "uri": "gcr.io/deeplearning-platform-release/tf2-gpu.2-5:m76"
  },
  "kernelspec": {
   "display_name": "Python 3",
   "language": "python",
   "name": "python3"
  },
  "language_info": {
   "codemirror_mode": {
    "name": "ipython",
    "version": 3
   },
   "file_extension": ".py",
   "mimetype": "text/x-python",
   "name": "python",
   "nbconvert_exporter": "python",
   "pygments_lexer": "ipython3",
   "version": "3.7.10"
  }
 },
 "nbformat": 4,
 "nbformat_minor": 5
}
