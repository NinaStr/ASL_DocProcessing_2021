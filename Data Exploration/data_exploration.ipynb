{
 "cells": [
  {
   "cell_type": "markdown",
   "id": "884c6913",
   "metadata": {},
   "source": [
    "# Labeled Patent Dataset Exploration"
   ]
  },
  {
   "cell_type": "markdown",
   "id": "4fb4de55",
   "metadata": {},
   "source": [
    "## 1. Notebook Configuration"
   ]
  },
  {
   "cell_type": "markdown",
   "id": "64ffb0fd",
   "metadata": {},
   "source": [
    "### 1.1. Loading Necessary Libraries"
   ]
  },
  {
   "cell_type": "code",
   "execution_count": 1,
   "id": "11f17564",
   "metadata": {},
   "outputs": [
    {
     "name": "stdout",
     "output_type": "stream",
     "text": [
      "Reading package lists... Done\n",
      "Building dependency tree       \n",
      "Reading state information... Done\n",
      "Suggested packages:\n",
      "  poppler-utils ghostscript fonts-japanese-mincho | fonts-ipafont-mincho\n",
      "  fonts-japanese-gothic | fonts-ipafont-gothic fonts-arphic-ukai\n",
      "  fonts-arphic-uming fonts-nanum\n",
      "The following NEW packages will be installed:\n",
      "  poppler-data\n",
      "0 upgraded, 1 newly installed, 0 to remove and 9 not upgraded.\n",
      "Need to get 1473 kB of archives.\n",
      "After this operation, 12.5 MB of additional disk space will be used.\n",
      "Get:1 http://deb.debian.org/debian buster/main amd64 poppler-data all 0.4.9-2 [1473 kB]\n",
      "Fetched 1473 kB in 0s (21.0 MB/s) \n",
      "Selecting previously unselected package poppler-data.\n",
      "(Reading database ... 81496 files and directories currently installed.)\n",
      "Preparing to unpack .../poppler-data_0.4.9-2_all.deb ...\n",
      "Unpacking poppler-data (0.4.9-2) ...\n",
      "Setting up poppler-data (0.4.9-2) ...\n",
      "Processing triggers for fontconfig (2.13.1-2) ...\n",
      "Reading package lists... Done\n",
      "Building dependency tree       \n",
      "Reading state information... Done\n",
      "The following additional packages will be installed:\n",
      "  libnspr4 libnss3 libpoppler82\n",
      "The following NEW packages will be installed:\n",
      "  libnspr4 libnss3 libpoppler82 poppler-utils\n",
      "0 upgraded, 4 newly installed, 0 to remove and 9 not upgraded.\n",
      "Need to get 2962 kB of archives.\n",
      "After this operation, 8549 kB of additional disk space will be used.\n",
      "Get:1 http://deb.debian.org/debian buster/main amd64 libnspr4 amd64 2:4.20-1 [112 kB]\n",
      "Get:2 http://deb.debian.org/debian buster/main amd64 libnss3 amd64 2:3.42.1-1+deb10u3 [1159 kB]\n",
      "Get:3 http://deb.debian.org/debian buster/main amd64 libpoppler82 amd64 0.71.0-5 [1507 kB]\n",
      "Get:4 http://deb.debian.org/debian buster/main amd64 poppler-utils amd64 0.71.0-5 [184 kB]\n",
      "Fetched 2962 kB in 0s (39.1 MB/s)       \n",
      "Selecting previously unselected package libnspr4:amd64.\n",
      "(Reading database ... 81995 files and directories currently installed.)\n",
      "Preparing to unpack .../libnspr4_2%3a4.20-1_amd64.deb ...\n",
      "Unpacking libnspr4:amd64 (2:4.20-1) ...\n",
      "Selecting previously unselected package libnss3:amd64.\n",
      "Preparing to unpack .../libnss3_2%3a3.42.1-1+deb10u3_amd64.deb ...\n",
      "Unpacking libnss3:amd64 (2:3.42.1-1+deb10u3) ...\n",
      "Selecting previously unselected package libpoppler82:amd64.\n",
      "Preparing to unpack .../libpoppler82_0.71.0-5_amd64.deb ...\n",
      "Unpacking libpoppler82:amd64 (0.71.0-5) ...\n",
      "Selecting previously unselected package poppler-utils.\n",
      "Preparing to unpack .../poppler-utils_0.71.0-5_amd64.deb ...\n",
      "Unpacking poppler-utils (0.71.0-5) ...\n",
      "Setting up libnspr4:amd64 (2:4.20-1) ...\n",
      "Setting up libnss3:amd64 (2:3.42.1-1+deb10u3) ...\n",
      "Setting up libpoppler82:amd64 (0.71.0-5) ...\n",
      "Setting up poppler-utils (0.71.0-5) ...\n",
      "Processing triggers for man-db (2.8.5-2) ...\n",
      "Processing triggers for libc-bin (2.28-10) ...\n",
      "ldconfig: /usr/local/cuda-11.0/targets/x86_64-linux/lib/libcudnn_cnn_infer.so.8 is not a symbolic link\n",
      "\n",
      "ldconfig: /usr/local/cuda-11.0/targets/x86_64-linux/lib/libcudnn_ops_train.so.8 is not a symbolic link\n",
      "\n",
      "ldconfig: /usr/local/cuda-11.0/targets/x86_64-linux/lib/libcudnn_cnn_train.so.8 is not a symbolic link\n",
      "\n",
      "ldconfig: /usr/local/cuda-11.0/targets/x86_64-linux/lib/libcudnn_adv_train.so.8 is not a symbolic link\n",
      "\n",
      "ldconfig: /usr/local/cuda-11.0/targets/x86_64-linux/lib/libcudnn_adv_infer.so.8 is not a symbolic link\n",
      "\n",
      "ldconfig: /usr/local/cuda-11.0/targets/x86_64-linux/lib/libcudnn.so.8 is not a symbolic link\n",
      "\n",
      "ldconfig: /usr/local/cuda-11.0/targets/x86_64-linux/lib/libcudnn_ops_infer.so.8 is not a symbolic link\n",
      "\n",
      "ldconfig: /lib/libmyelin.so.1 is not a symbolic link\n",
      "\n",
      "ldconfig: /lib/libnvonnxparser.so.7 is not a symbolic link\n",
      "\n",
      "ldconfig: /lib/libnvinfer.so.7 is not a symbolic link\n",
      "\n",
      "ldconfig: /lib/libnvparsers.so.7 is not a symbolic link\n",
      "\n",
      "ldconfig: /lib/libnvinfer_plugin.so.7 is not a symbolic link\n",
      "\n",
      "\u001b[33mWARNING: Ignoring invalid distribution -ensorflow-estimator (/opt/conda/lib/python3.7/site-packages)\u001b[0m\n",
      "\u001b[33mWARNING: Ignoring invalid distribution -ensorboard (/opt/conda/lib/python3.7/site-packages)\u001b[0m\n",
      "\u001b[33mWARNING: Ignoring invalid distribution -ensorflow-estimator (/opt/conda/lib/python3.7/site-packages)\u001b[0m\n",
      "\u001b[33mWARNING: Ignoring invalid distribution -ensorboard (/opt/conda/lib/python3.7/site-packages)\u001b[0m\n",
      "Collecting pdf2image\n",
      "  Downloading pdf2image-1.16.0-py3-none-any.whl (10 kB)\n",
      "Requirement already satisfied: pillow in /opt/conda/lib/python3.7/site-packages (from pdf2image) (8.3.1)\n",
      "\u001b[33mWARNING: Ignoring invalid distribution -ensorflow-estimator (/opt/conda/lib/python3.7/site-packages)\u001b[0m\n",
      "\u001b[33mWARNING: Ignoring invalid distribution -ensorboard (/opt/conda/lib/python3.7/site-packages)\u001b[0m\n",
      "Installing collected packages: pdf2image\n",
      "\u001b[33mWARNING: Ignoring invalid distribution -ensorflow-estimator (/opt/conda/lib/python3.7/site-packages)\u001b[0m\n",
      "\u001b[33mWARNING: Ignoring invalid distribution -ensorboard (/opt/conda/lib/python3.7/site-packages)\u001b[0m\n",
      "Successfully installed pdf2image-1.16.0\n",
      "\u001b[33mWARNING: Ignoring invalid distribution -ensorflow-estimator (/opt/conda/lib/python3.7/site-packages)\u001b[0m\n",
      "\u001b[33mWARNING: Ignoring invalid distribution -ensorboard (/opt/conda/lib/python3.7/site-packages)\u001b[0m\n",
      "\u001b[33mWARNING: Ignoring invalid distribution -ensorflow-estimator (/opt/conda/lib/python3.7/site-packages)\u001b[0m\n",
      "\u001b[33mWARNING: Ignoring invalid distribution -ensorboard (/opt/conda/lib/python3.7/site-packages)\u001b[0m\n",
      "\u001b[33mWARNING: Ignoring invalid distribution -ensorflow-estimator (/opt/conda/lib/python3.7/site-packages)\u001b[0m\n",
      "\u001b[33mWARNING: Ignoring invalid distribution -ensorboard (/opt/conda/lib/python3.7/site-packages)\u001b[0m\n"
     ]
    }
   ],
   "source": [
    "# General libraries:\n",
    "import os\n",
    "import glob\n",
    "import numpy as np\n",
    "import pandas as pd\n",
    "\n",
    "# Dealing with images:\n",
    "import cv2\n",
    "import matplotlib.pyplot as plt\n",
    "\n",
    "# Google APIs:\n",
    "from google.cloud import bigquery\n",
    "\n",
    "# Specific PDF libraries:\n",
    "#!conda install -c conda-forge poppler\n",
    "!sudo apt-get install -y poppler-data\n",
    "!sudo apt-get install -y poppler-utils\n",
    "!pip install pdf2image\n",
    "from pdf2image import convert_from_path\n"
   ]
  },
  {
   "cell_type": "markdown",
   "id": "e46f6588",
   "metadata": {},
   "source": [
    "### 1.2. Setting Notebook Inputs"
   ]
  },
  {
   "cell_type": "code",
   "execution_count": 12,
   "id": "4510e999",
   "metadata": {},
   "outputs": [
    {
     "name": "stdout",
     "output_type": "stream",
     "text": [
      "[ai]\n",
      "region = us-central1\n",
      "[core]\n",
      "account = 136021895401-compute@developer.gserviceaccount.com\n",
      "disable_usage_reporting = True\n",
      "project = qwiklabs-gcp-00-373ac55d0e0a\n",
      "\n",
      "Your active configuration is: [default]\n"
     ]
    }
   ],
   "source": [
    "!gcloud config list"
   ]
  },
  {
   "cell_type": "code",
   "execution_count": 14,
   "id": "28926be2",
   "metadata": {},
   "outputs": [],
   "source": [
    "PROJECT = 'qwiklabs-gcp-00-373ac55d0e0a'\n",
    "REGION = 'us-central1'\n",
    "BUCKET = 'qwiklabs-gcp-00-373ac55d0e0a'\n",
    "\n",
    "os.environ['PROJECT'] = PROJECT\n",
    "os.environ['REGION'] = REGION\n",
    "os.environ['BUCKET'] = BUCKET"
   ]
  },
  {
   "cell_type": "code",
   "execution_count": 4,
   "id": "c6a0267d",
   "metadata": {},
   "outputs": [],
   "source": [
    "pd.set_option('expand_frame_repr', False)"
   ]
  },
  {
   "cell_type": "markdown",
   "id": "edcb3876",
   "metadata": {},
   "source": [
    "## 2. Loading the Labeled Patent Public Dataset Tables"
   ]
  },
  {
   "cell_type": "markdown",
   "id": "8d66e4c6",
   "metadata": {},
   "source": [
    "### 2.1. Creating the BigQuery Dataset"
   ]
  },
  {
   "cell_type": "code",
   "execution_count": 5,
   "id": "b235ba76",
   "metadata": {},
   "outputs": [
    {
     "name": "stdout",
     "output_type": "stream",
     "text": [
      "Creating BigQuery dataset titled: labeled_patents\n",
      "Dataset 'qwiklabs-gcp-00-373ac55d0e0a:labeled_patents' successfully created.\n",
      "Here are your current datasets:\n",
      "                               datasetId                                \n",
      " ---------------------------------------------------------------------- \n",
      "  babyweight                                                            \n",
      "  feat_eng                                                              \n",
      "  labeled_patents                                                       \n",
      "  prediction_babyweight_automl_20210728052956_2021_07_30T05_01_22_529Z  \n",
      "  stock_market                                                          \n",
      "  taxifare                                                              \n"
     ]
    }
   ],
   "source": [
    "%%bash\n",
    "# Create a BigQuery dataset for the labeled patents dataset if it doesn't exist:\n",
    "datasetexists=$(bq ls -d | grep -w labeled_patents)\n",
    "\n",
    "if [ -n \"$datasetexists\" ]; then\n",
    "    echo -e \"BigQuery dataset already exists, let's not recreate it.\"\n",
    "    echo \"Here are your current datasets:\"\n",
    "    bq ls\n",
    "else\n",
    "    echo \"Creating BigQuery dataset titled: labeled_patents\"\n",
    "    \n",
    "    bq --location=US mk --dataset \\\n",
    "        --description \"Labeled Patents\" \\\n",
    "        $PROJECT:labeled_patents\n",
    "    echo \"Here are your current datasets:\"\n",
    "    bq ls\n",
    "fi"
   ]
  },
  {
   "cell_type": "code",
   "execution_count": 6,
   "id": "16e366f3",
   "metadata": {},
   "outputs": [
    {
     "name": "stderr",
     "output_type": "stream",
     "text": [
      "Query complete after 0.00s: 100%|██████████| 3/3 [00:00<00:00, 2031.80query/s]                        \n"
     ]
    },
    {
     "data": {
      "text/html": [
       "<div>\n",
       "<style scoped>\n",
       "    .dataframe tbody tr th:only-of-type {\n",
       "        vertical-align: middle;\n",
       "    }\n",
       "\n",
       "    .dataframe tbody tr th {\n",
       "        vertical-align: top;\n",
       "    }\n",
       "\n",
       "    .dataframe thead th {\n",
       "        text-align: right;\n",
       "    }\n",
       "</style>\n",
       "<table border=\"1\" class=\"dataframe\">\n",
       "  <thead>\n",
       "    <tr style=\"text-align: right;\">\n",
       "      <th></th>\n",
       "    </tr>\n",
       "  </thead>\n",
       "  <tbody>\n",
       "  </tbody>\n",
       "</table>\n",
       "</div>"
      ],
      "text/plain": [
       "Empty DataFrame\n",
       "Columns: []\n",
       "Index: []"
      ]
     },
     "execution_count": 6,
     "metadata": {},
     "output_type": "execute_result"
    }
   ],
   "source": [
    "%%bigquery\n",
    "# Creating the \"figures\" table for object detection:\n",
    "CREATE OR REPLACE TABLE\n",
    "    labeled_patents.figures AS\n",
    "SELECT\n",
    "    *\n",
    "FROM\n",
    "    bigquery-public-data.labeled_patents.figures"
   ]
  },
  {
   "cell_type": "code",
   "execution_count": 7,
   "id": "9cab9969",
   "metadata": {},
   "outputs": [
    {
     "name": "stderr",
     "output_type": "stream",
     "text": [
      "Query complete after 0.00s: 100%|██████████| 3/3 [00:00<00:00, 1949.63query/s]                        \n"
     ]
    },
    {
     "data": {
      "text/html": [
       "<div>\n",
       "<style scoped>\n",
       "    .dataframe tbody tr th:only-of-type {\n",
       "        vertical-align: middle;\n",
       "    }\n",
       "\n",
       "    .dataframe tbody tr th {\n",
       "        vertical-align: top;\n",
       "    }\n",
       "\n",
       "    .dataframe thead th {\n",
       "        text-align: right;\n",
       "    }\n",
       "</style>\n",
       "<table border=\"1\" class=\"dataframe\">\n",
       "  <thead>\n",
       "    <tr style=\"text-align: right;\">\n",
       "      <th></th>\n",
       "    </tr>\n",
       "  </thead>\n",
       "  <tbody>\n",
       "  </tbody>\n",
       "</table>\n",
       "</div>"
      ],
      "text/plain": [
       "Empty DataFrame\n",
       "Columns: []\n",
       "Index: []"
      ]
     },
     "execution_count": 7,
     "metadata": {},
     "output_type": "execute_result"
    }
   ],
   "source": [
    "%%bigquery\n",
    "# Creating the \"extracted_data\" table for entity recognition:\n",
    "CREATE OR REPLACE TABLE\n",
    "    labeled_patents.extracted_data AS\n",
    "SELECT\n",
    "    *\n",
    "FROM\n",
    "    bigquery-public-data.labeled_patents.extracted_data"
   ]
  },
  {
   "cell_type": "code",
   "execution_count": 8,
   "id": "3cf07b08",
   "metadata": {},
   "outputs": [
    {
     "name": "stderr",
     "output_type": "stream",
     "text": [
      "Query complete after 0.00s: 100%|██████████| 3/3 [00:00<00:00, 2130.89query/s]                        \n"
     ]
    },
    {
     "data": {
      "text/html": [
       "<div>\n",
       "<style scoped>\n",
       "    .dataframe tbody tr th:only-of-type {\n",
       "        vertical-align: middle;\n",
       "    }\n",
       "\n",
       "    .dataframe tbody tr th {\n",
       "        vertical-align: top;\n",
       "    }\n",
       "\n",
       "    .dataframe thead th {\n",
       "        text-align: right;\n",
       "    }\n",
       "</style>\n",
       "<table border=\"1\" class=\"dataframe\">\n",
       "  <thead>\n",
       "    <tr style=\"text-align: right;\">\n",
       "      <th></th>\n",
       "    </tr>\n",
       "  </thead>\n",
       "  <tbody>\n",
       "  </tbody>\n",
       "</table>\n",
       "</div>"
      ],
      "text/plain": [
       "Empty DataFrame\n",
       "Columns: []\n",
       "Index: []"
      ]
     },
     "execution_count": 8,
     "metadata": {},
     "output_type": "execute_result"
    }
   ],
   "source": [
    "%%bigquery\n",
    "# Creating the \"invention_types\" table document classification:\n",
    "CREATE OR REPLACE TABLE\n",
    "    labeled_patents.invention_types AS\n",
    "SELECT\n",
    "    *\n",
    "FROM\n",
    "    bigquery-public-data.labeled_patents.invention_types"
   ]
  },
  {
   "cell_type": "markdown",
   "id": "cfe9c9a2",
   "metadata": {},
   "source": [
    "## 3. Exploring the Dataset Tables as Pandas Dataframes"
   ]
  },
  {
   "cell_type": "code",
   "execution_count": 19,
   "id": "d0e8a425",
   "metadata": {},
   "outputs": [],
   "source": [
    "# Creating a BigQuery client:\n",
    "bq = bigquery.Client()"
   ]
  },
  {
   "cell_type": "markdown",
   "id": "69ada320",
   "metadata": {},
   "source": [
    "### 3.1. Exploring \"Figures\" Table"
   ]
  },
  {
   "cell_type": "code",
   "execution_count": 20,
   "id": "ae1714d5",
   "metadata": {},
   "outputs": [
    {
     "name": "stdout",
     "output_type": "stream",
     "text": [
      "Dataset shape: 91x5\n"
     ]
    },
    {
     "data": {
      "text/html": [
       "<div>\n",
       "<style scoped>\n",
       "    .dataframe tbody tr th:only-of-type {\n",
       "        vertical-align: middle;\n",
       "    }\n",
       "\n",
       "    .dataframe tbody tr th {\n",
       "        vertical-align: top;\n",
       "    }\n",
       "\n",
       "    .dataframe thead th {\n",
       "        text-align: right;\n",
       "    }\n",
       "</style>\n",
       "<table border=\"1\" class=\"dataframe\">\n",
       "  <thead>\n",
       "    <tr style=\"text-align: right;\">\n",
       "      <th></th>\n",
       "      <th>gcs_path</th>\n",
       "      <th>x_relative_min</th>\n",
       "      <th>y_relative_min</th>\n",
       "      <th>x_relative_max</th>\n",
       "      <th>y_relative_max</th>\n",
       "    </tr>\n",
       "  </thead>\n",
       "  <tbody>\n",
       "    <tr>\n",
       "      <th>0</th>\n",
       "      <td>gs://gcs-public-data--labeled-patents/espacene...</td>\n",
       "      <td>0.356322</td>\n",
       "      <td>0.745275</td>\n",
       "      <td>0.669691</td>\n",
       "      <td>0.936856</td>\n",
       "    </tr>\n",
       "    <tr>\n",
       "      <th>1</th>\n",
       "      <td>gs://gcs-public-data--labeled-patents/espacene...</td>\n",
       "      <td>0.395039</td>\n",
       "      <td>0.682131</td>\n",
       "      <td>0.640048</td>\n",
       "      <td>0.935567</td>\n",
       "    </tr>\n",
       "    <tr>\n",
       "      <th>2</th>\n",
       "      <td>gs://gcs-public-data--labeled-patents/espacene...</td>\n",
       "      <td>0.358137</td>\n",
       "      <td>0.637457</td>\n",
       "      <td>0.664247</td>\n",
       "      <td>0.935567</td>\n",
       "    </tr>\n",
       "    <tr>\n",
       "      <th>3</th>\n",
       "      <td>gs://gcs-public-data--labeled-patents/espacene...</td>\n",
       "      <td>0.539020</td>\n",
       "      <td>0.600945</td>\n",
       "      <td>0.882638</td>\n",
       "      <td>0.955326</td>\n",
       "    </tr>\n",
       "    <tr>\n",
       "      <th>4</th>\n",
       "      <td>gs://gcs-public-data--labeled-patents/espacene...</td>\n",
       "      <td>0.531155</td>\n",
       "      <td>0.597079</td>\n",
       "      <td>0.888082</td>\n",
       "      <td>0.923110</td>\n",
       "    </tr>\n",
       "  </tbody>\n",
       "</table>\n",
       "</div>"
      ],
      "text/plain": [
       "                                            gcs_path  x_relative_min  y_relative_min  x_relative_max  y_relative_max\n",
       "0  gs://gcs-public-data--labeled-patents/espacene...        0.356322        0.745275        0.669691        0.936856\n",
       "1  gs://gcs-public-data--labeled-patents/espacene...        0.395039        0.682131        0.640048        0.935567\n",
       "2  gs://gcs-public-data--labeled-patents/espacene...        0.358137        0.637457        0.664247        0.935567\n",
       "3  gs://gcs-public-data--labeled-patents/espacene...        0.539020        0.600945        0.882638        0.955326\n",
       "4  gs://gcs-public-data--labeled-patents/espacene...        0.531155        0.597079        0.888082        0.923110"
      ]
     },
     "execution_count": 20,
     "metadata": {},
     "output_type": "execute_result"
    }
   ],
   "source": [
    "# Loading \"figures\" table into a dataframe:\n",
    "query = \"\"\"\n",
    "SELECT\n",
    "    *\n",
    "FROM\n",
    "    labeled_patents.figures\n",
    "\"\"\"\n",
    "figures_df = bq.query(query).to_dataframe()\n",
    "print('Dataset shape: {:d}x{:d}'.format(*figures_df.shape))\n",
    "figures_df.head()"
   ]
  },
  {
   "cell_type": "code",
   "execution_count": 21,
   "id": "853ec8d9",
   "metadata": {},
   "outputs": [
    {
     "name": "stdout",
     "output_type": "stream",
     "text": [
      "Number of unique images in \"gcs_path\" column: 91\n"
     ]
    },
    {
     "data": {
      "text/html": [
       "<div>\n",
       "<style scoped>\n",
       "    .dataframe tbody tr th:only-of-type {\n",
       "        vertical-align: middle;\n",
       "    }\n",
       "\n",
       "    .dataframe tbody tr th {\n",
       "        vertical-align: top;\n",
       "    }\n",
       "\n",
       "    .dataframe thead th {\n",
       "        text-align: right;\n",
       "    }\n",
       "</style>\n",
       "<table border=\"1\" class=\"dataframe\">\n",
       "  <thead>\n",
       "    <tr style=\"text-align: right;\">\n",
       "      <th></th>\n",
       "      <th>count</th>\n",
       "      <th>mean</th>\n",
       "      <th>std</th>\n",
       "      <th>min</th>\n",
       "      <th>25%</th>\n",
       "      <th>50%</th>\n",
       "      <th>75%</th>\n",
       "      <th>max</th>\n",
       "    </tr>\n",
       "  </thead>\n",
       "  <tbody>\n",
       "    <tr>\n",
       "      <th>x_relative_min</th>\n",
       "      <td>91.0</td>\n",
       "      <td>0.384004</td>\n",
       "      <td>0.141596</td>\n",
       "      <td>0.124622</td>\n",
       "      <td>0.264670</td>\n",
       "      <td>0.335148</td>\n",
       "      <td>0.534180</td>\n",
       "      <td>0.616455</td>\n",
       "    </tr>\n",
       "    <tr>\n",
       "      <th>y_relative_min</th>\n",
       "      <td>91.0</td>\n",
       "      <td>0.640960</td>\n",
       "      <td>0.066183</td>\n",
       "      <td>0.511168</td>\n",
       "      <td>0.584837</td>\n",
       "      <td>0.645189</td>\n",
       "      <td>0.699098</td>\n",
       "      <td>0.766323</td>\n",
       "    </tr>\n",
       "    <tr>\n",
       "      <th>x_relative_max</th>\n",
       "      <td>91.0</td>\n",
       "      <td>0.800031</td>\n",
       "      <td>0.081475</td>\n",
       "      <td>0.625529</td>\n",
       "      <td>0.736237</td>\n",
       "      <td>0.798548</td>\n",
       "      <td>0.883545</td>\n",
       "      <td>0.904416</td>\n",
       "    </tr>\n",
       "    <tr>\n",
       "      <th>y_relative_max</th>\n",
       "      <td>91.0</td>\n",
       "      <td>0.920575</td>\n",
       "      <td>0.046000</td>\n",
       "      <td>0.734107</td>\n",
       "      <td>0.906572</td>\n",
       "      <td>0.940722</td>\n",
       "      <td>0.950172</td>\n",
       "      <td>0.960052</td>\n",
       "    </tr>\n",
       "  </tbody>\n",
       "</table>\n",
       "</div>"
      ],
      "text/plain": [
       "                count      mean       std       min       25%       50%       75%       max\n",
       "x_relative_min   91.0  0.384004  0.141596  0.124622  0.264670  0.335148  0.534180  0.616455\n",
       "y_relative_min   91.0  0.640960  0.066183  0.511168  0.584837  0.645189  0.699098  0.766323\n",
       "x_relative_max   91.0  0.800031  0.081475  0.625529  0.736237  0.798548  0.883545  0.904416\n",
       "y_relative_max   91.0  0.920575  0.046000  0.734107  0.906572  0.940722  0.950172  0.960052"
      ]
     },
     "execution_count": 21,
     "metadata": {},
     "output_type": "execute_result"
    }
   ],
   "source": [
    "# Number of unique values of the images:\n",
    "n = figures_df['gcs_path'].unique().shape[0]\n",
    "print('Number of unique images in \"gcs_path\" column: {:d}'.format(n))\n",
    "\n",
    "figures_df.describe().transpose()"
   ]
  },
  {
   "cell_type": "markdown",
   "id": "2fc1961a",
   "metadata": {},
   "source": [
    "The table \"figures\" has 91 rows (one per image). Each row contains one box coordinates and the image to which the box corresponds.\n",
    "Each row has five columns:\n",
    " - gcs_path: image to which the box corresponds.\n",
    " - x_relative_min: horizontal coordinate of the top left corner of the box, adimensionalized with image width.\n",
    " - y_relative_min: vertical coordinate of the top left corner of the box, adimensionalized with image height.\n",
    " - x_relative_max: horizontal coordinate of the bottom right corner of the box, adimensionalized with image width.\n",
    " - y_relative_max: vertical coordinate of the bottom right corner of the box, adimensionalized with image height."
   ]
  },
  {
   "cell_type": "markdown",
   "id": "20091e74",
   "metadata": {},
   "source": [
    "### 3.2. Exploring \"Invention_Types\" Table"
   ]
  },
  {
   "cell_type": "code",
   "execution_count": 22,
   "id": "4504a7c2",
   "metadata": {},
   "outputs": [
    {
     "name": "stdout",
     "output_type": "stream",
     "text": [
      "Dataset shape: 136x2\n"
     ]
    },
    {
     "data": {
      "text/html": [
       "<div>\n",
       "<style scoped>\n",
       "    .dataframe tbody tr th:only-of-type {\n",
       "        vertical-align: middle;\n",
       "    }\n",
       "\n",
       "    .dataframe tbody tr th {\n",
       "        vertical-align: top;\n",
       "    }\n",
       "\n",
       "    .dataframe thead th {\n",
       "        text-align: right;\n",
       "    }\n",
       "</style>\n",
       "<table border=\"1\" class=\"dataframe\">\n",
       "  <thead>\n",
       "    <tr style=\"text-align: right;\">\n",
       "      <th></th>\n",
       "      <th>gcs_path</th>\n",
       "      <th>invention_type</th>\n",
       "    </tr>\n",
       "  </thead>\n",
       "  <tbody>\n",
       "    <tr>\n",
       "      <th>0</th>\n",
       "      <td>gs://gcs-public-data--labeled-patents/us_076.pdf</td>\n",
       "      <td>other</td>\n",
       "    </tr>\n",
       "    <tr>\n",
       "      <th>1</th>\n",
       "      <td>gs://gcs-public-data--labeled-patents/us_081.pdf</td>\n",
       "      <td>other</td>\n",
       "    </tr>\n",
       "    <tr>\n",
       "      <th>2</th>\n",
       "      <td>gs://gcs-public-data--labeled-patents/us_014.pdf</td>\n",
       "      <td>other</td>\n",
       "    </tr>\n",
       "    <tr>\n",
       "      <th>3</th>\n",
       "      <td>gs://gcs-public-data--labeled-patents/us_046.pdf</td>\n",
       "      <td>other</td>\n",
       "    </tr>\n",
       "    <tr>\n",
       "      <th>4</th>\n",
       "      <td>gs://gcs-public-data--labeled-patents/us_036.pdf</td>\n",
       "      <td>other</td>\n",
       "    </tr>\n",
       "  </tbody>\n",
       "</table>\n",
       "</div>"
      ],
      "text/plain": [
       "                                           gcs_path invention_type\n",
       "0  gs://gcs-public-data--labeled-patents/us_076.pdf          other\n",
       "1  gs://gcs-public-data--labeled-patents/us_081.pdf          other\n",
       "2  gs://gcs-public-data--labeled-patents/us_014.pdf          other\n",
       "3  gs://gcs-public-data--labeled-patents/us_046.pdf          other\n",
       "4  gs://gcs-public-data--labeled-patents/us_036.pdf          other"
      ]
     },
     "execution_count": 22,
     "metadata": {},
     "output_type": "execute_result"
    }
   ],
   "source": [
    "# Loading \"figures\" table into a dataframe:\n",
    "query = \"\"\"\n",
    "SELECT\n",
    "    *\n",
    "FROM\n",
    "    labeled_patents.invention_types\n",
    "\"\"\"\n",
    "invtypes_df = bq.query(query).to_dataframe()\n",
    "print('Dataset shape: {:d}x{:d}'.format(*invtypes_df.shape))\n",
    "invtypes_df.head()"
   ]
  },
  {
   "cell_type": "code",
   "execution_count": 24,
   "id": "1ac79d0e",
   "metadata": {},
   "outputs": [],
   "source": [
    "aux_df = invtypes_df['invention_type'].value_counts()"
   ]
  },
  {
   "cell_type": "code",
   "execution_count": 25,
   "id": "4f3ddddb",
   "metadata": {},
   "outputs": [
    {
     "name": "stdout",
     "output_type": "stream",
     "text": [
      "Number of unique images in \"gcs_path\" column: 136\n",
      "Types of inventions of the documents: value + amount\n",
      "other              76\n",
      "crypto             20\n",
      "med_tech           20\n",
      "computer_vision    20\n",
      "Name: invention_type, dtype: int64\n"
     ]
    }
   ],
   "source": [
    "# Number of unique values of the images:\n",
    "n = invtypes_df['gcs_path'].unique().shape[0]\n",
    "print('Number of unique images in \"gcs_path\" column: {:d}'.format(n))\n",
    "\n",
    "print('Types of inventions of the documents: value + amount')\n",
    "print(invtypes_df['invention_type'].value_counts())"
   ]
  },
  {
   "cell_type": "markdown",
   "id": "cf4a9986",
   "metadata": {},
   "source": [
    "The table \"inventions_type\" has 136 rows (one per image). Each row contains the file name (and path) of the patent and the type of invention according to four types of inventions:\n",
    " - crypto: 20 patents\n",
    " - med_tech: 20 patents\n",
    " - computer_vision: 20 patents\n",
    " - others: 76 patents\n",
    " \n",
    "It is worth noting that there is information for 136 patents in this table, but we have only box coordinates in the \"figures\" table for 91 patents."
   ]
  },
  {
   "cell_type": "markdown",
   "id": "769b2e9b",
   "metadata": {},
   "source": [
    "### 3.3. Exploring \"Extracted Data\" Table"
   ]
  },
  {
   "cell_type": "code",
   "execution_count": 26,
   "id": "eacce47b",
   "metadata": {},
   "outputs": [
    {
     "name": "stdout",
     "output_type": "stream",
     "text": [
      "Dataset shape: 343x14\n"
     ]
    },
    {
     "data": {
      "text/html": [
       "<div>\n",
       "<style scoped>\n",
       "    .dataframe tbody tr th:only-of-type {\n",
       "        vertical-align: middle;\n",
       "    }\n",
       "\n",
       "    .dataframe tbody tr th {\n",
       "        vertical-align: top;\n",
       "    }\n",
       "\n",
       "    .dataframe thead th {\n",
       "        text-align: right;\n",
       "    }\n",
       "</style>\n",
       "<table border=\"1\" class=\"dataframe\">\n",
       "  <thead>\n",
       "    <tr style=\"text-align: right;\">\n",
       "      <th></th>\n",
       "      <th>gcs_path</th>\n",
       "      <th>issuer</th>\n",
       "      <th>language</th>\n",
       "      <th>publication_date</th>\n",
       "      <th>class_international</th>\n",
       "      <th>class_us</th>\n",
       "      <th>application_number</th>\n",
       "      <th>filing_date</th>\n",
       "      <th>priority_date_eu</th>\n",
       "      <th>representative_line_1_eu</th>\n",
       "      <th>applicant_line_1</th>\n",
       "      <th>inventor_line_1</th>\n",
       "      <th>title_line_1</th>\n",
       "      <th>number</th>\n",
       "    </tr>\n",
       "  </thead>\n",
       "  <tbody>\n",
       "    <tr>\n",
       "      <th>0</th>\n",
       "      <td>gs://gcs-public-data--labeled-patents/espacene...</td>\n",
       "      <td>EU</td>\n",
       "      <td>DE</td>\n",
       "      <td>29.08.018</td>\n",
       "      <td>E04H 6/12</td>\n",
       "      <td>None</td>\n",
       "      <td>18157874.1</td>\n",
       "      <td>21.02.2018</td>\n",
       "      <td>22.02.2017</td>\n",
       "      <td>Liedtke &amp; Partner Patentanw√§lte</td>\n",
       "      <td>SHB Hebezeugbau GmbH</td>\n",
       "      <td>VOLGER, Alexander</td>\n",
       "      <td>STEUERUNGSSYSTEM F√úR AUTOMATISCHE PARKH√ÑUSER</td>\n",
       "      <td>EP 3 366 869 A1</td>\n",
       "    </tr>\n",
       "    <tr>\n",
       "      <th>1</th>\n",
       "      <td>gs://gcs-public-data--labeled-patents/espacene...</td>\n",
       "      <td>EU</td>\n",
       "      <td>DE</td>\n",
       "      <td>03.10.2018</td>\n",
       "      <td>A61B 1/00</td>\n",
       "      <td>None</td>\n",
       "      <td>18164602.7</td>\n",
       "      <td>28.03.2018</td>\n",
       "      <td>28.03.2017</td>\n",
       "      <td>Gramm, Line, &amp; Partner</td>\n",
       "      <td>Emmanouilidis, Nikos</td>\n",
       "      <td>Emmanouilidis, Nikos</td>\n",
       "      <td>MEDIZINISCHE VORRICHTUNG</td>\n",
       "      <td>EP 3 381 348 A1</td>\n",
       "    </tr>\n",
       "    <tr>\n",
       "      <th>2</th>\n",
       "      <td>gs://gcs-public-data--labeled-patents/espacene...</td>\n",
       "      <td>EU</td>\n",
       "      <td>DE</td>\n",
       "      <td>03.10.2018</td>\n",
       "      <td>H05B 6/12</td>\n",
       "      <td>None</td>\n",
       "      <td>18165514.3</td>\n",
       "      <td>03.04.2018</td>\n",
       "      <td>30.03.2017</td>\n",
       "      <td>None</td>\n",
       "      <td>BSH Hausger√§te GmbH</td>\n",
       "      <td>Acero Acero, Jesus</td>\n",
       "      <td>VORRICHTUNG ZUR INDUKTIVEN ENERGIE√úBERTRAGUNG</td>\n",
       "      <td>EP 3 383 141 A2</td>\n",
       "    </tr>\n",
       "    <tr>\n",
       "      <th>3</th>\n",
       "      <td>gs://gcs-public-data--labeled-patents/espacene...</td>\n",
       "      <td>EU</td>\n",
       "      <td>DE</td>\n",
       "      <td>03.10.2018</td>\n",
       "      <td>H01Q 1/22</td>\n",
       "      <td>None</td>\n",
       "      <td>18164695.1</td>\n",
       "      <td>28.03.2018</td>\n",
       "      <td>31.03.2017</td>\n",
       "      <td>Kruspig, Volkmar et al</td>\n",
       "      <td>Antennentechnik ABB Bad</td>\n",
       "      <td>Harz, Thomas</td>\n",
       "      <td>ELEKTROTECHNISCHE EINRICHTUNG</td>\n",
       "      <td>EP 3 382 793 A1</td>\n",
       "    </tr>\n",
       "    <tr>\n",
       "      <th>4</th>\n",
       "      <td>gs://gcs-public-data--labeled-patents/espacene...</td>\n",
       "      <td>EU</td>\n",
       "      <td>DE</td>\n",
       "      <td>03.10.2018</td>\n",
       "      <td>A01K 31/00</td>\n",
       "      <td>None</td>\n",
       "      <td>18171005.4</td>\n",
       "      <td>05.02.2015</td>\n",
       "      <td>05.02.2014</td>\n",
       "      <td>Stork Bamberger Patentanw√§lte</td>\n",
       "      <td>Linco Food Systems A/S</td>\n",
       "      <td>Thrane, Uffe</td>\n",
       "      <td>MASTH√ÑHNCHENCONTAINER ALS BESTANDTEIL EINER E...</td>\n",
       "      <td>EP 3 381 276 A1</td>\n",
       "    </tr>\n",
       "  </tbody>\n",
       "</table>\n",
       "</div>"
      ],
      "text/plain": [
       "                                            gcs_path issuer language publication_date class_international class_us application_number filing_date priority_date_eu          representative_line_1_eu         applicant_line_1       inventor_line_1                                       title_line_1           number\n",
       "0  gs://gcs-public-data--labeled-patents/espacene...     EU       DE        29.08.018           E04H 6/12     None         18157874.1  21.02.2018       22.02.2017  Liedtke & Partner Patentanw√§lte     SHB Hebezeugbau GmbH     VOLGER, Alexander     STEUERUNGSSYSTEM F√úR AUTOMATISCHE PARKH√ÑUSER  EP 3 366 869 A1\n",
       "1  gs://gcs-public-data--labeled-patents/espacene...     EU       DE       03.10.2018           A61B 1/00     None         18164602.7  28.03.2018       28.03.2017            Gramm, Line, & Partner     Emmanouilidis, Nikos  Emmanouilidis, Nikos                           MEDIZINISCHE VORRICHTUNG  EP 3 381 348 A1\n",
       "2  gs://gcs-public-data--labeled-patents/espacene...     EU       DE       03.10.2018           H05B 6/12     None         18165514.3  03.04.2018       30.03.2017                              None     BSH Hausger√§te GmbH    Acero Acero, Jesus     VORRICHTUNG ZUR INDUKTIVEN ENERGIE√úBERTRAGUNG  EP 3 383 141 A2\n",
       "3  gs://gcs-public-data--labeled-patents/espacene...     EU       DE       03.10.2018           H01Q 1/22     None         18164695.1  28.03.2018       31.03.2017            Kruspig, Volkmar et al  Antennentechnik ABB Bad          Harz, Thomas                      ELEKTROTECHNISCHE EINRICHTUNG  EP 3 382 793 A1\n",
       "4  gs://gcs-public-data--labeled-patents/espacene...     EU       DE       03.10.2018          A01K 31/00     None         18171005.4  05.02.2015       05.02.2014    Stork Bamberger Patentanw√§lte   Linco Food Systems A/S          Thrane, Uffe  MASTH√ÑHNCHENCONTAINER ALS BESTANDTEIL EINER E...  EP 3 381 276 A1"
      ]
     },
     "execution_count": 26,
     "metadata": {},
     "output_type": "execute_result"
    }
   ],
   "source": [
    "# Loading \"extracted_data\" table into a dataframe:\n",
    "query = \"\"\"\n",
    "SELECT\n",
    "    *\n",
    "FROM\n",
    "    labeled_patents.extracted_data\n",
    "\"\"\"\n",
    "extdata_df = bq.query(query).to_dataframe()\n",
    "print('Dataset shape: {:d}x{:d}'.format(*extdata_df.shape))\n",
    "extdata_df.head()"
   ]
  },
  {
   "cell_type": "code",
   "execution_count": 29,
   "id": "f8a2061a",
   "metadata": {},
   "outputs": [
    {
     "name": "stdout",
     "output_type": "stream",
     "text": [
      "Columns in the \"extracted data\" table:\n",
      "\n",
      "gcs_path\n",
      "issuer\n",
      "language\n",
      "publication_date\n",
      "class_international\n",
      "class_us\n",
      "application_number\n",
      "filing_date\n",
      "priority_date_eu\n",
      "representative_line_1_eu\n",
      "applicant_line_1\n",
      "inventor_line_1\n",
      "title_line_1\n",
      "number\n"
     ]
    }
   ],
   "source": [
    "print('Columns in the \"extracted data\" table:')\n",
    "print(\"\")\n",
    "print(*extdata_df.columns, sep=\"\\n\")"
   ]
  },
  {
   "cell_type": "code",
   "execution_count": 30,
   "id": "de9ec9b6",
   "metadata": {},
   "outputs": [
    {
     "name": "stdout",
     "output_type": "stream",
     "text": [
      "Number of unique images in \"gcs_path\" column: 343\n",
      "Number of patents per issuer: US/EU\n",
      "EU    246\n",
      "US     97\n",
      "Name: issuer, dtype: int64\n",
      "Number of patents per language\n",
      "EN    197\n",
      "FR     83\n",
      "DE     63\n",
      "Name: language, dtype: int64\n"
     ]
    }
   ],
   "source": [
    "# Number of unique values of the images:\n",
    "n = extdata_df['gcs_path'].unique().shape[0]\n",
    "print('Number of unique images in \"gcs_path\" column: {:d}'.format(n))\n",
    "\n",
    "# How many patents are from US and how many from EU?\n",
    "print('Number of patents per issuer: US/EU')\n",
    "print(extdata_df['issuer'].value_counts())\n",
    "\n",
    "# How many patents are from language?\n",
    "print('Number of patents per language')\n",
    "print(extdata_df['language'].value_counts())\n",
    "\n",
    "\n"
   ]
  },
  {
   "cell_type": "code",
   "execution_count": 71,
   "id": "21782c5b",
   "metadata": {},
   "outputs": [
    {
     "name": "stdout",
     "output_type": "stream",
     "text": [
      "                                             gcs_path language     class_us class_international application_number\n",
      "163  gs://gcs-public-data--labeled-patents/us_006.pdf       EN    H04W 4/12           H04W 4/00         14/619,918\n",
      "164  gs://gcs-public-data--labeled-patents/us_009.pdf       EN   H04S 7/303           H04R 5/02         15/568,451\n",
      "165  gs://gcs-public-data--labeled-patents/us_007.pdf       EN   H04W 4/043          H04W 24/00         15/263,314\n",
      "166  gs://gcs-public-data--labeled-patents/us_001.pdf       EN  H04W 64/003          H04W 64/00         15/679,694\n",
      "167  gs://gcs-public-data--labeled-patents/us_005.pdf       EN    H04W 4/80           H04W 4/80         15/625,786\n",
      "                                             gcs_path language class_us class_international application_number\n",
      "63  gs://gcs-public-data--labeled-patents/espacene...       EN     None          H04L 12/28         16924214.6\n",
      "64  gs://gcs-public-data--labeled-patents/espacene...       EN     None           G06F 3/14         17882267.2\n",
      "65  gs://gcs-public-data--labeled-patents/espacene...       EN     None           H04W 4/02         18182855.9\n",
      "66  gs://gcs-public-data--labeled-patents/espacene...       EN     None           H04B 7/26           18179975\n",
      "67  gs://gcs-public-data--labeled-patents/espacene...       EN     None          H04W 48/14         18178774.8\n",
      "                                              gcs_path language class_us class_international application_number\n",
      "260  gs://gcs-public-data--labeled-patents/espacene...       FR     None          H04B 17/00         14200286.4\n",
      "261  gs://gcs-public-data--labeled-patents/espacene...       FR     None          C12N 5/074         17305082.4\n",
      "262  gs://gcs-public-data--labeled-patents/espacene...       FR     None          G06F 13/38         17168363.4\n",
      "263  gs://gcs-public-data--labeled-patents/espacene...       FR     None          H04L 12/24         15182164.2\n",
      "264  gs://gcs-public-data--labeled-patents/espacene...       FR     None           H04L 9/00         17153545.3\n",
      "                                            gcs_path language class_us class_international application_number\n",
      "0  gs://gcs-public-data--labeled-patents/espacene...       DE     None           E04H 6/12         18157874.1\n",
      "1  gs://gcs-public-data--labeled-patents/espacene...       DE     None          H01L 21/20         18166536.5\n",
      "2  gs://gcs-public-data--labeled-patents/espacene...       DE     None           G09B 9/04         18162935.3\n",
      "3  gs://gcs-public-data--labeled-patents/espacene...       DE     None           H05B 6/12         18165514.3\n",
      "4  gs://gcs-public-data--labeled-patents/espacene...       DE     None           H05B 6/12         18165513.5\n"
     ]
    }
   ],
   "source": [
    "# How format of some entities change depending on US/EU and language?\n",
    "samp_n = 5\n",
    "cols = ['gcs_path', 'language', 'class_us', 'class_international', 'application_number']\n",
    "\n",
    "# Sample of US patents:\n",
    "filtidx = extdata_df['issuer']=='US'\n",
    "print(extdata_df.loc[filtidx, cols].head(samp_n))\n",
    "\n",
    "# Sample of EU patents in English:\n",
    "filtidx = (extdata_df['issuer']=='EU') & (extdata_df['language']=='EN')\n",
    "print(extdata_df.loc[filtidx, cols].head(samp_n))\n",
    "                         \n",
    "# Sample of EU patents in French:\n",
    "filtidx = (extdata_df['issuer']=='EU') & (extdata_df['language']=='FR')\n",
    "print(extdata_df.loc[filtidx, cols].head(samp_n))\n",
    "\n",
    "# Sample of EU patents in German:\n",
    "filtidx = (extdata_df['issuer']=='EU') & (extdata_df['language']=='DE')\n",
    "print(extdata_df.loc[filtidx, cols].head(samp_n))\n"
   ]
  },
  {
   "cell_type": "code",
   "execution_count": 31,
   "id": "78862c33",
   "metadata": {},
   "outputs": [
    {
     "data": {
      "text/html": [
       "<div>\n",
       "<style scoped>\n",
       "    .dataframe tbody tr th:only-of-type {\n",
       "        vertical-align: middle;\n",
       "    }\n",
       "\n",
       "    .dataframe tbody tr th {\n",
       "        vertical-align: top;\n",
       "    }\n",
       "\n",
       "    .dataframe thead th {\n",
       "        text-align: right;\n",
       "    }\n",
       "</style>\n",
       "<table border=\"1\" class=\"dataframe\">\n",
       "  <thead>\n",
       "    <tr style=\"text-align: right;\">\n",
       "      <th></th>\n",
       "      <th>gcs_path</th>\n",
       "      <th>issuer</th>\n",
       "      <th>language</th>\n",
       "      <th>publication_date</th>\n",
       "      <th>class_international</th>\n",
       "      <th>class_us</th>\n",
       "      <th>application_number</th>\n",
       "      <th>filing_date</th>\n",
       "      <th>priority_date_eu</th>\n",
       "      <th>representative_line_1_eu</th>\n",
       "      <th>applicant_line_1</th>\n",
       "      <th>inventor_line_1</th>\n",
       "      <th>title_line_1</th>\n",
       "      <th>number</th>\n",
       "    </tr>\n",
       "  </thead>\n",
       "  <tbody>\n",
       "    <tr>\n",
       "      <th>count</th>\n",
       "      <td>343</td>\n",
       "      <td>343</td>\n",
       "      <td>343</td>\n",
       "      <td>343</td>\n",
       "      <td>343</td>\n",
       "      <td>97</td>\n",
       "      <td>343</td>\n",
       "      <td>343</td>\n",
       "      <td>210</td>\n",
       "      <td>217</td>\n",
       "      <td>343</td>\n",
       "      <td>343</td>\n",
       "      <td>343</td>\n",
       "      <td>343</td>\n",
       "    </tr>\n",
       "    <tr>\n",
       "      <th>unique</th>\n",
       "      <td>343</td>\n",
       "      <td>2</td>\n",
       "      <td>3</td>\n",
       "      <td>80</td>\n",
       "      <td>251</td>\n",
       "      <td>82</td>\n",
       "      <td>343</td>\n",
       "      <td>297</td>\n",
       "      <td>175</td>\n",
       "      <td>136</td>\n",
       "      <td>210</td>\n",
       "      <td>328</td>\n",
       "      <td>338</td>\n",
       "      <td>343</td>\n",
       "    </tr>\n",
       "    <tr>\n",
       "      <th>top</th>\n",
       "      <td>gs://gcs-public-data--labeled-patents/espacene...</td>\n",
       "      <td>EU</td>\n",
       "      <td>EN</td>\n",
       "      <td>Nov. 27, 2018</td>\n",
       "      <td>G06K 9/00</td>\n",
       "      <td>H04W 48/18</td>\n",
       "      <td>18157874.1</td>\n",
       "      <td>22.03.2018</td>\n",
       "      <td>30.03.2017</td>\n",
       "      <td>Regimbeau</td>\n",
       "      <td>Samsung Electronics Co., Ltd.</td>\n",
       "      <td>ROUH, Alain</td>\n",
       "      <td>VORRICHTUNG ZUR INDUKTIVEN ENERGIE√úBERTRAGUNG</td>\n",
       "      <td>EP 3 366 869 A1</td>\n",
       "    </tr>\n",
       "    <tr>\n",
       "      <th>freq</th>\n",
       "      <td>1</td>\n",
       "      <td>246</td>\n",
       "      <td>197</td>\n",
       "      <td>86</td>\n",
       "      <td>10</td>\n",
       "      <td>3</td>\n",
       "      <td>1</td>\n",
       "      <td>5</td>\n",
       "      <td>5</td>\n",
       "      <td>12</td>\n",
       "      <td>15</td>\n",
       "      <td>4</td>\n",
       "      <td>2</td>\n",
       "      <td>1</td>\n",
       "    </tr>\n",
       "  </tbody>\n",
       "</table>\n",
       "</div>"
      ],
      "text/plain": [
       "                                                 gcs_path issuer language publication_date class_international    class_us application_number filing_date priority_date_eu representative_line_1_eu               applicant_line_1 inventor_line_1                                    title_line_1           number\n",
       "count                                                 343    343      343              343                 343          97                343         343              210                      217                            343             343                                             343              343\n",
       "unique                                                343      2        3               80                 251          82                343         297              175                      136                            210             328                                             338              343\n",
       "top     gs://gcs-public-data--labeled-patents/espacene...     EU       EN    Nov. 27, 2018           G06K 9/00  H04W 48/18         18157874.1  22.03.2018       30.03.2017                Regimbeau  Samsung Electronics Co., Ltd.     ROUH, Alain  VORRICHTUNG ZUR INDUKTIVEN ENERGIE√úBERTRAGUNG  EP 3 366 869 A1\n",
       "freq                                                    1    246      197               86                  10           3                  1           5                5                       12                             15               4                                               2                1"
      ]
     },
     "execution_count": 31,
     "metadata": {},
     "output_type": "execute_result"
    }
   ],
   "source": [
    "extdata_df.describe()"
   ]
  },
  {
   "cell_type": "code",
   "execution_count": 32,
   "id": "4185fa69",
   "metadata": {},
   "outputs": [
    {
     "data": {
      "text/plain": [
       "gcs_path                      0\n",
       "issuer                        0\n",
       "language                      0\n",
       "publication_date              0\n",
       "class_international           0\n",
       "class_us                    246\n",
       "application_number            0\n",
       "filing_date                   0\n",
       "priority_date_eu            133\n",
       "representative_line_1_eu    126\n",
       "applicant_line_1              0\n",
       "inventor_line_1               0\n",
       "title_line_1                  0\n",
       "number                        0\n",
       "dtype: int64"
      ]
     },
     "execution_count": 32,
     "metadata": {},
     "output_type": "execute_result"
    }
   ],
   "source": [
    "extdata_df.isnull().sum()"
   ]
  },
  {
   "cell_type": "code",
   "execution_count": 43,
   "id": "bb52d9c1",
   "metadata": {},
   "outputs": [
    {
     "data": {
      "text/plain": [
       "(97, 14)"
      ]
     },
     "execution_count": 43,
     "metadata": {},
     "output_type": "execute_result"
    }
   ],
   "source": [
    "filtidx = extdata_df['issuer']=='US'\n",
    "extdata_df.loc[extdata_df['issuer']=='US'].shape"
   ]
  },
  {
   "cell_type": "code",
   "execution_count": 49,
   "id": "4ebc00c5",
   "metadata": {},
   "outputs": [
    {
     "data": {
      "text/html": [
       "<div>\n",
       "<style scoped>\n",
       "    .dataframe tbody tr th:only-of-type {\n",
       "        vertical-align: middle;\n",
       "    }\n",
       "\n",
       "    .dataframe tbody tr th {\n",
       "        vertical-align: top;\n",
       "    }\n",
       "\n",
       "    .dataframe thead th {\n",
       "        text-align: right;\n",
       "    }\n",
       "</style>\n",
       "<table border=\"1\" class=\"dataframe\">\n",
       "  <thead>\n",
       "    <tr style=\"text-align: right;\">\n",
       "      <th></th>\n",
       "      <th>gcs_path</th>\n",
       "      <th>issuer</th>\n",
       "      <th>language</th>\n",
       "      <th>publication_date</th>\n",
       "      <th>class_international</th>\n",
       "      <th>class_us</th>\n",
       "      <th>application_number</th>\n",
       "      <th>filing_date</th>\n",
       "      <th>priority_date_eu</th>\n",
       "      <th>representative_line_1_eu</th>\n",
       "      <th>applicant_line_1</th>\n",
       "      <th>inventor_line_1</th>\n",
       "      <th>title_line_1</th>\n",
       "      <th>number</th>\n",
       "    </tr>\n",
       "  </thead>\n",
       "  <tbody>\n",
       "    <tr>\n",
       "      <th>170</th>\n",
       "      <td>gs://gcs-public-data--labeled-patents/us_006.pdf</td>\n",
       "      <td>US</td>\n",
       "      <td>EN</td>\n",
       "      <td>Nov. 20, 2018</td>\n",
       "      <td>H04W 4/00</td>\n",
       "      <td>H04W 4/12</td>\n",
       "      <td>14/619,918</td>\n",
       "      <td>Feb. 11, 2015</td>\n",
       "      <td>None</td>\n",
       "      <td>None</td>\n",
       "      <td>Facebook, Inc.</td>\n",
       "      <td>Eran Tal</td>\n",
       "      <td>DEVICE ACTIONS BASED ON</td>\n",
       "      <td>US 10,136,267 B2</td>\n",
       "    </tr>\n",
       "  </tbody>\n",
       "</table>\n",
       "</div>"
      ],
      "text/plain": [
       "                                             gcs_path issuer language publication_date class_international   class_us application_number    filing_date priority_date_eu representative_line_1_eu applicant_line_1 inventor_line_1             title_line_1            number\n",
       "170  gs://gcs-public-data--labeled-patents/us_006.pdf     US       EN    Nov. 20, 2018           H04W 4/00  H04W 4/12         14/619,918  Feb. 11, 2015             None                     None   Facebook, Inc.        Eran Tal  DEVICE ACTIONS BASED ON  US 10,136,267 B2"
      ]
     },
     "execution_count": 49,
     "metadata": {},
     "output_type": "execute_result"
    }
   ],
   "source": [
    "file_path = \"gs://gcs-public-data--labeled-patents/us_006.pdf\"\n",
    "\n",
    "extdata_df[extdata_df['gcs_path'] == file_path ]"
   ]
  },
  {
   "cell_type": "code",
   "execution_count": 50,
   "id": "87889995",
   "metadata": {},
   "outputs": [
    {
     "data": {
      "text/html": [
       "<div>\n",
       "<style scoped>\n",
       "    .dataframe tbody tr th:only-of-type {\n",
       "        vertical-align: middle;\n",
       "    }\n",
       "\n",
       "    .dataframe tbody tr th {\n",
       "        vertical-align: top;\n",
       "    }\n",
       "\n",
       "    .dataframe thead th {\n",
       "        text-align: right;\n",
       "    }\n",
       "</style>\n",
       "<table border=\"1\" class=\"dataframe\">\n",
       "  <thead>\n",
       "    <tr style=\"text-align: right;\">\n",
       "      <th></th>\n",
       "      <th>gcs_path</th>\n",
       "      <th>issuer</th>\n",
       "      <th>language</th>\n",
       "      <th>publication_date</th>\n",
       "      <th>class_international</th>\n",
       "      <th>class_us</th>\n",
       "      <th>application_number</th>\n",
       "      <th>filing_date</th>\n",
       "      <th>priority_date_eu</th>\n",
       "      <th>representative_line_1_eu</th>\n",
       "      <th>applicant_line_1</th>\n",
       "      <th>inventor_line_1</th>\n",
       "      <th>title_line_1</th>\n",
       "      <th>number</th>\n",
       "    </tr>\n",
       "  </thead>\n",
       "  <tbody>\n",
       "    <tr>\n",
       "      <th>56</th>\n",
       "      <td>gs://gcs-public-data--labeled-patents/espacene...</td>\n",
       "      <td>EU</td>\n",
       "      <td>DE</td>\n",
       "      <td>29.08.2018</td>\n",
       "      <td>F04D 15/00</td>\n",
       "      <td>None</td>\n",
       "      <td>18000143</td>\n",
       "      <td>15.02.2018</td>\n",
       "      <td>23.02.2017</td>\n",
       "      <td>Cohausz Hannig Borkowski Wi√ügott</td>\n",
       "      <td>WILO SE</td>\n",
       "      <td>Huth, Christian</td>\n",
       "      <td>VERFAHREN ZUR BETRIEBSEINSTELLUNG EINES PUMPEN...</td>\n",
       "      <td>EP 3 366 925 A1</td>\n",
       "    </tr>\n",
       "  </tbody>\n",
       "</table>\n",
       "</div>"
      ],
      "text/plain": [
       "                                             gcs_path issuer language publication_date class_international class_us application_number filing_date priority_date_eu           representative_line_1_eu applicant_line_1  inventor_line_1                                       title_line_1           number\n",
       "56  gs://gcs-public-data--labeled-patents/espacene...     EU       DE       29.08.2018          F04D 15/00     None           18000143  15.02.2018       23.02.2017  Cohausz Hannig Borkowski Wi√ügott          WILO SE  Huth, Christian  VERFAHREN ZUR BETRIEBSEINSTELLUNG EINES PUMPEN...  EP 3 366 925 A1"
      ]
     },
     "execution_count": 50,
     "metadata": {},
     "output_type": "execute_result"
    }
   ],
   "source": [
    "file_path = \"gs://gcs-public-data--labeled-patents/espacenet_de1.pdf\"\n",
    "\n",
    "extdata_df[extdata_df['gcs_path'] == file_path ]"
   ]
  },
  {
   "cell_type": "code",
   "execution_count": 51,
   "id": "f520efc4",
   "metadata": {},
   "outputs": [
    {
     "data": {
      "text/html": [
       "<div>\n",
       "<style scoped>\n",
       "    .dataframe tbody tr th:only-of-type {\n",
       "        vertical-align: middle;\n",
       "    }\n",
       "\n",
       "    .dataframe tbody tr th {\n",
       "        vertical-align: top;\n",
       "    }\n",
       "\n",
       "    .dataframe thead th {\n",
       "        text-align: right;\n",
       "    }\n",
       "</style>\n",
       "<table border=\"1\" class=\"dataframe\">\n",
       "  <thead>\n",
       "    <tr style=\"text-align: right;\">\n",
       "      <th></th>\n",
       "      <th>gcs_path</th>\n",
       "      <th>issuer</th>\n",
       "      <th>language</th>\n",
       "      <th>publication_date</th>\n",
       "      <th>class_international</th>\n",
       "      <th>class_us</th>\n",
       "      <th>application_number</th>\n",
       "      <th>filing_date</th>\n",
       "      <th>priority_date_eu</th>\n",
       "      <th>representative_line_1_eu</th>\n",
       "      <th>applicant_line_1</th>\n",
       "      <th>inventor_line_1</th>\n",
       "      <th>title_line_1</th>\n",
       "      <th>number</th>\n",
       "    </tr>\n",
       "  </thead>\n",
       "  <tbody>\n",
       "    <tr>\n",
       "      <th>342</th>\n",
       "      <td>gs://gcs-public-data--labeled-patents/espacene...</td>\n",
       "      <td>EU</td>\n",
       "      <td>FR</td>\n",
       "      <td>31.10.2018</td>\n",
       "      <td>B61L 15/00</td>\n",
       "      <td>None</td>\n",
       "      <td>18169752.5</td>\n",
       "      <td>27.04.2018</td>\n",
       "      <td>27.04.2017</td>\n",
       "      <td>Lavoix</td>\n",
       "      <td>ALSTOM Transport Technologies</td>\n",
       "      <td>PRESTAIL, Andy</td>\n",
       "      <td>SYST√àME AM√âLIOR√â DE CONTR√îLE AUTOMATIQUE D...</td>\n",
       "      <td>EP 3 395 642 A1</td>\n",
       "    </tr>\n",
       "  </tbody>\n",
       "</table>\n",
       "</div>"
      ],
      "text/plain": [
       "                                              gcs_path issuer language publication_date class_international class_us application_number filing_date priority_date_eu representative_line_1_eu               applicant_line_1 inventor_line_1                                       title_line_1           number\n",
       "342  gs://gcs-public-data--labeled-patents/espacene...     EU       FR       31.10.2018          B61L 15/00     None         18169752.5  27.04.2018       27.04.2017                   Lavoix  ALSTOM Transport Technologies  PRESTAIL, Andy  SYST√àME AM√âLIOR√â DE CONTR√îLE AUTOMATIQUE D...  EP 3 395 642 A1"
      ]
     },
     "execution_count": 51,
     "metadata": {},
     "output_type": "execute_result"
    }
   ],
   "source": [
    "file_path = \"gs://gcs-public-data--labeled-patents/espacenet_fr3.pdf\"\n",
    "\n",
    "extdata_df[extdata_df['gcs_path'] == file_path ]"
   ]
  },
  {
   "cell_type": "code",
   "execution_count": 65,
   "id": "f540ebd6",
   "metadata": {},
   "outputs": [],
   "source": [
    "title = extdata_df.loc[extdata_df['gcs_path'] == file_path, \"title_line_1\"].values[0]"
   ]
  },
  {
   "cell_type": "code",
   "execution_count": 69,
   "id": "a78aecb0",
   "metadata": {},
   "outputs": [
    {
     "data": {
      "text/plain": [
       "'SYST√àME AM√âLIOR√â DE CONTR√îLE AUTOMATIQUE DES TRAINS ET PROC√âD√â ASSOCI√â'"
      ]
     },
     "execution_count": 69,
     "metadata": {},
     "output_type": "execute_result"
    }
   ],
   "source": [
    "title"
   ]
  },
  {
   "cell_type": "markdown",
   "id": "dfd15052",
   "metadata": {},
   "source": [
    "The table \"extracted_data\" has 343 rows (one per image). Each row contains the file name (and path) of the patent and the value of several entities of interest.\n",
    "\n",
    "In this table there are 246 patents from Europe and just 97 patents from the US. The distribution according to languages and issuer is shown next:\n",
    " - US-EN:  97 patents\n",
    " - EU-EN: 100 patents\n",
    " - EU-FR:  83 patents\n",
    " - EU-DE:  63 patents\n",
    "\n",
    "Another important aspect to take into account for entity extraction is that it seems that there is no rule that affects nor the application_number, neither the class_international depending on the issuer or language. Finally, another challenge will be distinguish between the \"class_international\" and \"class_us\" codes in the US patents, since it seems they have the same format."
   ]
  },
  {
   "cell_type": "markdown",
   "id": "0cb36ee7",
   "metadata": {},
   "source": [
    "# 4. Creating a Bucket to Store PDFs and CSVs"
   ]
  },
  {
   "cell_type": "code",
   "execution_count": 15,
   "id": "781631db",
   "metadata": {},
   "outputs": [
    {
     "name": "stdout",
     "output_type": "stream",
     "text": [
      "Bucket exists, let's not recreate it.\n",
      "Here are your current buckets:\n",
      "gs://artifacts.qwiklabs-gcp-00-373ac55d0e0a.appspot.com/\n",
      "gs://cloud-ai-platform-5ee6640e-459b-4d1b-9a88-a3561ab13547/\n",
      "gs://qwiklabs-gcp-00-373ac55d0e0a/\n",
      "gs://qwiklabs-gcp-00-373ac55d0e0a-kubeflowpipelines-default/\n",
      "gs://qwiklabs-gcp-00-373ac55d0e0a_cloudbuild/\n"
     ]
    }
   ],
   "source": [
    "%%bash\n",
    "## Create GCS bucket if it doesn't exist already...\n",
    "exists=$(gsutil ls -d | grep -w gs://${BUCKET}/)\n",
    "\n",
    "if [ -n \"$exists\" ]; then\n",
    "    echo -e \"Bucket exists, let's not recreate it.\"\n",
    "    echo \"Here are your current buckets:\"\n",
    "    gsutil ls\n",
    "else\n",
    "    echo \"Creating a new GCS bucket.\"\n",
    "    gsutil mb -l ${REGION} gs://${BUCKET}\n",
    "    echo \"Here are your current buckets:\"\n",
    "    gsutil ls\n",
    "fi"
   ]
  },
  {
   "cell_type": "code",
   "execution_count": 17,
   "id": "3ec5dcca",
   "metadata": {},
   "outputs": [
    {
     "data": {
      "text/plain": [
       "'qwiklabs-gcp-00-373ac55d0e0a'"
      ]
     },
     "execution_count": 17,
     "metadata": {},
     "output_type": "execute_result"
    }
   ],
   "source": []
  },
  {
   "cell_type": "markdown",
   "id": "785726dd",
   "metadata": {},
   "source": [
    "## 5. Copying the Patents PDFs into our Bucket and into Disk"
   ]
  },
  {
   "cell_type": "code",
   "execution_count": null,
   "id": "f1633b74",
   "metadata": {},
   "outputs": [],
   "source": [
    "BUCKET"
   ]
  },
  {
   "cell_type": "code",
   "execution_count": null,
   "id": "8de2a26e",
   "metadata": {},
   "outputs": [],
   "source": [
    "# Copying pdfs into the project bucket:\n",
    "!gsutil -m cp gs://gcs-public-data--labeled-patents/*.pdf  gs://qwiklabs-gcp-00-373ac55d0e0a/labeled_patents/pdf"
   ]
  },
  {
   "cell_type": "code",
   "execution_count": null,
   "id": "89796f26",
   "metadata": {},
   "outputs": [],
   "source": [
    "# Create first a \"dataset/pdf\" folder:\n",
    "import os\n",
    "if not os.path.exists(\"./dataset/\"):\n",
    "    os.mkdir(\"./dataset/\")\n",
    "if not os.path.exists(\"./dataset/pdf\"):\n",
    "    os.mkdir(\"./dataset/pdf\")\n",
    "!gsutil -m cp gs://qwiklabs-gcp-00-373ac55d0e0a/labeled_patents/pdf/*.pdf  ./dataset/pdf"
   ]
  },
  {
   "cell_type": "code",
   "execution_count": 77,
   "id": "0c75e7df",
   "metadata": {},
   "outputs": [],
   "source": [
    "import glob\n",
    "\n",
    "pdf_lst = glob.glob(\"./dataset/pdf/*.pdf\")"
   ]
  },
  {
   "cell_type": "code",
   "execution_count": 78,
   "id": "89b9d556",
   "metadata": {},
   "outputs": [
    {
     "name": "stdout",
     "output_type": "stream",
     "text": [
      "\u001b[33mWARNING: Ignoring invalid distribution -ensorflow-estimator (/opt/conda/lib/python3.7/site-packages)\u001b[0m\n",
      "\u001b[33mWARNING: Ignoring invalid distribution -ensorboard (/opt/conda/lib/python3.7/site-packages)\u001b[0m\n",
      "\u001b[33mWARNING: Ignoring invalid distribution -ensorflow-estimator (/opt/conda/lib/python3.7/site-packages)\u001b[0m\n",
      "\u001b[33mWARNING: Ignoring invalid distribution -ensorboard (/opt/conda/lib/python3.7/site-packages)\u001b[0m\n",
      "Requirement already satisfied: pdf2image in /opt/conda/lib/python3.7/site-packages (1.16.0)\n",
      "Requirement already satisfied: pillow in /opt/conda/lib/python3.7/site-packages (from pdf2image) (8.3.1)\n",
      "\u001b[33mWARNING: Ignoring invalid distribution -ensorflow-estimator (/opt/conda/lib/python3.7/site-packages)\u001b[0m\n",
      "\u001b[33mWARNING: Ignoring invalid distribution -ensorboard (/opt/conda/lib/python3.7/site-packages)\u001b[0m\n",
      "\u001b[33mWARNING: Ignoring invalid distribution -ensorflow-estimator (/opt/conda/lib/python3.7/site-packages)\u001b[0m\n",
      "\u001b[33mWARNING: Ignoring invalid distribution -ensorboard (/opt/conda/lib/python3.7/site-packages)\u001b[0m\n",
      "\u001b[33mWARNING: Ignoring invalid distribution -ensorflow-estimator (/opt/conda/lib/python3.7/site-packages)\u001b[0m\n",
      "\u001b[33mWARNING: Ignoring invalid distribution -ensorboard (/opt/conda/lib/python3.7/site-packages)\u001b[0m\n",
      "\u001b[33mWARNING: Ignoring invalid distribution -ensorflow-estimator (/opt/conda/lib/python3.7/site-packages)\u001b[0m\n",
      "\u001b[33mWARNING: Ignoring invalid distribution -ensorboard (/opt/conda/lib/python3.7/site-packages)\u001b[0m\n"
     ]
    }
   ],
   "source": [
    "!pip install pdf2image\n",
    "\n",
    "import cv2\n",
    "from pdf2image import convert_from_path"
   ]
  },
  {
   "cell_type": "code",
   "execution_count": 87,
   "id": "690fcd94",
   "metadata": {},
   "outputs": [
    {
     "name": "stdout",
     "output_type": "stream",
     "text": [
      "[<PIL.PpmImagePlugin.PpmImageFile image mode=RGB size=1653x2328 at 0x7F0FD7745890>]\n"
     ]
    }
   ],
   "source": [
    "path = r'./dataset/pdf/espacenet_en66.pdf'\n",
    "page_lst = convert_from_path(path)\n",
    "print(page_lst)"
   ]
  },
  {
   "cell_type": "code",
   "execution_count": 89,
   "id": "49037093",
   "metadata": {},
   "outputs": [
    {
     "name": "stdout",
     "output_type": "stream",
     "text": [
      "Image dimensions: 2328x1653\n",
      "Image pixel max. value: 255.00\n",
      "Image pixel min. value: 0.00\n"
     ]
    }
   ],
   "source": [
    "for img in page_lst:\n",
    "    img = np.array(img)\n",
    "    img = cv2.cvtColor(img, cv2.COLOR_BGR2RGB)\n",
    "    img = cv2.cvtColor(img, cv2.COLOR_RGB2GRAY)\n",
    "    \n",
    "print('Image dimensions: {:d}x{:d}'.format(*img.shape))\n",
    "print('Image pixel max. value: {:2.2f}'.format(img.max()))\n",
    "print('Image pixel min. value: {:2.2f}'.format(img.min()))"
   ]
  },
  {
   "cell_type": "code",
   "execution_count": 93,
   "id": "cfbf8175",
   "metadata": {},
   "outputs": [
    {
     "name": "stdout",
     "output_type": "stream",
     "text": [
      "width: 1653, height: 2328\n"
     ]
    }
   ],
   "source": [
    "# figures_df.loc[0, \"gcs_path\"]\n",
    "figures_df.loc[0]\n",
    "x_relative_min = figures_df.loc[0, \"x_relative_min\"]\n",
    "y_relative_min = figures_df.loc[0, \"y_relative_min\"]\n",
    "x_relative_max = figures_df.loc[0, \"x_relative_max\"]\n",
    "y_relative_max = figures_df.loc[0, \"y_relative_max\"]\n",
    "width = img.shape[1]\n",
    "height = img.shape[0]\n",
    "print(f\"width: {width}, height: {height}\")"
   ]
  },
  {
   "cell_type": "code",
   "execution_count": 90,
   "id": "7fb12617",
   "metadata": {},
   "outputs": [
    {
     "data": {
      "text/plain": [
       "(-0.5, 1652.5, 2327.5, -0.5)"
      ]
     },
     "execution_count": 90,
     "metadata": {},
     "output_type": "execute_result"
    },
    {
     "data": {
      "image/png": "[encoded data removed]",
      "text/plain": [
       "<Figure size 864x576 with 1 Axes>"
      ]
     },
     "metadata": {
      "needs_background": "light"
     },
     "output_type": "display_data"
    }
   ],
   "source": [
    "h_fig = 12\n",
    "w_fig = int(h_fig * img.shape[1] / img.shape[0])\n",
    "plt.figure(figsize=(h_fig, w_fig))\n",
    "plt.imshow(img, cmap='gray')\n",
    "plt.axis('off')"
   ]
  },
  {
   "cell_type": "code",
   "execution_count": 103,
   "id": "97ce7d96",
   "metadata": {},
   "outputs": [
    {
     "name": "stdout",
     "output_type": "stream",
     "text": [
      "(588, 1734) (1106, 2180)\n"
     ]
    },
    {
     "data": {
      "text/plain": [
       "(-0.5, 1652.5, 2327.5, -0.5)"
      ]
     },
     "execution_count": 103,
     "metadata": {},
     "output_type": "execute_result"
    },
    {
     "data": {
      "image/png": "[encoded data removed]",
      "text/plain": [
       "<Figure size 864x576 with 1 Axes>"
      ]
     },
     "metadata": {
      "needs_background": "light"
     },
     "output_type": "display_data"
    }
   ],
   "source": [
    "start_point = (int(x_relative_min*width), int(y_relative_min*height))\n",
    "end_point = (int(x_relative_max*width), int(y_relative_max*height))\n",
    "\n",
    "image_rectangle = cv2.rectangle(img, \\\n",
    "        start_point, \\\n",
    "        end_point, \\\n",
    "        color=0 , thickness=10)\n",
    "\n",
    "print(start_point, end_point)\n",
    "\n",
    "h_fig = 12\n",
    "w_fig = int(h_fig * img.shape[1] / img.shape[0])\n",
    "plt.figure(figsize=(h_fig, w_fig))\n",
    "plt.imshow(image_rectangle, cmap='gray')\n",
    "plt.axis('off')"
   ]
  },
  {
   "cell_type": "code",
   "execution_count": null,
   "id": "5e4cface",
   "metadata": {},
   "outputs": [],
   "source": []
  },
  {
   "cell_type": "markdown",
   "id": "047d91f0",
   "metadata": {},
   "source": [
    "### X.X. Export from BigQuery to CSVs in GCS"
   ]
  },
  {
   "cell_type": "code",
   "execution_count": null,
   "id": "7a279ff6",
   "metadata": {},
   "outputs": [],
   "source": [
    "# Construct a BigQuery client object.\n",
    "client = bigquery.Client()\n",
    "\n",
    "dataset_name = \"babyweight\"\n",
    "\n",
    "# Create dataset reference object\n",
    "dataset_ref = client.dataset(\n",
    "    dataset_id=dataset_name, project=client.project)\n",
    "\n",
    "# Export both train and eval tables\n",
    "for step in [\"train\", \"eval\"]:\n",
    "    destination_uri = os.path.join(\n",
    "        \"gs://\", BUCKET, dataset_name, \"data\", \"{}*.csv\".format(step))\n",
    "    table_name = \"babyweight_data_{}\".format(step)\n",
    "    table_ref = dataset_ref.table(table_name)\n",
    "    extract_job = client.extract_table(\n",
    "        table_ref,\n",
    "        destination_uri,\n",
    "        # Location must match that of the source table.\n",
    "        location=\"US\",\n",
    "    )  # API request\n",
    "    extract_job.result()  # Waits for job to complete.\n",
    "\n",
    "    print(\"Exported {}:{}.{} to {}\".format(\n",
    "        client.project, dataset_name, table_name, destination_uri))"
   ]
  },
  {
   "cell_type": "code",
   "execution_count": null,
   "id": "b721c5c7",
   "metadata": {},
   "outputs": [],
   "source": []
  },
  {
   "cell_type": "code",
   "execution_count": null,
   "id": "30f339d7",
   "metadata": {},
   "outputs": [],
   "source": []
  },
  {
   "cell_type": "code",
   "execution_count": 4,
   "id": "10bb76fe",
   "metadata": {},
   "outputs": [],
   "source": []
  },
  {
   "cell_type": "code",
   "execution_count": null,
   "id": "f0785025",
   "metadata": {},
   "outputs": [],
   "source": []
  },
  {
   "cell_type": "code",
   "execution_count": null,
   "id": "65a7917f",
   "metadata": {},
   "outputs": [],
   "source": []
  },
  {
   "cell_type": "code",
   "execution_count": null,
   "id": "f80d0e75",
   "metadata": {},
   "outputs": [],
   "source": []
  },
  {
   "cell_type": "code",
   "execution_count": null,
   "id": "382eca3e",
   "metadata": {},
   "outputs": [],
   "source": []
  }
 ],
 "metadata": {
  "environment": {
   "name": "tf2-gpu.2-5.m75",
   "type": "gcloud",
   "uri": "gcr.io/deeplearning-platform-release/tf2-gpu.2-5:m75"
  },
  "kernelspec": {
   "display_name": "Python 3",
   "language": "python",
   "name": "python3"
  },
  "language_info": {
   "codemirror_mode": {
    "name": "ipython",
    "version": 3
   },
   "file_extension": ".py",
   "mimetype": "text/x-python",
   "name": "python",
   "nbconvert_exporter": "python",
   "pygments_lexer": "ipython3",
   "version": "3.7.10"
  }
 },
 "nbformat": 4,
 "nbformat_minor": 5
}
